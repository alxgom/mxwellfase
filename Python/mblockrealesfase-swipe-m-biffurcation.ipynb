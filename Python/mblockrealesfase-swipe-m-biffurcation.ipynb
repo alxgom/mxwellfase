{
 "cells": [
  {
   "cell_type": "markdown",
   "metadata": {},
   "source": [
    "# Solver for the Maxwell-bloch equations w/ phase modulation (modulation swipe).\n",
    "\n",
    "***"
   ]
  },
  {
   "cell_type": "markdown",
   "metadata": {},
   "source": [
    "## Equations:\n",
    "\n",
    "Maxwell-bloch equation, after aproximations, with external phase modulation for $E_y$\n",
    "\n",
    "$\n",
    "\\begin{cases}\n",
    "\\partial_{\\tau} E_x=-k E_x + \\mu P_x \\\\\n",
    "\\partial_{\\tau} E_y=-k E_y + \\mu P_y + i.(\\Delta \\phi_0 + m.cos(w_{mod}.\\tau)).E_x \\\\\n",
    "\\partial_{\\tau} P_{x,y}=-(1+i\\delta)P_{x,y}+E_{x,y}.D \\\\\n",
    "\\partial_{\\tau} D=-\\gamma_{||}(D-D_0+\\tfrac{1}{2}(E^*_{x,y}P_{x,y}+E_{x,y}P^*_{x,y})) \\\\\n",
    "\\end{cases}\n",
    "$\n",
    "\n",
    "\n",
    "with $ E_{x,y}$ and $P_{x,y}$  $\\in \\mathbb{C}$\n",
    "\n",
    "##### Normalizations made: \n",
    "$\\tau= \\gamma_{\\bot}.t$, $k=\\tfrac{\\bar{k}}{\\gamma_{\\bot}}$,  $\\gamma_{\\parallel}=\\tfrac{\\bar{\\gamma_{\\parallel}}}{\\gamma_{\\bot}}$, $\\eta=\\tfrac{z}{L}$, $\\delta'_{ac}=\\tfrac{w_a-w_0}{\\gamma_{\\bot}}$\n",
    "\n",
    "\n",
    "##### Aproximations: \n",
    "\n",
    "1-$k,\\gamma_{\\parallel}<<\\gamma_{\\bot}$   -- Homogenously broadened laser linewidth $ \\nabla^2 E-\\frac{1}{c^2}\\partial_{t^2}E=\\alpha \\partial_{t^2}E$\n",
    "\n",
    "2-Plane wave: $\\nabla^2_{\\bot}=0$\n",
    "\n",
    "3-Two level medium\n",
    "\n",
    "4-Slowly varying amplitud\n",
    "\n",
    "5-Unidirectional field\n",
    "\n",
    "6-Rotating wave approx $\\partial_{t^2}<<\\partial_t$\n",
    "\n",
    "7-Single longitudinal mode\n",
    "\n",
    "8-$g'->0$, $R_0->1$  -- Uniform field limit\n",
    "\n",
    "9-$m$,$w_{mod}<<1$, $w_{mod}<<\\gamma_{\\bot}$  ..chequear.."
   ]
  },
  {
   "cell_type": "code",
   "execution_count": 27,
   "metadata": {
    "collapsed": false
   },
   "outputs": [],
   "source": [
    "# -*- coding: utf-8 -*-\n",
    "\"\"\"\n",
    "Created on Tue Nov 24 17:05:30 2015\n",
    "\n",
    "@author: Alexis\n",
    "\"\"\"\n",
    "import numpy as np\n",
    "#import scipy as sc\n",
    "#import matplotlib\n",
    "import matplotlib.pyplot as plt\n",
    "#from scipy.integrate import odeint\n",
    "#from numpy import linspace\n",
    "#import math\n",
    "#from matplotlib.collections import LineCollection\n",
    "from comparefase import comparembfase\n",
    "from intmbfase import intmbfase as int\n",
    "#import datetime as dt\n",
    "from time import localtime\n",
    "#import time, sys\n",
    "#import mpld3\n",
    "from scipy.signal import argrelextrema\n",
    "from numba import autojit\n",
    "\n",
    "%matplotlib inline\n",
    "\n",
    "\n",
    "'''---- |2>\n",
    "    ||\n",
    "    || R21\n",
    "    ||\n",
    "   ---- |1>'''\n",
    "\n",
    "plt.ion()\n",
    "pi=np.pi #defino pi\n"
   ]
  },
  {
   "cell_type": "markdown",
   "metadata": {},
   "source": [
    "### Parameters"
   ]
  },
  {
   "cell_type": "code",
   "execution_count": 39,
   "metadata": {
    "collapsed": true
   },
   "outputs": [],
   "source": [
    "'''parameters for normalization'''\n",
    "a=2\n",
    "gperp=10**8. #gamma perpendicular, loss rate\n",
    "scale=1*(10.**6)/gperp #scale to micro seconds\n",
    "wscale=1000*gperp/(10.**6)#scale frequency to khz"
   ]
  },
  {
   "cell_type": "code",
   "execution_count": 40,
   "metadata": {
    "collapsed": false
   },
   "outputs": [],
   "source": [
    "'''parameters for the equation'''\n",
    "k=0.9*10.**7/gperp #normalized loss rate\n",
    "mu=.25*10**(-4) #g\n",
    "Dphi0=0.0 #phase shift [-pi,pi]\n",
    "d=1.0 #detuning\n",
    "g=2.5*10.**4/gperp #*((2*pi)**2) #sigma parallel, normalized loss rate\n",
    "D0=a*k/mu #Poblation\n",
    "wf=0.00474342\n",
    "\n",
    "'''parameters to compare with the results'''\n",
    "w_res=np.sqrt(k*g*((D0*mu/k)-1.))*wscale #resonance frequency\n",
    "a=D0*mu/k\n",
    "w=np.sqrt(k*g*(a-1.)-(g*g*a*a)/4)*wscale #Relaxation oscilations frequency\n"
   ]
  },
  {
   "cell_type": "markdown",
   "metadata": {},
   "source": [
    "swiping parameter: m\n"
   ]
  },
  {
   "cell_type": "code",
   "execution_count": 56,
   "metadata": {
    "collapsed": false
   },
   "outputs": [
    {
     "name": "stdout",
     "output_type": "stream",
     "text": [
      "0.0015\n"
     ]
    }
   ],
   "source": [
    "mmin=0.02\n",
    "mmax=0.023\n",
    "mn=np.arange(mmin, mmax+(mmax-mmin)/2. , (mmax-mmin)/2.) #10 pasos entre la resonancia y 0.1*resonancia\n",
    "print mn[1]-mn[0]\n"
   ]
  },
  {
   "cell_type": "markdown",
   "metadata": {
    "collapsed": false
   },
   "source": [
    "mmin=0.04\n",
    "mmax=0.05\n",
    "mn=np.arange(0., 1+(1)/60. , 1/60.) #n evenly paced steps between 0 and 1.\n",
    "steep=1.\n",
    "plt.plot(mn,np.arctan(steep*mn),'.b')\n",
    "mn=np.arctan(steep*mn) #non linear distribution of parameter\n",
    "mn=((mmax-mmin)/(pi/2)*mn+mmin) #normalize to the min  and max values i want to use\n",
    "fig=plt.figure()\n",
    "plt.plot(mn,np.zeros_like(mn),'.b')\n",
    "plt.xlabel('m')\n"
   ]
  },
  {
   "cell_type": "markdown",
   "metadata": {},
   "source": [
    "## Initial conditions, Integration and variables"
   ]
  },
  {
   "cell_type": "code",
   "execution_count": 57,
   "metadata": {
    "collapsed": true
   },
   "outputs": [],
   "source": [
    "#Function for initializing simulations after the transition\n",
    "def  initial(init):\n",
    "    intime=500.*20*10**(-6)*gperp #integration time FOR TRANDITORY\n",
    "    if init=='new':\n",
    "        '''User defined initial condition'''\n",
    "        timeinit = np.arange(0., intime, 1.)\n",
    "        dfxinit=[1., 1.] \n",
    "        dfyinit=[1.,  -1.9]  \n",
    "        drxinit=[1.,   1.]\n",
    "        dryinit=[1.,  -1.9] \n",
    "        ddeltainit=[6.65973518e+03]\n",
    "        yinit=np.array(dfxinit+dfyinit+drxinit+dryinit+ddeltainit)\n",
    "    if init=='l':\n",
    "        '''initial condition from last simulation'''\n",
    "        timeinit = np.arange(time[-1] ,intime*6/20+time[-1] , 1.)\n",
    "        yinit=y[-1]\n",
    "    return yinit, timeinit\n",
    "    \n"
   ]
  },
  {
   "cell_type": "code",
   "execution_count": 63,
   "metadata": {
    "collapsed": false
   },
   "outputs": [
    {
     "name": "stdout",
     "output_type": "stream",
     "text": [
      "1\n",
      "[-0.089974999999999999, -0.089974999999999999, -0.051975, 0.19095249999999997, 6659.7351799999997, 6657.7351799999997, 6656.83518, -12652.596841999999, 0.13341370499999985]\n",
      "[6.1439054647921732e-06, -7.2764205590257719e-06, -0.024424910803864879, 0.015685427839531078, -0.0019332866915183766, -0.046146994352669335, -34.950657209838027, 138.69678349207697, -0.035426575855983689]\n",
      "2\n",
      "[-0.089974999999999999, -0.089974999999999999, -0.049125000000000002, 0.19245249999999997, 6659.7351799999997, 6657.7351799999997, 6656.83518, -12652.596841999999, 0.13341370499999985]\n",
      "[1.7306146332011456e-06, 1.1454491855647826e-06, 0.020351926340387197, -0.0065620158622407086, 0.010017619620921583, -0.0015918134583850496, 51.516275752227102, -93.039056416191215, 0.034701643867847506]\n",
      "3\n",
      "[-0.089974999999999999, -0.089974999999999999, -0.046275000000000011, 0.19395249999999997, 6659.7351799999997, 6657.7351799999997, 6656.83518, -12652.596841999999, 0.13341370499999985]\n",
      "[1.3444101199360792e-07, 7.8850063520515352e-07, -0.023853428745166792, 0.015512498024738777, 0.0030593103230541902, 0.002367362583094109, -33.316266603336771, 136.31994487446264, -0.042035398272299775]\n",
      "4\n",
      "[-0.089974999999999999, -0.089974999999999999, -0.043425000000000012, 0.19545249999999997, 6659.7351799999997, 6657.7351799999997, 6656.83518, -12652.596841999999, 0.13341370499999985]\n",
      "[-1.1141140125506698e-07, -6.5008731418597859e-08, 0.012999682558605015, 0.013187142574262085, -0.00061669941310142987, 0.0001339862502102631, 92.473097668242872, 3.5255305638254413, 0.051802160263832803]\n"
     ]
    },
    {
     "data": {
      "image/png": "[encoded data removed]",
      "text/plain": [
       "<matplotlib.figure.Figure at 0x27aef6a0>"
      ]
     },
     "metadata": {},
     "output_type": "display_data"
    }
   ],
   "source": [
    "steps=2#number of iterations\n",
    "peaks=[[0], [0]]\n",
    "count=0\n",
    "for m in mn:  #loop for frequencys\n",
    "    wf_real=wf*wscale\n",
    "    count=count+1\n",
    "    print count\n",
    "    for i in range(steps): #for each freq, integrete some time, and then integrate again using the last result as initial condition\n",
    "        '''initial conditions'''\n",
    "        if i==0:\n",
    "            yinit, time=initial('new')\n",
    "        if i==1:\n",
    "            yinit, time=initial('l')\n",
    "        '''integration'''\n",
    "        y, time=int(yinit,time,k,mu,Dphi0,d,g,D0,m,wf)\n",
    "    '''intensitys'''\n",
    "    intensity_ex=np.sqrt(y[:,0]**2+y[:,1]**2)\n",
    "    intensity_ey=np.sqrt(y[:,2]**2+y[:,3]**2)\n",
    "    intensity=np.sqrt(y[:,0]**2+y[:,1]**2+y[:,2]**2+y[:,3]**2)\n",
    "    '''peaks'''\n",
    "#    peak_coor=argrelextrema(intensity, np.greater)#find peaks index\n",
    "    peak_max=list(set(intensity[argrelextrema(intensity, np.greater)[0]]))#intensity peaks\n",
    "    m_peaks=list(m*np.ones_like(peak_max))#vector or m, the same lenght as peak_max\n",
    "    peaks[0]=peaks[0]+m_peaks\n",
    "    peaks[1]=peaks[1]+peak_max\n",
    "    \n",
    "'''plots'''\n",
    "save=True #set True if i want to save files automatically\n",
    "       \n",
    "fig_bif=plt.figure()\n",
    "fig_bif.suptitle('max peaks vs m', fontsize=12, fontweight='bold')\n",
    "ax2 = fig_bif.add_subplot(111)\n",
    "ax2.plot(peaks[0][1:],peaks[1][1:],'.b')\n",
    "ax2.set_xlabel('m')\n",
    "ax2.set_ylabel('peaks')\n",
    "plt.text(-0.1,-.32, \"\\n Parameters: $w_{mod}$= %.4f khz , $\\Delta \\phi_0=$ %s ,  $\\Omega=$ %.3f khz \\n $k$=%.2f khz, $\\mu'=$ %s , $\\delta= $ %.2e , $\\gamma_{||}=$ %s , $D_0=$ %s, $A=$ %.1f \" % (wf_real, Dphi0, w_res ,k,mu, d, g, D0, a), fontsize=11, transform=ax2.transAxes)   \n",
    "plt.subplots_adjust(bottom=0.22)\n",
    "fig_bif.set_size_inches(6, 6)\n",
    "if save==True: \n",
    "    fname='%d_%d_%d-%d.%d.%d-max_vs_m.png' % localtime()[0:6]\n",
    "    fig_bif.savefig(fname, dpi = 300)# when saving, specify the DPI"
   ]
  },
  {
   "cell_type": "code",
   "execution_count": 59,
   "metadata": {
    "collapsed": false
   },
   "outputs": [
    {
     "name": "stdout",
     "output_type": "stream",
     "text": [
      "1\n",
      "\n",
      "[-0.089974999999999999, -0.089974999999999999, -0.051975, 0.19095249999999997, 6659.7351799999997, 6657.7351799999997, 6656.83518, -12652.596841999999, 0.13341370499999985]\n",
      "[-0.00048083057284760048, 0.00038579983193137712, -0.0057783708526014657, -0.0066162198746513162, -0.40151273063888127, 2.738256363585414, -19.432657138734157, 2.5640423557732106, 0.26066365083952392]\n",
      "2\n",
      "\n",
      "[-0.089974999999999999, -0.089974999999999999, -0.049125000000000002, 0.19245249999999997, 6659.7351799999997, 6657.7351799999997, 6656.83518, -12652.596841999999, 0.13341370499999985]\n",
      "[-0.00048083057284760048, 0.00038579983193137712, -0.0056671471160846844, -0.0064189619451705199, -0.40151273063888127, 2.738256363585414, -19.432657138734157, 2.5640423557732106, 0.26066365083952392]\n",
      "3\n",
      "\n",
      "[-0.089974999999999999, -0.089974999999999999, -0.046275000000000011, 0.19395249999999997, 6659.7351799999997, 6657.7351799999997, 6656.83518, -12652.596841999999, 0.13341370499999985]\n",
      "[-0.00048083057284760048, 0.00038579983193137712, -0.0055559233795679031, -0.0062217040156897236, -0.40151273063888127, 2.738256363585414, -19.432657138734157, 2.5640423557732106, 0.26066365083952392]\n",
      "4\n",
      "\n",
      "[-0.089974999999999999, -0.089974999999999999, -0.043425000000000012, 0.19545249999999997, 6659.7351799999997, 6657.7351799999997, 6656.83518, -12652.596841999999, 0.13341370499999985]\n",
      "[-0.00048083057284760048, 0.00038579983193137712, -0.0054446996430511218, -0.0060244460862089282, -0.40151273063888127, 2.738256363585414, -19.432657138734157, 2.5640423557732106, 0.26066365083952392]\n"
     ]
    }
   ],
   "source": []
  },
  {
   "cell_type": "code",
   "execution_count": null,
   "metadata": {
    "collapsed": false
   },
   "outputs": [],
   "source": []
  },
  {
   "cell_type": "markdown",
   "metadata": {},
   "source": [
    "import simplejson\n",
    ">>> f = open('peaks.txt', 'w')\n",
    ">>> simplejson.dump(peaks, f)\n",
    ">>> f.close()"
   ]
  },
  {
   "cell_type": "code",
   "execution_count": 61,
   "metadata": {
    "collapsed": true
   },
   "outputs": [],
   "source": [
    "'''plots'''\n",
    "save=True #set True if i want to save files automatically"
   ]
  },
  {
   "cell_type": "code",
   "execution_count": 62,
   "metadata": {
    "collapsed": false,
    "scrolled": true
   },
   "outputs": [
    {
     "data": {
      "image/png": "[encoded data removed]",
      "text/plain": [
       "<matplotlib.figure.Figure at 0x18fcf358>"
      ]
     },
     "metadata": {},
     "output_type": "display_data"
    }
   ],
   "source": [
    " "
   ]
  },
  {
   "cell_type": "code",
   "execution_count": 36,
   "metadata": {
    "collapsed": true
   },
   "outputs": [],
   "source": [
    "#fig5=plt.figure()\n",
    "#ax1 = fig5.add_subplot(111)\n",
    "#f1=plt.plot(time,y[:,0])\n",
    "#f1=plt.plot(time,y[:,2])\n",
    "#fig5.suptitle('E_x  & E_y vs tiempo', fontsize=12, fontweight='bold')\n",
    "#ax1.set_xlabel('time(ms) ')\n",
    "#ax1.set_ylabel('E ')\n",
    "#plt.xlim(min(time), max(time))\n",
    "#plt.text(-0.1,-1.04, \"\\n Parameters: $m= $ %s , $w_{mod}$= %.2f khz , $\\Delta \\phi_0=$ %s ,  $\\Omega=$ %f khz \\n $k$=%.2f khz, $\\mu'=$ %s , $\\delta= $ %.2e , $\\gamma_{||}=$ %s , $D_0=$ %s, $A=$ %.1f \" % (m,wf, Dphi0, w_res ,k,mu, d, g, D0, a), fontsize=11, transform=ax3.transAxes)   \n",
    "#plt.subplots_adjust(bottom=0.22)\n",
    "#fig1.savefig('moduloE_fasemodulada.png')\n"
   ]
  },
  {
   "cell_type": "code",
   "execution_count": 37,
   "metadata": {
    "collapsed": false,
    "scrolled": false
   },
   "outputs": [],
   "source": [
    "'''comparison between the solution with and without modulation'''\n",
    "def comp():\n",
    "    comparembfase(y,yinit,time,k,mu,Dphi0,d,g,D0,m,wf)\n",
    "\n",
    "#comp()"
   ]
  },
  {
   "cell_type": "raw",
   "metadata": {
    "collapsed": false
   },
   "source": [
    "import plotly\n",
    "import plotly.plotly as py\n",
    "import plotly.graph_objs as go\n",
    "from plotly import tools\n",
    "\n",
    "print plotly.__version__\n",
    "plotly.offline.init_notebook_mode()\n",
    "#import plotly.tools as tls\n",
    "#py.sign_in('your_username','your_api_key')"
   ]
  },
  {
   "cell_type": "markdown",
   "metadata": {},
   "source": [
    "Notebook style:"
   ]
  },
  {
   "cell_type": "code",
   "execution_count": 38,
   "metadata": {
    "collapsed": false
   },
   "outputs": [
    {
     "data": {
      "text/html": [
       "<style>\n",
       "\n",
       "html {\n",
       "  font-size: 62.5% !important; }\n",
       "body {\n",
       "  font-size: 1.5em !important; /* currently ems cause chrome bug misinterpreting rems on body element */\n",
       "  line-height: 1.6 !important;\n",
       "  font-weight: 400 !important;\n",
       "  font-family: \"Raleway\", \"HelveticaNeue\", \"Helvetica Neue\", Helvetica, Arial, sans-serif !important;\n",
       "  color: #222 !important; }\n",
       "\n",
       "div{ border-radius: 0px !important;  }\n",
       "div.CodeMirror-sizer{ background: rgb(244, 244, 248) !important; }\n",
       "div.input_area{ background: rgb(244, 244, 248) !important; }\n",
       "\n",
       "div.out_prompt_overlay:hover{ background: rgb(244, 244, 248) !important; }\n",
       "div.input_prompt:hover{ background: rgb(244, 244, 248) !important; }\n",
       "\n",
       "h1, h2, h3, h4, h5, h6 {\n",
       "  color: #333 !important;\n",
       "  margin-top: 0 !important;\n",
       "  margin-bottom: 2rem !important;\n",
       "  font-weight: 300 !important; }\n",
       "h1 { font-size: 4.0rem !important; line-height: 1.2 !important;  letter-spacing: -.1rem !important;}\n",
       "h2 { font-size: 3.6rem !important; line-height: 1.25 !important; letter-spacing: -.1rem !important; }\n",
       "h3 { font-size: 3.0rem !important; line-height: 1.3 !important;  letter-spacing: -.1rem !important; }\n",
       "h4 { font-size: 2.4rem !important; line-height: 1.35 !important; letter-spacing: -.08rem !important; }\n",
       "h5 { font-size: 1.8rem !important; line-height: 1.5 !important;  letter-spacing: -.05rem !important; }\n",
       "h6 { font-size: 1.5rem !important; line-height: 1.6 !important;  letter-spacing: 0 !important; }\n",
       "\n",
       "@media (min-width: 550px) {\n",
       "  h1 { font-size: 5.0rem !important; }\n",
       "  h2 { font-size: 4.2rem !important; }\n",
       "  h3 { font-size: 3.6rem !important; }\n",
       "  h4 { font-size: 3.0rem !important; }\n",
       "  h5 { font-size: 2.4rem !important; }\n",
       "  h6 { font-size: 1.5rem !important; }\n",
       "}\n",
       "\n",
       "p {\n",
       "  margin-top: 0 !important; }\n",
       "  \n",
       "a {\n",
       "  color: #1EAEDB !important; }\n",
       "a:hover {\n",
       "  color: #0FA0CE !important; }\n",
       "  \n",
       "code {\n",
       "  padding: .2rem .5rem !important;\n",
       "  margin: 0 .2rem !important;\n",
       "  font-size: 90% !important;\n",
       "  white-space: nowrap !important;\n",
       "  background: #F1F1F1 !important;\n",
       "  border: 1px solid #E1E1E1 !important;\n",
       "  border-radius: 4px !important; }\n",
       "pre > code {\n",
       "  display: block !important;\n",
       "  padding: 1rem 1.5rem !important;\n",
       "  white-space: pre !important; }\n",
       "  \n",
       "button{ border-radius: 0px !important; }\n",
       ".navbar-inner{ background-image: none !important;  }\n",
       "select, textarea{ border-radius: 0px !important; }\n",
       "\n",
       "</style>"
      ],
      "text/plain": [
       "<IPython.core.display.HTML object>"
      ]
     },
     "execution_count": 38,
     "metadata": {},
     "output_type": "execute_result"
    }
   ],
   "source": [
    "from IPython.core.display import HTML\n",
    "import urllib2\n",
    "HTML(urllib2.urlopen('http://bit.ly/1Bf5Hft').read())"
   ]
  },
  {
   "cell_type": "code",
   "execution_count": null,
   "metadata": {
    "collapsed": true
   },
   "outputs": [],
   "source": []
  },
  {
   "cell_type": "raw",
   "metadata": {
    "collapsed": false
   },
   "source": [
    "periods=10\n",
    "#plotly.offline.iplot([dict(x=time*scale, y=np.cos(wf*time))] )\n",
    "#plotly.offline.iplot([dict(x=time*scale, y=intensity)] )\n",
    "#plotly.offline.iplot([dict(x=time*scale, y=intensity)] )\n",
    "\n",
    "fig = tools.make_subplots(rows=3, cols=1, subplot_titles=('', '',''))\n",
    "\n",
    "fig.append_trace(go.Scatter(x=time*scale, y=np.cos(wf*time)), 1, 1)\n",
    "fig.append_trace(go.Scatter(x=time*scale, y=intensity), 2, 1)\n",
    "fig.append_trace(go.Scatter(x=time*scale, y=intensity), 3, 1)\n",
    "\n",
    "# All of the axes properties \n",
    "fig['layout']['xaxis1'].update(title='time($\\mu x$)', range=[min(time*scale), min(time*scale)+(periods*2*pi/wf)*scale], showgrid=False)\n",
    "fig['layout']['xaxis2'].update(title='time($\\mu x$)', range=[min(time*scale), min(time*scale)+(periods*2*pi/wf)*scale], showgrid=False)\n",
    "fig['layout']['xaxis3'].update(title='time($\\mu x$)', range=[max(time*scale)-(periods*2*pi/wf)*scale, max(time*scale)], showgrid=False)\n",
    "fig['layout']['yaxis1'].update(title='Modulation', showgrid=False)\n",
    "fig['layout']['yaxis2'].update(title='|E|', showgrid=False)\n",
    "fig['layout']['yaxis3'].update(title='|E|', showgrid=False)\n",
    "\n",
    "fig['layout'].update(height=600, width=600, title='Comparison between |E| and the Modulation')\n",
    "plot= plotly.offline.iplot(fig)\n"
   ]
  }
 ],
 "metadata": {
  "kernelspec": {
   "display_name": "Python 2",
   "language": "python",
   "name": "python2"
  },
  "language_info": {
   "codemirror_mode": {
    "name": "ipython",
    "version": 2
   },
   "file_extension": ".py",
   "mimetype": "text/x-python",
   "name": "python",
   "nbconvert_exporter": "python",
   "pygments_lexer": "ipython2",
   "version": "2.7.11"
  }
 },
 "nbformat": 4,
 "nbformat_minor": 0
}
