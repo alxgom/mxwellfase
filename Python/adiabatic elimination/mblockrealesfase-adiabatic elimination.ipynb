{
 "cells": [
  {
   "cell_type": "markdown",
   "metadata": {},
   "source": [
    "# Solver for the Maxwell-bloch equations w/ phase modulation\n",
    "and adiabatic alimination of P\n",
    "\n",
    "***"
   ]
  },
  {
   "cell_type": "markdown",
   "metadata": {},
   "source": [
    "## Equations:\n",
    "\n",
    "Maxwell-bloch equation, after aproximations, with external phase modulation for $E_y$\n",
    "\n",
    "$\n",
    "\\begin{cases}\n",
    "\\partial_{\\tau} E_x=-k E_x + \\mu \\dfrac{(1-i\\delta)}{(1+\\delta^2)}E_xD \\\\\n",
    "\\partial_{\\tau} E_y=-k E_y + \\mu \\dfrac{(1-i\\delta)}{(1+\\delta^2)}E_yD + i.(\\Delta \\phi_0 + m.cos(w_{mod}.\\tau)).E_y \\\\\n",
    "\\partial_{\\tau} D=-\\gamma_{||}(D-D_0+\\dfrac{D}{(1+\\delta^2)}(|E_{x}|^2+|E_{y}|^2)) \\\\\n",
    "\\end{cases}\n",
    "$\n",
    "\n",
    "\n",
    "with $ E_{x,y}$  $\\in \\mathbb{C}$\n",
    "\n",
    "##### Normalizations made: \n",
    "$\\tau= \\gamma_{\\bot}.t$, $k=\\tfrac{\\bar{k}}{\\gamma_{\\bot}}$,  $\\gamma_{\\parallel}=\\tfrac{\\bar{\\gamma_{\\parallel}}}{\\gamma_{\\bot}}$, $\\eta=\\tfrac{z}{L}$, $\\delta'_{ac}=\\tfrac{w_a-w_0}{\\gamma_{\\bot}}$\n",
    "\n",
    "\n",
    "##### Aproximations: \n",
    "\n",
    "1-$k,\\gamma_{\\parallel}<<\\gamma_{\\bot}$   -- Homogenously broadened laser linewidth $ \\nabla^2 E-\\frac{1}{c^2}\\partial_{t^2}E=\\alpha \\partial_{t^2}E$\n",
    "\n",
    "2-Plane wave: $\\nabla^2_{\\bot}=0$\n",
    "\n",
    "3-Two level medium\n",
    "\n",
    "4-Slowly varying amplitud\n",
    "\n",
    "5-Unidirectional field\n",
    "\n",
    "6-Rotating wave approx $\\partial_{t^2}<<\\partial_t$\n",
    "\n",
    "7-Single longitudinal mode\n",
    "\n",
    "8-$g'->0$, $R_0->1$  -- Uniform field limit\n",
    "\n",
    "9-$m$,$w_{mod}<<1$, $w_{mod}<<\\gamma_{\\bot}$  ..chequear.."
   ]
  },
  {
   "cell_type": "code",
   "execution_count": 1,
   "metadata": {
    "collapsed": false,
    "scrolled": true
   },
   "outputs": [],
   "source": [
    "# -*- coding: utf-8 -*-\n",
    "\"\"\"\n",
    "Created on Tue Nov 24 17:05:30 2015\n",
    "\n",
    "@author: Alexis\n",
    "\"\"\"\n",
    "import numpy as np\n",
    "#import scipy as sc\n",
    "#import matplotlib\n",
    "import matplotlib.pyplot as plt\n",
    "#from scipy.integrate import odeint\n",
    "#from numpy import linspace\n",
    "#import math\n",
    "#from matplotlib.collections import LineCollection\n",
    "from comparefase import comparembfase\n",
    "\n",
    "#import datetime as dt\n",
    "from time import localtime\n",
    "#import time, sys\n",
    "#import mpld3\n",
    "\n",
    "'''---- |2>\n",
    "    ||\n",
    "    || R21\n",
    "    ||\n",
    "   ---- |1>'''\n",
    "\n",
    "plt.ion()\n",
    "pi=np.pi #defino pi\n",
    "\n",
    "from scipy.integrate import odeint\n",
    "\n",
    "\n",
    "\n",
    "def intmbfaseadiab(yinit,time,k,mud,Dphi0,d,g,D0,m,wf):\n",
    "\n",
    "    def mbadiab(y, t):\n",
    "        \"\"\" y[0],y[1] campo electrico en x. y[2],y[3] campo electrico en y, y[4],y[5]  polarizacion en x, y[6],y[7]  polarizacion en y, y[8] poblacion. \"\"\"\n",
    "        dfxr=-k*y[0]+mud*(y[0]+d*y[1])*y[4]\n",
    "        dfxi=-k*y[1]+mud*(y[1]-d*y[0])*y[4]\n",
    "        dfyr=-k*y[2]+mud*(y[2]+d*y[3])*y[4]-y[3]*(Dphi0+m*np.cos(wf*t))\n",
    "        dfyi=-k*y[3]+mud*(y[3]-d*y[2])*y[4]+y[2]*(Dphi0+m*np.cos(wf*t))\n",
    "        ddelta=g*D0-g*(y[4]+(y[0]**2+y[1]**2+y[2]**2+y[3]**2)*y[4]/(1.+d**2))\n",
    "        return [dfxr,dfxi,dfyr,dfyi,ddelta]\n",
    "\n",
    "    \n",
    "    y = odeint(mbadiab, yinit, time)\n",
    "    return y, time\n"
   ]
  },
  {
   "cell_type": "markdown",
   "metadata": {},
   "source": [
    "### Parameters"
   ]
  },
  {
   "cell_type": "code",
   "execution_count": 2,
   "metadata": {
    "collapsed": false,
    "scrolled": true
   },
   "outputs": [],
   "source": [
    "'''parameters for normalization'''\n",
    "a=2\n",
    "gperp=10**8. #gamma perpendicular, loss rate\n",
    "scale=1*(10.**6)/gperp #scale to micro seconds\n",
    "wscale=1000*gperp/(10.**6)#scale frequency to khz\n",
    "\n",
    "'''parameters for the equation'''\n",
    "k=0.9*10.**7/gperp #normalized loss rate\n",
    "mu=.25*10**(-4) #g\n",
    "Dphi0=0.0 #phase shift [-pi,pi]\n",
    "d=1.0 #detuning\n",
    "g=2.5*10.**4/gperp #*((2*pi)**2) #sigma parallel, normalized loss rate\n",
    "D0=a*k/mu #Poblation\n",
    "m=.02 #modulation amplitud [0,1]\n",
    "wf=0.00310#.001*2*pi #modulation frequency\n",
    "\n",
    "mud=mu/(1.+d**2)\n",
    "\n",
    "'''parameters to compare with the results'''\n",
    "w_res=np.sqrt(k*g*((D0*mu/k)-1.))*wscale #resonance frequency\n",
    "a=D0*mu/k\n",
    "w=np.sqrt(k*g*(a-1.)-(g*g*a*a)/4)*wscale #Relaxation oscilations frequency\n",
    "wf_real=wf*wscale\n"
   ]
  },
  {
   "cell_type": "code",
   "execution_count": 3,
   "metadata": {
    "collapsed": false,
    "scrolled": true
   },
   "outputs": [],
   "source": [
    "#%%latex\n",
    "#print \"Parameters: \\n $\\gamma_{\\bot}=$  %s, $k=${{k}}, $\\mu=${{mu}}, $\\delta$={{d}} (detuning), $\\gamma_{||}=${{g}}, $D_0=${{D0}}, \\n Modulation parameters: $\\Delta \\phi_0$={{Dphi0}} (phase shift $[-\\pi,\\pi]$), $m=${{m}} (modulation amplitud $[0,1]$), $w_{mod}=${{wf}} (modulation frequency)\" % gperp\n"
   ]
  },
  {
   "cell_type": "code",
   "execution_count": 4,
   "metadata": {
    "collapsed": false,
    "scrolled": true
   },
   "outputs": [],
   "source": [
    "%matplotlib inline"
   ]
  },
  {
   "cell_type": "markdown",
   "metadata": {},
   "source": [
    "## Initial conditions, Integration and variables"
   ]
  },
  {
   "cell_type": "code",
   "execution_count": 5,
   "metadata": {
    "collapsed": false,
    "scrolled": true
   },
   "outputs": [
    {
     "name": "stdout",
     "output_type": "stream",
     "text": [
      "Initial contitions: \n",
      "  Write \"new\" to use new defined initial conditions.  \n",
      " write \"l\" to use last result as initial condition. \n",
      " yinit: new\n",
      "1.0000000000000000000000000000e+00 1.0000000000000066613381477509e+00\n"
     ]
    }
   ],
   "source": [
    "'''initial conditions'''\n",
    "intime=500.*4*10**(-6)*gperp #integration time\n",
    "\n",
    "def  initial():\n",
    "    initial=raw_input('Initial contitions: \\n  Write \"new\" to use new defined initial conditions.  \\n write \"l\" to use last result as initial condition. \\n yinit: ')\n",
    "    if initial=='new':\n",
    "        '''User defined initial condition'''\n",
    "        timeinit = np.arange(0., intime, 1.)\n",
    "        dfxinit=[1., 1.] \n",
    "        dfyinit=[-2.,  -1.9]  \n",
    "        ddeltainit=[6.65973518e+03]\n",
    "        yinit=np.array(dfxinit+dfyinit+ddeltainit)\n",
    "    if initial=='l':\n",
    "        '''initial condition from last simulation'''\n",
    "        timeinit = np.arange(time[-1] ,intime+time[-1] , 1.)\n",
    "        yinit=y[-1]\n",
    "    if initial=='':\n",
    "        '''reuse last initial condition '''\n",
    "    return yinit, timeinit\n",
    "\n",
    "yinit, time=initial()\n",
    "yinit1=np.copy(yinit)\n",
    "yinit1[0]=yinit1[0]+yinit1[0]*30*np.finfo(float).eps\n",
    "print '%.28e' %yinit[0], '%.28e' %yinit1[0]"
   ]
  },
  {
   "cell_type": "code",
   "execution_count": 6,
   "metadata": {
    "collapsed": false,
    "scrolled": true
   },
   "outputs": [
    {
     "name": "stdout",
     "output_type": "stream",
     "text": [
      "Last result to use as new initial condition: \n",
      "dfxinit=[4.156753e-35, -1.668020e-35] \n",
      " dfyinit=[3.687173e-13,  -3.519680e-13] \n",
      " ddeltainit=[7.200000e+03] \n"
     ]
    }
   ],
   "source": [
    "'''integration'''\n",
    "y, time=intmbfaseadiab(yinit,time,k,mud,Dphi0,d,g,D0,m,wf)\n",
    "print 'Last result to use as new initial condition: \\n', 'dfxinit=[%e, %e] \\n dfyinit=[%e,  %e] \\n ddeltainit=[%e] ' %(y[-1][0], y[-1][1], y[-1][2], y[-1][3], y[-1][4])\n"
   ]
  },
  {
   "cell_type": "code",
   "execution_count": 7,
   "metadata": {
    "collapsed": false,
    "scrolled": true
   },
   "outputs": [],
   "source": [
    "'''intensitys'''\n",
    "intensity_ex=np.sqrt(y[:,0]**2+y[:,1]**2)\n",
    "intensity_ey=np.sqrt(y[:,2]**2+y[:,3]**2)\n",
    "intensity=np.sqrt(y[:,0]**2+y[:,1]**2+y[:,2]**2+y[:,3]**2)\n"
   ]
  },
  {
   "cell_type": "raw",
   "metadata": {
    "collapsed": false
   },
   "source": [
    "%%timeit\n",
    "int(yinit,time,k,mu,Dphi0,d,g,D0,m,wf);"
   ]
  },
  {
   "cell_type": "markdown",
   "metadata": {},
   "source": [
    "## Plots"
   ]
  },
  {
   "cell_type": "code",
   "execution_count": 8,
   "metadata": {
    "collapsed": false,
    "scrolled": true
   },
   "outputs": [],
   "source": [
    "'''plots'''\n",
    "save=False #set True if i want to save files automatically\n"
   ]
  },
  {
   "cell_type": "code",
   "execution_count": 9,
   "metadata": {
    "collapsed": false
   },
   "outputs": [
    {
     "data": {
      "image/png": "[encoded data removed]",
      "text/plain": [
       "<matplotlib.figure.Figure at 0xaf6f668>"
      ]
     },
     "metadata": {},
     "output_type": "display_data"
    }
   ],
   "source": [
    "\n",
    "fig0=plt.figure()\n",
    "fig0.suptitle('Temporal evolution of |E|, |P| and the Population', fontsize=12, fontweight='bold')\n",
    "ax1 = fig0.add_subplot(2, 1, 1)\n",
    "ax1.plot(time*scale,intensity)\n",
    "ax1.set_ylabel('|E| ')\n",
    "ax1.set_xlim(min(time*scale), max(time*scale))\n",
    "ax3 = fig0.add_subplot(3, 1, 2)\n",
    "ax3.plot(time*scale,y[:,4])\n",
    "plt.ylim(min(y[:,4]), max(y[:,4]))\n",
    "ax3.set_ylabel('Population')\n",
    "ax3.set_xlim(min(time*scale), max(time*scale))\n",
    "plt.xlabel('Time($\\mu s$)')\n",
    "#plt.text(-0.09,-1.05, \"\\n Parameters: $m= $ %s , $w_{mod}$= %.2f khz , $\\Delta \\phi_0=$ %s ,  $\\Omega=$ %.2f khz \\n $k$=%.2f khz, $\\mu'=$ %s , $\\delta= $ %.2e , $\\gamma_{||}=$ %s , $D_0=$ %s, $A=$ %.1f \" % (m,wf_real, Dphi0, w_res ,k,mu, d, g, D0, a), fontsize=11, transform=ax3.transAxes)   \n",
    "plt.subplots_adjust(bottom=0.22)\n",
    "fig0.set_size_inches(11, 7)\n",
    "\n",
    "if save==True: \n",
    "    fname='%d_%d_%d-%d.%d.%d-Time_series.svg' % localtime()[0:6]\n",
    "    fig0.savefig(fname) \n",
    "\n",
    "#mpld3.display(fig0)\n",
    "\n"
   ]
  },
  {
   "cell_type": "markdown",
   "metadata": {
    "collapsed": false,
    "scrolled": true
   },
   "source": [
    "fig4=plt.figure()\n",
    "periods=10\n",
    "fig4.suptitle('Comparison between |E| and the Modulation', fontsize=12, fontweight='bold')\n",
    "ax1 = fig4.add_subplot(3, 1, 1)\n",
    "ax1.plot(time*scale,np.cos(wf*time), label='$w_{mod}$=%.2f khz' %wf_real)\n",
    "ax1.set_xlim(min(time*scale), min(time*scale)+(periods*2*pi/wf)*scale)\n",
    "ax1.set_ylabel('Modulation ')\n",
    "ax1.legend(fontsize = 'small')\n",
    "ax2 = fig4.add_subplot(3, 1, 2)\n",
    "ax2.plot(time*scale,intensity,label='First %i periods' %periods)\n",
    "ax2.set_ylabel('|E|')\n",
    "ax2.set_xlim(min(time*scale), min(time*scale)+(periods*2*pi/wf)*scale)\n",
    "ax2.legend(fontsize = 'small')\n",
    "ax3 = fig4.add_subplot(3, 1, 3)\n",
    "ax3.set_xlim(max(time*scale)-(periods*2*pi/wf)*scale, max(time*scale),emit='True')\n",
    "ax3.plot(time*scale,intensity,label='Last %i periods' %periods)\n",
    "ax3.set_ylim(intensity[len(intensity)-1]-8*(max(intensity[len(intensity)-9000:])-intensity[len(intensity)-1]),intensity[len(intensity)-1]+8*(max(intensity[len(intensity)-9000:])-intensity[len(intensity)-1]))\n",
    "ax3.set_ylabel('|E|')\n",
    "ax3.legend(fontsize = 'small')\n",
    "plt.text(-0.09,-1.06, \"\\n Parameters: $m= $ %s , $w_{mod}$= %.2f khz , $\\Delta \\phi_0=$ %s ,  $\\Omega=$ %.2f khz \\n $k$=%.2f khz, $\\mu'=$ %s , $\\delta= $ %.2e , $\\gamma_{||}=$ %s , $D_0=$ %s, $A=$ %.1f \" % (m,wf_real, Dphi0, w_res ,k,mu, d, g, D0, a), fontsize=11, transform=ax3.transAxes)   \n",
    "plt.subplots_adjust(bottom=0.22)\n",
    "fig4.set_size_inches(8, 6)\n",
    "plt.xlabel('Time ($\\mu s$)')\n",
    "#ax3.relim(visible_only=True)\n",
    "#ax3.autoscale_view(tight=True, scalex=True, scaley=True)\n",
    "#ax3.yaxis.zoom(3)\n",
    "#ax3.yaxis.set_smart_bounds('True')\n",
    "if save==True: \n",
    "    fname='%d_%d_%d-%d.%d.%d-comparison periods.png' % localtime()[0:6]\n",
    "    fig4.savefig(fname, dpi = 100)# when saving, specify the DPI"
   ]
  },
  {
   "cell_type": "markdown",
   "metadata": {
    "collapsed": false
   },
   "source": [
    "j=0 #LONGITUD EN INDICES DE 10 PERIODOS\n",
    "print len(time)\n",
    "for i in range(len(time)):\n",
    "    while time[i]*scale < min(time*scale)+(periods*2*pi/wf)*scale:\n",
    "        j=i\n",
    "print j"
   ]
  },
  {
   "cell_type": "code",
   "execution_count": 10,
   "metadata": {
    "collapsed": false,
    "scrolled": true
   },
   "outputs": [
    {
     "data": {
      "image/png": "[encoded data removed]",
      "text/plain": [
       "<matplotlib.figure.Figure at 0x190a4ba8>"
      ]
     },
     "metadata": {},
     "output_type": "display_data"
    }
   ],
   "source": [
    "\n",
    "fig5=plt.figure()\n",
    "fig5.suptitle('Comparison between |E| and modulation', fontsize=12, fontweight='bold')\n",
    "ax1 = fig5.add_subplot(111)\n",
    "ax1.plot(time*scale,intensity,'b', label='|E|')\n",
    "ax2=ax1.twinx()\n",
    "ax2.plot(time*scale,np.cos(wf*time),'g', alpha=0.4, label='modulation')\n",
    "ax1.set_xlabel('time($\\mu s$)')\n",
    "ax1.set_ylabel('|E|')\n",
    "plt.xlim(min(time*scale), max(time*scale))\n",
    "ax2.set_ylim(-1.5, 1.5)\n",
    "#ax2.set_ylim(-intensity[len(intensity)-1, intensity[len(intensity)-1 )\n",
    "plt.text(-0.1,-0.33, \"\\n Parameters: $m= $ %s , $w_{mod}$= %.2f khz , $\\Delta \\phi_0=$ %s ,  $\\Omega=$ %.2f khz \\n $k$=%.2f khz, $\\mu'=$ %s , $\\delta= $ %.2e , $\\gamma_{||}=$ %s , $D_0=$ %s, $A=$ %.1f\" % (m,wf_real, Dphi0, w_res ,k,mu, d, g, D0, a), fontsize=11, transform=ax1.transAxes)   \n",
    "plt.subplots_adjust(bottom=0.22)\n",
    "fig5.set_size_inches(14, 5)\n",
    "plt.legend()\n",
    "if save==True: \n",
    "    fname='%d_%d_%d-%d.%d.%d-comparison.png' % localtime()[0:6]\n",
    "    fig5.savefig(fname, dpi = 100)# when saving, specify the DPI"
   ]
  },
  {
   "cell_type": "code",
   "execution_count": 11,
   "metadata": {
    "collapsed": false,
    "scrolled": true
   },
   "outputs": [
    {
     "data": {
      "image/png": "[encoded data removed]",
      "text/plain": [
       "<matplotlib.figure.Figure at 0x18e70240>"
      ]
     },
     "metadata": {},
     "output_type": "display_data"
    }
   ],
   "source": [
    "fig3=plt.figure()\n",
    "fig3.suptitle('|E| vs time', fontsize=12, fontweight='bold')\n",
    "ax1 = fig3.add_subplot(111)\n",
    "plt.plot(time*scale,intensity_ex,'g', alpha=0.7,  label='$|E_x|$')\n",
    "plt.plot(time*scale,intensity_ey,'r', alpha=0.6,  label='$|E_y|$')\n",
    "plt.plot(time*scale,intensity,'b', alpha=0.4, label='$|E|$')\n",
    "ax1.set_xlabel('time($\\mu s$)')\n",
    "ax1.set_ylabel('Electric field ')\n",
    "plt.xlim(min(time*scale), max(time*scale))\n",
    "plt.text(-0.1,-.33, \"\\n Parameters: $m= $ %s , $w_{mod}$= %.2f khz , $\\Delta \\phi_0=$ %s ,  $\\Omega=$ %.2f khz \\n $k$=%.2f khz, $\\mu'=$ %s , $\\delta= $ %.2e , $\\gamma_{||}=$ %s , $D_0=$ %s, $A=$ %.1f \\n |E|(blue), |$E_x$| (Green), |$E_y$| (Red)\" % (m,wf_real, Dphi0, w_res ,k,mu, d, g, D0, a), fontsize=11, transform=ax1.transAxes)   \n",
    "plt.subplots_adjust(bottom=0.22)\n",
    "plt.legend(fontsize = 'medium')\n",
    "fig3.set_size_inches(14, 5)\n",
    "\n",
    "if save==True: \n",
    "    fname='%d_%d_%d-%d.%d.%d-E_intensitys.png' % localtime()[0:6]\n",
    "    fig3.savefig(fname, dpi = 100)# when saving, specify the DPI\n"
   ]
  },
  {
   "cell_type": "code",
   "execution_count": 12,
   "metadata": {
    "collapsed": false
   },
   "outputs": [
    {
     "data": {
      "image/png": "[encoded data removed]",
      "text/plain": [
       "<matplotlib.figure.Figure at 0x3daa978>"
      ]
     },
     "metadata": {},
     "output_type": "display_data"
    }
   ],
   "source": [
    "fig9=plt.figure()\n",
    "fig9.suptitle('|E| vs population', fontsize=12, fontweight='bold')\n",
    "ax2 = fig9.add_subplot(111)\n",
    "plt.plot(y[:,4], intensity)\n",
    "ax2.set_xlabel('Population')\n",
    "ax2.set_ylabel('|E|')\n",
    "plt.text(-0.1,-.32, \"\\n Parameters: $m= $ %s , $w_{mod}$= %.2f khz , $\\Delta \\phi_0=$ %s ,  $\\Omega=$ %.2f khz \\n $k$=%.2f khz, $\\mu'=$ %s , $\\delta= $ %.2e , $\\gamma_{||}=$ %s , $D_0=$ %s, $A=$ %.1f \" % (m,wf_real, Dphi0, w_res ,k,mu, d, g, D0, a), fontsize=11, transform=ax2.transAxes)   \n",
    "plt.subplots_adjust(bottom=0.22)\n",
    "fig9.set_size_inches(6, 6)\n",
    "if save==True: \n",
    "    fname='%d_%d_%d-%d.%d.%d-E_vs_population.png' % localtime()[0:6]\n",
    "    fig9.savefig(fname, dpi = 120)# when saving, specify the DPI\n"
   ]
  },
  {
   "cell_type": "markdown",
   "metadata": {},
   "source": [
    "'''Phase spaces'''\n",
    "fig8=plt.figure()\n",
    "fig8.suptitle('|P| vs population', fontsize=12, fontweight='bold')\n",
    "ax2 = fig8.add_subplot(111)\n",
    "plt.plot(y[:,8], np.sqrt(y[:,4]**2+y[:,5]**2+y[:,6]**2+y[:,7]**2))\n",
    "ax2.set_xlabel('Population')\n",
    "ax2.set_ylabel('|P|')\n",
    "plt.text(-0.1,-.32, \"\\n Parameters: $m= $ %s , $w_{mod}$= %.2f khz , $\\Delta \\phi_0=$ %s ,  $\\Omega=$ %.2f khz \\n $k$=%.2f khz, $\\mu'=$ %s , $\\delta= $ %.2e , $\\gamma_{||}=$ %s , $D_0=$ %s, $A=$ %.1f \" % (m,wf_real, Dphi0, w_res ,k,mu, d, g, D0, a), fontsize=11, transform=ax2.transAxes)   \n",
    "plt.subplots_adjust(bottom=0.22)\n",
    "fig8.set_size_inches(6, 6)\n",
    "if save==True: \n",
    "    fname='%d_%d_%d-%d.%d.%d-p_vs_population.png' % localtime()[0:6]\n",
    "    fig8.savefig(fname) "
   ]
  },
  {
   "cell_type": "markdown",
   "metadata": {
    "collapsed": false,
    "scrolled": true
   },
   "source": [
    "fig1=plt.figure()\n",
    "fig1.suptitle('|E| vs time', fontsize=12, fontweight='bold')\n",
    "ax1 = fig1.add_subplot(111)\n",
    "ax1.plot(time*scale,y[:,0],'g', label='$Re(E_x)$')\n",
    "ax1.plot(time*scale,y[:,2],'r', label='$Re(E_y)$')\n",
    "ax1.plot(time*scale,intensity,'b', alpha=0.6,label='$|E|$')\n",
    "ax1.set_xlabel('time($\\mu s$)')\n",
    "ax1.set_ylabel('Electric field')\n",
    "plt.xlim(min(time*scale), max(time*scale))\n",
    "plt.text(-0.1,-.33, \"\\n Parameters: $m= $ %s , $w_{mod}$= %.2f khz , $\\Delta \\phi_0=$ %s ,  $\\Omega=$ %.2f khz \\n $k$=%.2f khz, $\\mu'=$ %s , $\\delta= $ %.2e , $\\gamma_{||}=$ %s , $D_0=$ %s, $A=$ %.1f \\n |E|(blue), Re($E_x$) (Green), Re($E_y$) (Red)\" % (m,wf_real, Dphi0, w_res ,k,mu, d, g, D0, a), fontsize=11, transform=ax1.transAxes)   \n",
    "plt.subplots_adjust(bottom=0.22)\n",
    "plt.legend(fontsize = 'medium')\n",
    "fig1.set_size_inches(10, 5)\n",
    "\n",
    "if save==True: \n",
    "    fname='%d_%d_%d-%d.%d.%d-Re(E).png' % localtime()[0:6]\n",
    "    fig1.savefig(fname) \n",
    "\n",
    "    "
   ]
  },
  {
   "cell_type": "markdown",
   "metadata": {
    "collapsed": false,
    "scrolled": true
   },
   "source": [
    "fig2=plt.figure()\n",
    "fig2.suptitle('|E| vs time', fontsize=12, fontweight='bold')\n",
    "ax1 = fig2.add_subplot(111)\n",
    "ax1.plot(time*scale,y[:,1],'g', label='$Im(E_x)$')\n",
    "ax1.plot(time*scale,y[:,3],'r', label='$Im(E_y)$')\n",
    "ax1.plot(time*scale,intensity,'b', alpha=0.6, label='$|E|$')\n",
    "ax1.set_xlabel('time($\\mu s$)')\n",
    "ax1.set_ylabel('Electric field')\n",
    "plt.xlim(min(time*scale), max(time*scale))\n",
    "plt.text(-0.1,-.33, \"\\n Parameters: $m= $ %s , $w_{mod}$= %.2f khz , $\\Delta \\phi_0=$ %s ,  $\\Omega=$ %.2f khz \\n $k$=%.2f khz, $\\mu'=$ %s , $\\delta= $ %.2e , $\\gamma_{||}=$ %s , $D_0=$ %s, $A=$ %.1f \\n |E|(blue), Im($E_x$) (Green), Im($E_y$) (Red)\" % (m,wf_real, Dphi0, w_res ,k,mu, d, g, D0, a), fontsize=11, transform=ax1.transAxes)   \n",
    "plt.subplots_adjust(bottom=0.22)\n",
    "plt.legend(fontsize = 'medium')\n",
    "fig2.set_size_inches(10, 5)\n",
    "\n",
    "if save==True: \n",
    "    fname='%d_%d_%d-%d.%d.%d-Im(E).png' % localtime()[0:6]\n",
    "    fig2.savefig(fname) "
   ]
  },
  {
   "cell_type": "markdown",
   "metadata": {
    "collapsed": true,
    "scrolled": true
   },
   "source": [
    "#fig5=plt.figure()\n",
    "#ax1 = fig5.add_subplot(111)\n",
    "#f1=plt.plot(time,y[:,0])\n",
    "#f1=plt.plot(time,y[:,2])\n",
    "#fig5.suptitle('E_x  & E_y vs tiempo', fontsize=12, fontweight='bold')\n",
    "#ax1.set_xlabel('time(ms) ')\n",
    "#ax1.set_ylabel('E ')\n",
    "#plt.xlim(min(time), max(time))\n",
    "#plt.text(-0.1,-1.04, \"\\n Parameters: $m= $ %s , $w_{mod}$= %.2f khz , $\\Delta \\phi_0=$ %s ,  $\\Omega=$ %f khz \\n $k$=%.2f khz, $\\mu'=$ %s , $\\delta= $ %.2e , $\\gamma_{||}=$ %s , $D_0=$ %s, $A=$ %.1f \" % (m,wf, Dphi0, w_res ,k,mu, d, g, D0, a), fontsize=11, transform=ax3.transAxes)   \n",
    "#plt.subplots_adjust(bottom=0.22)\n",
    "#fig1.savefig('moduloE_fasemodulada.png')\n"
   ]
  },
  {
   "cell_type": "markdown",
   "metadata": {
    "collapsed": false,
    "scrolled": true
   },
   "source": [
    "'''comparison between the solution with and without modulation'''\n",
    "def comp():\n",
    "    comparembfase(y,yinit,time,k,mu,Dphi0,d,g,D0,m,wf)\n",
    "\n",
    "#comp()"
   ]
  },
  {
   "cell_type": "markdown",
   "metadata": {
    "collapsed": false
   },
   "source": [
    "'''codigo para comparar dos trayectorias cercanas'''\n",
    "\n",
    "y1, time=int(yinit1,time,k,mu,Dphi0,d,g,D0,m,wf)\n",
    "\n",
    "'''intensitys'''\n",
    "intensity1_ex=np.sqrt(y1[:,0]**2+y1[:,1]**2)\n",
    "intensity1_ey=np.sqrt(y1[:,2]**2+y1[:,3]**2)\n",
    "intensity1=np.sqrt(y1[:,0]**2+y1[:,1]**2+y1[:,2]**2+y1[:,3]**2)\n",
    "\n",
    "'''plot para comparar dos trayectorias cercanas'''\n",
    "fig9=plt.figure()\n",
    "fig9.suptitle('|E| vs time', fontsize=12, fontweight='bold')\n",
    "ax1 = fig9.add_subplot(111)\n",
    "#plt.plot(time*scale,intensity_ex,'g', alpha=0.7,  label='$|E_x|$')\n",
    "#plt.plot(time*scale,intensity1_ex,'r', alpha=0.6,  label='$|E_x|$')\n",
    "plt.plot(time*scale,intensity,'b', label='$|E|$')\n",
    "plt.plot(time*scale,intensity1,'r',  label='$|E|$')\n",
    "ax1.set_xlabel('time($\\mu s$)')\n",
    "ax1.set_ylabel('|E| ')\n",
    "plt.xlim(min(time*scale), max(time*scale))\n",
    "plt.text(-0.1,-.33, \"\\n Parameters: $m= $ %s , $w_{mod}$= %.2f khz , $\\Delta \\phi_0=$ %s ,  $\\Omega=$ %.2f khz \\n $k$=%.2f khz, $\\mu'=$ %s , $\\delta= $ %.2e , $\\gamma_{||}=$ %s , $D_0=$ %s, $A=$ %.1f \\n |E|(blue), |$E_x$| (Green), |$E_y$| (Red)\" % (m,wf_real, Dphi0, w_res ,k,mu, d, g, D0, a), fontsize=11, transform=ax1.transAxes)   \n",
    "plt.subplots_adjust(bottom=0.22)\n",
    "plt.legend(fontsize = 'medium')\n",
    "fig9.set_size_inches(14, 5)\n",
    "if save==True: \n",
    "    fname='%d_%d_%d-%d.%d.%d-E_intensitys.png' % localtime()[0:6]\n",
    "    fig9.savefig(fname, dpi = 100)# when saving, specify the DPI\n",
    "    \n",
    "fig9=plt.figure()\n",
    "fig9.suptitle('Trayectory difference', fontsize=12, fontweight='bold')\n",
    "ax1 = fig9.add_subplot(111)\n",
    "#plt.plot(time*scale,intensity_ex,'g', alpha=0.7,  label='$|E_x|$')\n",
    "#plt.plot(time*scale,intensity1_ex,'r', alpha=0.6,  label='$|E_x|$')\n",
    "plt.plot(time*scale,intensity-intensity1,'r', alpha=0.4, label='$y-y1$')\n",
    "ax1.set_xlabel('time($\\mu s$)')\n",
    "ax1.set_ylabel('Trayectory difference ')\n",
    "plt.xlim(min(time*scale), max(time*scale))\n",
    "plt.text(-0.1,-.33, \"\\n Parameters: $m= $ %s , $w_{mod}$= %.2f khz , $\\Delta \\phi_0=$ %s ,  $\\Omega=$ %.2f khz \\n $k$=%.2f khz, $\\mu'=$ %s , $\\delta= $ %.2e , $\\gamma_{||}=$ %s , $D_0=$ %s, $A=$ %.1f \\n |E|(blue), |$E_x$| (Green), |$E_y$| (Red)\" % (m,wf_real, Dphi0, w_res ,k,mu, d, g, D0, a), fontsize=11, transform=ax1.transAxes)   \n",
    "plt.subplots_adjust(bottom=0.22)\n",
    "plt.legend(fontsize = 'medium')\n",
    "fig9.set_size_inches(14, 5)\n",
    "if save==True: \n",
    "    fname='%d_%d_%d-%d.%d.%d-E_intensitys.png' % localtime()[0:6]\n",
    "    fig9.savefig(fname, dpi = 100)# when saving, specify the DPI"
   ]
  },
  {
   "cell_type": "markdown",
   "metadata": {},
   "source": [
    "Notebook style:"
   ]
  },
  {
   "cell_type": "code",
   "execution_count": 13,
   "metadata": {
    "collapsed": false,
    "scrolled": true
   },
   "outputs": [
    {
     "data": {
      "text/html": [
       "<style>\n",
       "\n",
       "html {\n",
       "  font-size: 62.5% !important; }\n",
       "body {\n",
       "  font-size: 1.5em !important; /* currently ems cause chrome bug misinterpreting rems on body element */\n",
       "  line-height: 1.6 !important;\n",
       "  font-weight: 400 !important;\n",
       "  font-family: \"Raleway\", \"HelveticaNeue\", \"Helvetica Neue\", Helvetica, Arial, sans-serif !important;\n",
       "  color: #222 !important; }\n",
       "\n",
       "div{ border-radius: 0px !important;  }\n",
       "div.CodeMirror-sizer{ background: rgb(244, 244, 248) !important; }\n",
       "div.input_area{ background: rgb(244, 244, 248) !important; }\n",
       "\n",
       "div.out_prompt_overlay:hover{ background: rgb(244, 244, 248) !important; }\n",
       "div.input_prompt:hover{ background: rgb(244, 244, 248) !important; }\n",
       "\n",
       "h1, h2, h3, h4, h5, h6 {\n",
       "  color: #333 !important;\n",
       "  margin-top: 0 !important;\n",
       "  margin-bottom: 2rem !important;\n",
       "  font-weight: 300 !important; }\n",
       "h1 { font-size: 4.0rem !important; line-height: 1.2 !important;  letter-spacing: -.1rem !important;}\n",
       "h2 { font-size: 3.6rem !important; line-height: 1.25 !important; letter-spacing: -.1rem !important; }\n",
       "h3 { font-size: 3.0rem !important; line-height: 1.3 !important;  letter-spacing: -.1rem !important; }\n",
       "h4 { font-size: 2.4rem !important; line-height: 1.35 !important; letter-spacing: -.08rem !important; }\n",
       "h5 { font-size: 1.8rem !important; line-height: 1.5 !important;  letter-spacing: -.05rem !important; }\n",
       "h6 { font-size: 1.5rem !important; line-height: 1.6 !important;  letter-spacing: 0 !important; }\n",
       "\n",
       "@media (min-width: 550px) {\n",
       "  h1 { font-size: 5.0rem !important; }\n",
       "  h2 { font-size: 4.2rem !important; }\n",
       "  h3 { font-size: 3.6rem !important; }\n",
       "  h4 { font-size: 3.0rem !important; }\n",
       "  h5 { font-size: 2.4rem !important; }\n",
       "  h6 { font-size: 1.5rem !important; }\n",
       "}\n",
       "\n",
       "p {\n",
       "  margin-top: 0 !important; }\n",
       "  \n",
       "a {\n",
       "  color: #1EAEDB !important; }\n",
       "a:hover {\n",
       "  color: #0FA0CE !important; }\n",
       "  \n",
       "code {\n",
       "  padding: .2rem .5rem !important;\n",
       "  margin: 0 .2rem !important;\n",
       "  font-size: 90% !important;\n",
       "  white-space: nowrap !important;\n",
       "  background: #F1F1F1 !important;\n",
       "  border: 1px solid #E1E1E1 !important;\n",
       "  border-radius: 4px !important; }\n",
       "pre > code {\n",
       "  display: block !important;\n",
       "  padding: 1rem 1.5rem !important;\n",
       "  white-space: pre !important; }\n",
       "  \n",
       "button{ border-radius: 0px !important; }\n",
       ".navbar-inner{ background-image: none !important;  }\n",
       "select, textarea{ border-radius: 0px !important; }\n",
       "\n",
       "</style>"
      ],
      "text/plain": [
       "<IPython.core.display.HTML object>"
      ]
     },
     "execution_count": 13,
     "metadata": {},
     "output_type": "execute_result"
    }
   ],
   "source": [
    "from IPython.core.display import HTML\n",
    "import urllib2\n",
    "HTML(urllib2.urlopen('http://bit.ly/1Bf5Hft').read())"
   ]
  },
  {
   "cell_type": "raw",
   "metadata": {
    "collapsed": false
   },
   "source": [
    "import plotly\n",
    "import plotly.plotly as py\n",
    "import plotly.graph_objs as go\n",
    "from plotly import tools\n",
    "\n",
    "print plotly.__version__\n",
    "plotly.offline.init_notebook_mode()\n",
    "#import plotly.tools as tls\n",
    "#py.sign_in('your_username','your_api_key')"
   ]
  },
  {
   "cell_type": "code",
   "execution_count": 14,
   "metadata": {
    "collapsed": false,
    "scrolled": false
   },
   "outputs": [
    {
     "name": "stdout",
     "output_type": "stream",
     "text": [
      "100.0\n"
     ]
    }
   ],
   "source": [
    "print 10**(-6)*gperp"
   ]
  },
  {
   "cell_type": "code",
   "execution_count": null,
   "metadata": {
    "collapsed": false,
    "scrolled": true
   },
   "outputs": [],
   "source": []
  },
  {
   "cell_type": "raw",
   "metadata": {
    "collapsed": false
   },
   "source": [
    "periods=10\n",
    "#plotly.offline.iplot([dict(x=time*scale, y=np.cos(wf*time))] )\n",
    "#plotly.offline.iplot([dict(x=time*scale, y=intensity)] )\n",
    "#plotly.offline.iplot([dict(x=time*scale, y=intensity)] )\n",
    "\n",
    "fig = tools.make_subplots(rows=3, cols=1, subplot_titles=('', '',''))\n",
    "\n",
    "fig.append_trace(go.Scatter(x=time*scale, y=np.cos(wf*time)), 1, 1)\n",
    "fig.append_trace(go.Scatter(x=time*scale, y=intensity), 2, 1)\n",
    "fig.append_trace(go.Scatter(x=time*scale, y=intensity), 3, 1)\n",
    "\n",
    "# All of the axes properties \n",
    "fig['layout']['xaxis1'].update(title='time($\\mu x$)', range=[min(time*scale), min(time*scale)+(periods*2*pi/wf)*scale], showgrid=False)\n",
    "fig['layout']['xaxis2'].update(title='time($\\mu x$)', range=[min(time*scale), min(time*scale)+(periods*2*pi/wf)*scale], showgrid=False)\n",
    "fig['layout']['xaxis3'].update(title='time($\\mu x$)', range=[max(time*scale)-(periods*2*pi/wf)*scale, max(time*scale)], showgrid=False)\n",
    "fig['layout']['yaxis1'].update(title='Modulation', showgrid=False)\n",
    "fig['layout']['yaxis2'].update(title='|E|', showgrid=False)\n",
    "fig['layout']['yaxis3'].update(title='|E|', showgrid=False)\n",
    "\n",
    "fig['layout'].update(height=600, width=600, title='Comparison between |E| and the Modulation')\n",
    "plot= plotly.offline.iplot(fig)\n"
   ]
  },
  {
   "cell_type": "code",
   "execution_count": null,
   "metadata": {
    "collapsed": true,
    "scrolled": true
   },
   "outputs": [],
   "source": []
  },
  {
   "cell_type": "markdown",
   "metadata": {
    "collapsed": true
   },
   "source": [
    "a hacer:\n",
    "    \n",
    "    - barrido en frecuencia hacia la resonancia.\n",
    "    - barrido en m, en la frecuencia de resonancia.\n",
    "    - mapa de prametros usados"
   ]
  },
  {
   "cell_type": "code",
   "execution_count": null,
   "metadata": {
    "collapsed": true,
    "scrolled": true
   },
   "outputs": [],
   "source": []
  },
  {
   "cell_type": "code",
   "execution_count": null,
   "metadata": {
    "collapsed": true,
    "scrolled": true
   },
   "outputs": [],
   "source": []
  },
  {
   "cell_type": "code",
   "execution_count": null,
   "metadata": {
    "collapsed": true,
    "scrolled": true
   },
   "outputs": [],
   "source": []
  }
 ],
 "metadata": {
  "kernelspec": {
   "display_name": "Python 2",
   "language": "python",
   "name": "python2"
  },
  "language_info": {
   "codemirror_mode": {
    "name": "ipython",
    "version": 2
   },
   "file_extension": ".py",
   "mimetype": "text/x-python",
   "name": "python",
   "nbconvert_exporter": "python",
   "pygments_lexer": "ipython2",
   "version": "2.7.11"
  }
 },
 "nbformat": 4,
 "nbformat_minor": 0
}
