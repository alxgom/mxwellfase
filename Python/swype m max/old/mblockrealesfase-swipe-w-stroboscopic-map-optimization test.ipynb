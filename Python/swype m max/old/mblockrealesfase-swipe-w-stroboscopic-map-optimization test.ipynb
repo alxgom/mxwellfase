{
 "cells": [
  {
   "cell_type": "markdown",
   "metadata": {},
   "source": [
    "# Solver for the Maxwell-bloch equations w/ phase modulation.\n",
    "\n",
    "***"
   ]
  },
  {
   "cell_type": "markdown",
   "metadata": {},
   "source": [
    "## Equations:\n",
    "\n",
    "Maxwell-bloch equation, after aproximations, with external phase modulation for $E_y$\n",
    "\n",
    "$\n",
    "\\begin{cases}\n",
    "\\partial_{\\tau} E_x=-k E_x + \\mu P_x \\\\\n",
    "\\partial_{\\tau} E_y=-k E_y + \\mu P_y + i.(\\Delta \\phi_0 + m.cos(w_{mod}.\\tau)).E_y \\\\\n",
    "\\partial_{\\tau} P_{x,y}=-(1+i\\delta)P_{x,y}+E_{x,y}.D \\\\\n",
    "\\partial_{\\tau} D=-\\gamma_{||}(D-D_0+\\tfrac{1}{2}(E^*_{x,y}P_{x,y}+E_{x,y}P^*_{x,y})) \\\\\n",
    "\\end{cases}\n",
    "$\n",
    "\n",
    "\n",
    "with $ E_{x,y}$ and $P_{x,y}$  $\\in \\mathbb{C}$\n",
    "\n",
    "##### Normalizations made: \n",
    "$\\tau= \\gamma_{\\bot}.t$, $k=\\tfrac{\\bar{k}}{\\gamma_{\\bot}}$,  $\\gamma_{\\parallel}=\\tfrac{\\bar{\\gamma_{\\parallel}}}{\\gamma_{\\bot}}$, $\\eta=\\tfrac{z}{L}$, $\\delta'_{ac}=\\tfrac{w_a-w_0}{\\gamma_{\\bot}}$\n",
    "\n",
    "\n",
    "##### Aproximations: \n",
    "\n",
    "1-$k,\\gamma_{\\parallel}<<\\gamma_{\\bot}$   -- Homogenously broadened laser linewidth $ \\nabla^2 E-\\frac{1}{c^2}\\partial_{t^2}E=\\alpha \\partial_{t^2}E$\n",
    "\n",
    "2-Plane wave: $\\nabla^2_{\\bot}=0$\n",
    "\n",
    "3-Two level medium\n",
    "\n",
    "4-Slowly varying amplitud\n",
    "\n",
    "5-Unidirectional field\n",
    "\n",
    "6-Rotating wave approx $\\partial_{t^2}<<\\partial_t$\n",
    "\n",
    "7-Single longitudinal mode\n",
    "\n",
    "8-$g'->0$, $R_0->1$  -- Uniform field limit\n",
    "\n",
    "9-$m$,$w_{mod}<<1$, $w_{mod}<<\\gamma_{\\bot}$  ..chequear.."
   ]
  },
  {
   "cell_type": "code",
   "execution_count": 12,
   "metadata": {
    "collapsed": false
   },
   "outputs": [],
   "source": [
    "# -*- coding: utf-8 -*-\n",
    "\"\"\"\n",
    "Created on Tue Nov 24 17:05:30 2015\n",
    "\n",
    "@author: Alexis\n",
    "\"\"\"\n",
    "import numpy as np\n",
    "#import scipy as sc\n",
    "#import matplotlib\n",
    "import matplotlib.pyplot as plt\n",
    "#from scipy.integrate import odeint\n",
    "#from numpy import linspace\n",
    "#import math\n",
    "#from matplotlib.collections import LineCollection\n",
    "from comparefase import comparembfase\n",
    "from intmbfase import intmbfase as integ\n",
    "from intmbfaserev import intmbfaserev as intrev\n",
    "\n",
    "#import datetime as dt\n",
    "from time import localtime\n",
    "#import time, sys\n",
    "#import mpld3\n",
    "from scipy.signal import argrelextrema\n",
    "from numba import autojit\n",
    "\n",
    "%matplotlib inline\n",
    "\n",
    "\n",
    "'''---- |2>\n",
    "    ||\n",
    "    || R21\n",
    "    ||\n",
    "   ---- |1>'''\n",
    "\n",
    "plt.ion()\n",
    "pi=np.pi #defino pi\n"
   ]
  },
  {
   "cell_type": "markdown",
   "metadata": {},
   "source": [
    "### Parameters"
   ]
  },
  {
   "cell_type": "code",
   "execution_count": 13,
   "metadata": {
    "collapsed": true
   },
   "outputs": [],
   "source": [
    "'''parameters for normalization'''\n",
    "a=2\n",
    "gperp=10**8. #gamma perpendicular, loss rate\n",
    "scale=1*(10.**6)/gperp #scale to micro seconds\n",
    "wscale=1000*gperp/(10.**6)#scale frequency to khz"
   ]
  },
  {
   "cell_type": "code",
   "execution_count": 14,
   "metadata": {
    "collapsed": false
   },
   "outputs": [],
   "source": [
    "'''parameters for the equation'''\n",
    "k=0.9*10.**7/gperp #normalized loss rate\n",
    "mu=.25*10**(-4) #g\n",
    "Dphi0=0.0 #phase shift [-pi,pi]\n",
    "d=1.0 #detuning\n",
    "g=2.5*10.**4/gperp #*((2*pi)**2) #sigma parallel, normalized loss rate\n",
    "D0=a*k/mu #Poblation\n",
    "m=.02 #modulation amplitud [0,1]\n",
    "\n",
    "'''parameters to compare with the results'''\n",
    "w_res=np.sqrt(k*g*((D0*mu/k)-1.))*wscale #resonance frequency\n",
    "a=D0*mu/k\n",
    "w=np.sqrt(k*g*(a-1.)-(g*g*a*a)/4)*wscale #Relaxation oscilations frequency\n"
   ]
  },
  {
   "cell_type": "markdown",
   "metadata": {},
   "source": [
    "swiping parameter: wf\n"
   ]
  },
  {
   "cell_type": "code",
   "execution_count": 15,
   "metadata": {
    "collapsed": false
   },
   "outputs": [
    {
     "name": "stdout",
     "output_type": "stream",
     "text": [
      "[ 0.0042  0.004   0.0038]\n",
      "20.0 0.01\n"
     ]
    }
   ],
   "source": [
    "wfmin=0.00380\n",
    "wfmax=0.00420\n",
    "#wfn=np.arange(wfmin, wfmax+(wfmax-wfmin)/200. , (wfmax-wfmin)/200.) #10 pasos entre la resonancia y 0.1*resonancia\n",
    "wfmin1=0.00420\n",
    "wfmax1=0.00500\n",
    "wfn=np.linspace(wfmax, wfmin , 3)#10 pasos entre la resonancia y 0.1*resonancia\n",
    " #10 pasos entre la resonancia y 0.1*resonancia\n",
    "print wfn\n",
    "print (wfn[0]-wfn[1])*wscale, 1*scale\n"
   ]
  },
  {
   "cell_type": "markdown",
   "metadata": {},
   "source": [
    "## Initial conditions, Integration and variables"
   ]
  },
  {
   "cell_type": "code",
   "execution_count": 16,
   "metadata": {
    "collapsed": false
   },
   "outputs": [],
   "source": [
    "%matplotlib inline\n",
    "\n",
    "#Function for initializing simulations after the transition\n",
    "def  initial(init, time, y):\n",
    "    intime=500.*15*10**(-6)*gperp #integration time FOR TRANDITORY\n",
    "    jump=1.\n",
    "    numstep=int(intime/jump)\n",
    "    if init=='new':\n",
    "        '''User defined initial condition'''\n",
    "        timeinit = np.linspace(0., intime, numstep)\n",
    "        dfxinit=[1., 1.] \n",
    "        dfyinit=[1., -1.9]  \n",
    "        drxinit=[1., 1.]\n",
    "        dryinit=[1., -1.9] \n",
    "        ddeltainit=[6.65973518e+03]\n",
    "        yinit=np.array(dfxinit+dfyinit+drxinit+dryinit+ddeltainit)\n",
    "    if init=='l':\n",
    "        '''initial condition from last simulation'''\n",
    "        intime=intime*5/15+time[-1]\n",
    "        numstep=int((intime-time[-1])/jump)\n",
    "        timeinit = np.linspace(time[-1] ,intime*5/15+time[-1] , numstep)\n",
    "        yinit=y[-1]\n",
    "        \n",
    "        y=np.shape([numstep, 9])\n",
    "        time=np.shape([numstep])\n",
    "    \n",
    "    return yinit, timeinit\n",
    "    "
   ]
  },
  {
   "cell_type": "code",
   "execution_count": 17,
   "metadata": {
    "collapsed": true
   },
   "outputs": [],
   "source": [
    "@autojit\n",
    "def swipe(m,k,mu,Dphi0,d,g,D0,wfn):\n",
    "    steps=2#number of iterations\n",
    "    \n",
    "    intime=500.*15*10**(-6)*gperp #integration time FOR TRANDITORY\n",
    "    jump=1.\n",
    "    numstep=int(intime/jump)\n",
    "    \n",
    "    strobo_map_w=np.empty(1, dtype=float)\n",
    "    strobo_map_w[0]=0\n",
    "    strobo_map_max=np.empty(1, dtype=float)\n",
    "    strobo_map_max[0]=0\n",
    "    count=0\n",
    "    \n",
    "    y=np.shape([numstep, 9])\n",
    "    time=np.shape([numstep])\n",
    "    \n",
    "    yinit, time=initial('new', time, y)#first run\n",
    "    y, time=integ(yinit,time,k,mu,Dphi0,d,g,D0,m,wfn[0])\n",
    "    \n",
    "    '''swipe''' \n",
    "    for wf in wfn:  #loop for frequencys\n",
    "        wf_real=wf*wscale\n",
    "        count=count+1\n",
    "        print count\n",
    "        for i in range(steps): #for each freq, integrete some time, and then integrate again using the last result as initial condition\n",
    "            '''initial conditions'''\n",
    "            if i==0:\n",
    "                yinit, time=initial('l', time, y)\n",
    "            if i==1:\n",
    "                yinit, time=initial('l', time, y)\n",
    "            '''integration'''\n",
    "            y, time=integ(yinit,time,k,mu,Dphi0,d,g,D0,m,wf)\n",
    "        \n",
    "        '''intensitys'''\n",
    "        intensity2_ex=y[:,0]**2+y[:,1]**2\n",
    "        intensity_ex=np.sqrt(intensity2_ex)\n",
    "        intensity2_ey=y[:,2]**2+y[:,3]**2\n",
    "        intensity_ey=np.sqrt(intensity2_ey)\n",
    "        intensity=np.sqrt(intensity2_ex+intensity2_ey)\n",
    "        '''map'''\n",
    "        #map_time=(time)+(2*pi/wf)\n",
    "        #peak_coor=argrelextrema(np.cos(wf*time), np.greater)#find peaks index\n",
    "        peak_max=np.unique(intensity[argrelextrema(np.cos(wf*time), np.greater)[0]])#intensity peaks\n",
    "        w_peaks=wf*wscale*np.ones_like(peak_max)#vector or m, the same lenght as peak_max\n",
    "        strobo_map_w=np.concatenate((strobo_map_w, w_peaks), axis=0)\n",
    "        strobo_map_max=np.concatenate((strobo_map_max, peak_max), axis=0)\n",
    "        \n",
    "    return strobo_map_w , strobo_map_max \n",
    "        "
   ]
  },
  {
   "cell_type": "code",
   "execution_count": 18,
   "metadata": {
    "collapsed": false
   },
   "outputs": [
    {
     "name": "stdout",
     "output_type": "stream",
     "text": [
      "1\n",
      "\n",
      "2\n",
      "\n",
      "3\n",
      "\n"
     ]
    }
   ],
   "source": [
    "strobo_map_w , strobo_map_max =swipe(m,k,mu,Dphi0,d,g,D0,wfn)"
   ]
  },
  {
   "cell_type": "code",
   "execution_count": 19,
   "metadata": {
    "collapsed": true
   },
   "outputs": [],
   "source": [
    "'''plots'''\n",
    "save=False #set True if i want to save files automatically\n",
    "        "
   ]
  },
  {
   "cell_type": "code",
   "execution_count": 20,
   "metadata": {
    "collapsed": false
   },
   "outputs": [],
   "source": [
    "if save==False:\n",
    "    with open('mblockrealesfase-swipe-w_strobo_map.txt','a') as file:\n",
    "        print>>file, '%d_%d_%d-%d.%d.%d w swipe \\n' % localtime()[0:6], 'from wf=%f to wf=%f , steps=%f . m= %f' %(wfn[0], wfn[-1], len(wfn) ,  m)  \n",
    "        print>>file, 'wfn=', wfn\n",
    "        print>>file, 'strobo_map_w=', strobo_map_w\n",
    "        print>>file, 'strobo_map_max=', strobo_map_max\n",
    "            "
   ]
  },
  {
   "cell_type": "code",
   "execution_count": 21,
   "metadata": {
    "collapsed": false,
    "scrolled": true
   },
   "outputs": [
    {
     "data": {
      "image/png": "[encoded data removed]",
      "text/plain": [
       "<matplotlib.figure.Figure at 0x1d650e10>"
      ]
     },
     "metadata": {},
     "output_type": "display_data"
    }
   ],
   "source": [
    "fig_bif=plt.figure()\n",
    "fig_bif.suptitle('Estoboscopic map vs w', fontsize=12, fontweight='bold')\n",
    "ax2 = fig_bif.add_subplot(111)\n",
    "ax2.plot(strobo_map_w[1:],strobo_map_max[1:],',b')\n",
    "ax2.set_xlabel('wf')\n",
    "ax2.set_ylabel('peaks')\n",
    "plt.text(-0.1,-.32, \"\\n Parameters: $m$= %.4f  , $\\Delta \\phi_0=$ %s ,  $\\Omega=$ %.3f khz \\n $k$=%.2f khz, $\\mu'=$ %s , $\\delta= $ %.2e , $\\gamma_{||}=$ %s , $D_0=$ %s, $A=$ %.1f \" % (m, Dphi0, w_res ,k,mu, d, g, D0, a), fontsize=11, transform=ax2.transAxes)   \n",
    "plt.subplots_adjust(bottom=0.22)\n",
    "fig_bif.set_size_inches(6, 6)\n",
    "if save==True: \n",
    "    fname='%d_%d_%d-%d.%d.%d-w_strobo_map.png' % localtime()[0:6]\n",
    "    fig_bif.savefig(fname, dpi = 200)# when saving, specify the DPI"
   ]
  },
  {
   "cell_type": "code",
   "execution_count": 22,
   "metadata": {
    "collapsed": false
   },
   "outputs": [
    {
     "ename": "NameError",
     "evalue": "name 'time' is not defined",
     "output_type": "error",
     "traceback": [
      "\u001b[1;31m---------------------------------------------------------------------------\u001b[0m",
      "\u001b[1;31mNameError\u001b[0m                                 Traceback (most recent call last)",
      "\u001b[1;32m<ipython-input-22-602c61fb4195>\u001b[0m in \u001b[0;36m<module>\u001b[1;34m()\u001b[0m\n\u001b[0;32m      2\u001b[0m \u001b[0mfig5\u001b[0m\u001b[1;33m.\u001b[0m\u001b[0msuptitle\u001b[0m\u001b[1;33m(\u001b[0m\u001b[1;34m'Comparison between |E| and modulation'\u001b[0m\u001b[1;33m,\u001b[0m \u001b[0mfontsize\u001b[0m\u001b[1;33m=\u001b[0m\u001b[1;36m12\u001b[0m\u001b[1;33m,\u001b[0m \u001b[0mfontweight\u001b[0m\u001b[1;33m=\u001b[0m\u001b[1;34m'bold'\u001b[0m\u001b[1;33m)\u001b[0m\u001b[1;33m\u001b[0m\u001b[0m\n\u001b[0;32m      3\u001b[0m \u001b[0max1\u001b[0m \u001b[1;33m=\u001b[0m \u001b[0mfig5\u001b[0m\u001b[1;33m.\u001b[0m\u001b[0madd_subplot\u001b[0m\u001b[1;33m(\u001b[0m\u001b[1;36m111\u001b[0m\u001b[1;33m)\u001b[0m\u001b[1;33m\u001b[0m\u001b[0m\n\u001b[1;32m----> 4\u001b[1;33m \u001b[0max1\u001b[0m\u001b[1;33m.\u001b[0m\u001b[0mplot\u001b[0m\u001b[1;33m(\u001b[0m\u001b[0mtime\u001b[0m\u001b[1;33m*\u001b[0m\u001b[0mscale\u001b[0m\u001b[1;33m,\u001b[0m\u001b[0mintensity\u001b[0m\u001b[1;33m,\u001b[0m\u001b[1;34m'b'\u001b[0m\u001b[1;33m,\u001b[0m \u001b[0mlabel\u001b[0m\u001b[1;33m=\u001b[0m\u001b[1;34m'|E|'\u001b[0m\u001b[1;33m)\u001b[0m\u001b[1;33m\u001b[0m\u001b[0m\n\u001b[0m\u001b[0;32m      5\u001b[0m \u001b[0max1\u001b[0m\u001b[1;33m.\u001b[0m\u001b[0mplot\u001b[0m\u001b[1;33m(\u001b[0m\u001b[0mtime\u001b[0m\u001b[1;33m*\u001b[0m\u001b[0mscale\u001b[0m\u001b[1;33m[\u001b[0m\u001b[0margrelextrema\u001b[0m\u001b[1;33m(\u001b[0m\u001b[0mnp\u001b[0m\u001b[1;33m.\u001b[0m\u001b[0mcos\u001b[0m\u001b[1;33m(\u001b[0m\u001b[0mwf\u001b[0m\u001b[1;33m*\u001b[0m\u001b[0mtime\u001b[0m\u001b[1;33m)\u001b[0m\u001b[1;33m,\u001b[0m \u001b[0mnp\u001b[0m\u001b[1;33m.\u001b[0m\u001b[0mgreater\u001b[0m\u001b[1;33m)\u001b[0m\u001b[1;33m[\u001b[0m\u001b[1;36m0\u001b[0m\u001b[1;33m]\u001b[0m\u001b[1;33m]\u001b[0m\u001b[1;33m,\u001b[0m\u001b[0mintensity\u001b[0m\u001b[1;33m[\u001b[0m\u001b[0margrelextrema\u001b[0m\u001b[1;33m(\u001b[0m\u001b[0mnp\u001b[0m\u001b[1;33m.\u001b[0m\u001b[0mcos\u001b[0m\u001b[1;33m(\u001b[0m\u001b[0mwf\u001b[0m\u001b[1;33m*\u001b[0m\u001b[0mtime\u001b[0m\u001b[1;33m)\u001b[0m\u001b[1;33m,\u001b[0m \u001b[0mnp\u001b[0m\u001b[1;33m.\u001b[0m\u001b[0mgreater\u001b[0m\u001b[1;33m)\u001b[0m\u001b[1;33m[\u001b[0m\u001b[1;36m0\u001b[0m\u001b[1;33m]\u001b[0m\u001b[1;33m]\u001b[0m\u001b[1;33m,\u001b[0m\u001b[1;34m'.r'\u001b[0m\u001b[1;33m)\u001b[0m\u001b[1;31m#intensity peaks\u001b[0m\u001b[1;33m\u001b[0m\u001b[0m\n\u001b[0;32m      6\u001b[0m \u001b[1;33m\u001b[0m\u001b[0m\n",
      "\u001b[1;31mNameError\u001b[0m: name 'time' is not defined"
     ]
    },
    {
     "data": {
      "image/png": "[encoded data removed]",
      "text/plain": [
       "<matplotlib.figure.Figure at 0x1d95e278>"
      ]
     },
     "metadata": {},
     "output_type": "display_data"
    }
   ],
   "source": [
    "fig5=plt.figure()\n",
    "fig5.suptitle('Comparison between |E| and modulation', fontsize=12, fontweight='bold')\n",
    "ax1 = fig5.add_subplot(111)\n",
    "ax1.plot(time*scale,intensity,'b', label='|E|')\n",
    "ax1.plot(time*scale[argrelextrema(np.cos(wf*time), np.greater)[0]],intensity[argrelextrema(np.cos(wf*time), np.greater)[0]],'.r')#intensity peaks\n",
    "\n",
    "ax2=ax1.twinx()\n",
    "ax2.plot(time*scale,np.cos(wf*time),'g', alpha=0.4, label='modulation')\n",
    "ax1.set_xlabel('time($\\mu s$)')\n",
    "ax1.set_ylabel('|E|')\n",
    "plt.xlim(min(time*scale), min(time*scale)+(periods*2*pi/wf)*scale)\n",
    "ax2.set_ylim(-1.5, 1.5)\n",
    "#ax2.set_ylim(-intensity[len(intensity)-1, intensity[len(intensity)-1 )\n",
    "plt.text(-0.1,-0.33, \"\\n Parameters: $m= $ %s , $w_{mod}$= %.4f khz , $\\Delta \\phi_0=$ %s ,  $\\Omega=$ %.2f khz \\n $k$=%.2f khz, $\\mu'=$ %s , $\\delta= $ %.2e , $\\gamma_{||}=$ %s , $D_0=$ %s, $A=$ %.1f\" % (m,wf_real, Dphi0, w_res ,k,mu, d, g, D0, a), fontsize=11, transform=ax1.transAxes)   \n",
    "plt.subplots_adjust(bottom=0.22)\n",
    "fig5.set_size_inches(14, 5)\n",
    "plt.legend()\n",
    "        "
   ]
  },
  {
   "cell_type": "code",
   "execution_count": null,
   "metadata": {
    "collapsed": true
   },
   "outputs": [],
   "source": [
    "@autojit\n",
    "def swiperev(m,k,mu,Dphi0,d,g,D0,wfn):\n",
    "    steps=2#number of iterations\n",
    "    peaks=[[0], [0]]\n",
    "    count=0\n",
    "    time=np.array([0, 0])\n",
    "    y=np.array([[0,0,0,0,0,0,0,0,0],[0,0,0,0,0,0,0,0,0]])\n",
    "    yinit, time=initial('new', time, y)#first run\n",
    "    y, time=integ(yinit,time,k,mu,Dphi0,d,g,D0,m,wfn[0])\n",
    "    '''swipe''' \n",
    "    for wf in wfn:  #loop for frequencys\n",
    "        wf_real=wf*wscale\n",
    "        count=count+1\n",
    "        print count\n",
    "        for i in range(steps): #for each freq, integrete some time, and then integrate again using the last result as initial condition\n",
    "            '''initial conditions'''\n",
    "            if i==0:\n",
    "                yinit, time=initial('l', time, y)\n",
    "            if i==1:\n",
    "                yinit, time=initial('l', time, y)\n",
    "            '''integration'''\n",
    "            y, time=integ(yinit,time,k,mu,Dphi0,d,g,D0,m,wf)\n",
    "        '''intensitys'''\n",
    "        intensity_ex=np.sqrt(y[:,0]**2+y[:,1]**2)\n",
    "        intensity_ey=np.sqrt(y[:,2]**2+y[:,3]**2)\n",
    "        intensity=np.sqrt(y[:,0]**2+y[:,1]**2+y[:,2]**2+y[:,3]**2)\n",
    "        '''peaks'''\n",
    "        peak_coor=argrelextrema(intensity, np.greater)#find peaks index\n",
    "        peak_max=list(set(intensity[argrelextrema(intensity, np.greater)[0]]))#intensity peaks\n",
    "        w_peaks=list(wf*wscale*np.ones_like(peak_max))#vector or m, the same lenght as peak_max\n",
    "        peaks[0]=peaks[0]+w_peaks\n",
    "        peaks[1]=peaks[1]+peak_max\n",
    "        \n",
    "    return peaks\n",
    "        "
   ]
  },
  {
   "cell_type": "code",
   "execution_count": null,
   "metadata": {
    "collapsed": true
   },
   "outputs": [],
   "source": [
    "#peaksrev=swiperev(m,k,mu,Dphi0,d,g,D0,wfn)"
   ]
  },
  {
   "cell_type": "markdown",
   "metadata": {
    "collapsed": false
   },
   "source": [
    "fig_bif=plt.figure()\n",
    "fig_bif.suptitle('max peaks vs w. time reversed', fontsize=12, fontweight='bold')\n",
    "ax2 = fig_bif.add_subplot(111)\n",
    "ax2.plot(peaksrev[0][1:],peaksrev[1][1:],',r')\n",
    "ax2.set_xlabel('wf')\n",
    "ax2.set_ylabel('peaks')\n",
    "plt.text(-0.1,-.32, \"\\n Parameters: $m$= %.4f  , $\\Delta \\phi_0=$ %s ,  $\\Omega=$ %.3f khz \\n $k$=%.2f khz, $\\mu'=$ %s , $\\delta= $ %.2e , $\\gamma_{||}=$ %s , $D_0=$ %s, $A=$ %.1f \" % (m, Dphi0, w_res ,k,mu, d, g, D0, a), fontsize=11, transform=ax2.transAxes)   \n",
    "plt.subplots_adjust(bottom=0.22)\n",
    "fig_bif.set_size_inches(6, 6)\n",
    "if save==True: \n",
    "    fname='%d_%d_%d-%d.%d.%d-max_vs_w.png' % localtime()[0:6]\n",
    "    fig_bif.savefig(fname, dpi = 200)# when saving, specify the DPI"
   ]
  },
  {
   "cell_type": "code",
   "execution_count": null,
   "metadata": {
    "collapsed": true
   },
   "outputs": [],
   "source": [
    "#fig5=plt.figure()\n",
    "#ax1 = fig5.add_subplot(111)\n",
    "#f1=plt.plot(time,y[:,0])\n",
    "#f1=plt.plot(time,y[:,2])\n",
    "#fig5.suptitle('E_x  & E_y vs tiempo', fontsize=12, fontweight='bold')\n",
    "#ax1.set_xlabel('time(ms) ')\n",
    "#ax1.set_ylabel('E ')\n",
    "#plt.xlim(min(time), max(time))\n",
    "#plt.text(-0.1,-1.04, \"\\n Parameters: $m= $ %s , $w_{mod}$= %.2f khz , $\\Delta \\phi_0=$ %s ,  $\\Omega=$ %f khz \\n $k$=%.2f khz, $\\mu'=$ %s , $\\delta= $ %.2e , $\\gamma_{||}=$ %s , $D_0=$ %s, $A=$ %.1f \" % (m,wf, Dphi0, w_res ,k,mu, d, g, D0, a), fontsize=11, transform=ax3.transAxes)   \n",
    "#plt.subplots_adjust(bottom=0.22)\n",
    "#fig1.savefig('moduloE_fasemodulada.png')\n"
   ]
  },
  {
   "cell_type": "code",
   "execution_count": null,
   "metadata": {
    "collapsed": false,
    "scrolled": false
   },
   "outputs": [],
   "source": [
    "'''comparison between the solution with and without modulation'''\n",
    "def comp():\n",
    "    comparembfase(y,yinit,time,k,mu,Dphi0,d,g,D0,m,wf)\n",
    "\n",
    "#comp()"
   ]
  },
  {
   "cell_type": "raw",
   "metadata": {
    "collapsed": false
   },
   "source": [
    "import plotly\n",
    "import plotly.plotly as py\n",
    "import plotly.graph_objs as go\n",
    "from plotly import tools\n",
    "\n",
    "print plotly.__version__\n",
    "plotly.offline.init_notebook_mode()\n",
    "#import plotly.tools as tls\n",
    "#py.sign_in('your_username','your_api_key')"
   ]
  },
  {
   "cell_type": "markdown",
   "metadata": {
    "collapsed": true
   },
   "source": [
    "'''Saving  param values in a csv file'''\n",
    "import csv\n",
    "\n",
    "res = wfn\n",
    "csvfile = \"<path to output csv or txt>\"\n",
    "\n",
    "#Assuming res is a flat list\n",
    "with open(mblockrealesfase-swipe-w, \"w\") as output:\n",
    "    writer = csv.writer(output, lineterminator='\\n')\n",
    "    for val in res:\n",
    "        writer.writerow([:])    \n",
    "\n",
    "#Assuming res is a list of lists\n",
    "with open(mblockrealesfase-swipe-w, \"w\") as output:\n",
    "    writer = csv.writer(output, lineterminator='\\n')\n",
    "    writer.writerows(res)"
   ]
  },
  {
   "cell_type": "markdown",
   "metadata": {},
   "source": [
    "Notebook style:"
   ]
  },
  {
   "cell_type": "code",
   "execution_count": null,
   "metadata": {
    "collapsed": false
   },
   "outputs": [],
   "source": [
    "from IPython.core.display import HTML\n",
    "import urllib2\n",
    "HTML(urllib2.urlopen('http://bit.ly/1Bf5Hft').read())"
   ]
  },
  {
   "cell_type": "code",
   "execution_count": null,
   "metadata": {
    "collapsed": false
   },
   "outputs": [],
   "source": []
  },
  {
   "cell_type": "code",
   "execution_count": null,
   "metadata": {
    "collapsed": true
   },
   "outputs": [],
   "source": []
  },
  {
   "cell_type": "raw",
   "metadata": {
    "collapsed": false
   },
   "source": [
    "periods=10\n",
    "#plotly.offline.iplot([dict(x=time*scale, y=np.cos(wf*time))] )\n",
    "#plotly.offline.iplot([dict(x=time*scale, y=intensity)] )\n",
    "#plotly.offline.iplot([dict(x=time*scale, y=intensity)] )\n",
    "\n",
    "fig = tools.make_subplots(rows=3, cols=1, subplot_titles=('', '',''))\n",
    "\n",
    "fig.append_trace(go.Scatter(x=time*scale, y=np.cos(wf*time)), 1, 1)\n",
    "fig.append_trace(go.Scatter(x=time*scale, y=intensity), 2, 1)\n",
    "fig.append_trace(go.Scatter(x=time*scale, y=intensity), 3, 1)\n",
    "\n",
    "# All of the axes properties \n",
    "fig['layout']['xaxis1'].update(title='time($\\mu x$)', range=[min(time*scale), min(time*scale)+(periods*2*pi/wf)*scale], showgrid=False)\n",
    "fig['layout']['xaxis2'].update(title='time($\\mu x$)', range=[min(time*scale), min(time*scale)+(periods*2*pi/wf)*scale], showgrid=False)\n",
    "fig['layout']['xaxis3'].update(title='time($\\mu x$)', range=[max(time*scale)-(periods*2*pi/wf)*scale, max(time*scale)], showgrid=False)\n",
    "fig['layout']['yaxis1'].update(title='Modulation', showgrid=False)\n",
    "fig['layout']['yaxis2'].update(title='|E|', showgrid=False)\n",
    "fig['layout']['yaxis3'].update(title='|E|', showgrid=False)\n",
    "\n",
    "fig['layout'].update(height=600, width=600, title='Comparison between |E| and the Modulation')\n",
    "plot= plotly.offline.iplot(fig)\n"
   ]
  },
  {
   "cell_type": "code",
   "execution_count": null,
   "metadata": {
    "collapsed": true
   },
   "outputs": [],
   "source": []
  },
  {
   "cell_type": "markdown",
   "metadata": {
    "collapsed": true
   },
   "source": [
    "a hacer:\n",
    "    \n",
    "    - barrido en frecuencia hacia la resonancia.\n",
    "    - barrido en m, en la frecuencia de resonancia.\n",
    "    - mapa de parametros usados"
   ]
  },
  {
   "cell_type": "code",
   "execution_count": null,
   "metadata": {
    "collapsed": true
   },
   "outputs": [],
   "source": []
  },
  {
   "cell_type": "code",
   "execution_count": null,
   "metadata": {
    "collapsed": true
   },
   "outputs": [],
   "source": []
  },
  {
   "cell_type": "markdown",
   "metadata": {},
   "source": [
    "        periods=15\n",
    "        #####\n",
    "        fig0=plt.figure()\n",
    "        fig0.suptitle('Temporal evolution of |E|, |P| and the Population', fontsize=12, fontweight='bold')\n",
    "        ax1 = fig0.add_subplot(3, 1, 1)\n",
    "        ax1.plot(time*scale,intensity)\n",
    "        ax1.set_ylabel('|E| ')\n",
    "        ax1.set_xlim(min(time*scale), max(time*scale))\n",
    "        ax2 = fig0.add_subplot(3, 1, 2)\n",
    "        ax2.set_xlim(min(time*scale), max(time*scale))\n",
    "        ax2.plot(time*scale,intensity)\n",
    "        ax2.set_ylabel('|P|')\n",
    "        ax3 = fig0.add_subplot(3, 1, 3)\n",
    "        ax3.plot(time*scale,y[:,8])\n",
    "        plt.ylim(min(y[:,8]), max(y[:,8]))\n",
    "        ax3.set_ylabel('Population')\n",
    "        ax3.set_xlim(min(time*scale), max(time*scale))\n",
    "        plt.xlabel('Time($\\mu s$)')\n",
    "        plt.text(-0.09,-1.05, \"\\n Parameters: $m= $ %s , $w_{mod}$= %.4f khz , $\\Delta \\phi_0=$ %s ,  $\\Omega=$ %.2f khz \\n $k$=%.2f khz, $\\mu'=$ %s , $\\delta= $ %.2e , $\\gamma_{||}=$ %s , $D_0=$ %s, $A=$ %.1f \" % (m,wf_real, Dphi0, w_res ,k,mu, d, g, D0, a), fontsize=11, transform=ax3.transAxes)   \n",
    "        plt.subplots_adjust(bottom=0.22)\n",
    "        fig0.set_size_inches(11, 7)\n",
    "        if save==True: \n",
    "            fname='%d_%d_%d-%d.%d.%d-Time_series.png' % localtime()[0:6]\n",
    "            fig0.savefig(fname) \n",
    "        fig4=plt.figure()\n",
    "        fig4.suptitle('Comparison between |E| and the Modulation', fontsize=12, fontweight='bold')\n",
    "        ax1 = fig4.add_subplot(3, 1, 1)\n",
    "        ax1.plot(time*scale,np.cos(wf*time), label='$w_{mod}$=%.2f khz' %wf_real)\n",
    "        ax1.set_xlim(min(time*scale), min(time*scale)+(periods*2*pi/wf)*scale)\n",
    "        ax1.set_ylabel('Modulation ')\n",
    "        ax1.legend(fontsize = 'small')\n",
    "        ax2 = fig4.add_subplot(3, 1, 2)\n",
    "        ax2.plot(time*scale,intensity,label='First %i periods' %periods)\n",
    "        ax2.set_ylabel('|E|')\n",
    "        ax2.set_xlim(min(time*scale), min(time*scale)+(periods*2*pi/wf)*scale)\n",
    "        ax2.legend(fontsize = 'small')\n",
    "        ax3 = fig4.add_subplot(3, 1, 3)\n",
    "        ax3.set_xlim(max(time*scale)-(periods*2*pi/wf)*scale, max(time*scale),emit='True')\n",
    "        ax3.plot(time*scale,intensity,label='Last %i periods' %periods)\n",
    "        ax3.set_ylim(intensity[len(intensity)-1]-8*(max(intensity[len(intensity)-9000:])-intensity[len(intensity)-1]),intensity[len(intensity)-1]+8*(max(intensity[len(intensity)-9000:])-intensity[len(intensity)-1]))\n",
    "        ax3.set_ylabel('|E|')\n",
    "        ax3.legend(fontsize = 'small')\n",
    "        plt.text(-0.09,-1.06, \"\\n Parameters: $m= $ %s , $w_{mod}$= %.4f khz , $\\Delta \\phi_0=$ %s ,  $\\Omega=$ %.2f khz \\n $k$=%.2f khz, $\\mu'=$ %s , $\\delta= $ %.2e , $\\gamma_{||}=$ %s , $D_0=$ %s, $A=$ %.1f \" % (m,wf_real, Dphi0, w_res ,k,mu, d, g, D0, a), fontsize=11, transform=ax3.transAxes)   \n",
    "        plt.subplots_adjust(bottom=0.22)\n",
    "        fig4.set_size_inches(8, 6)\n",
    "        plt.xlabel('Time ($\\mu s$)')\n",
    "        #ax3.relim(visible_only=True)\n",
    "        #ax3.autoscale_view(tight=True, scalex=True, scaley=True)\n",
    "        #ax3.yaxis.zoom(3)\n",
    "        #ax3.yaxis.set_smart_bounds('True')\n",
    "        if save==True: \n",
    "            fname='%d_%d_%d-%d.%d.%d-comparison periods.png' % localtime()[0:6]\n",
    "            fig4.savefig(fname, dpi = 100)# when saving, specify the DPI\n",
    "        fig5=plt.figure()\n",
    "        fig5.suptitle('Comparison between |E| and modulation', fontsize=12, fontweight='bold')\n",
    "        ax1 = fig5.add_subplot(111)\n",
    "        ax1.plot(time*scale,intensity,'b', label='|E|')\n",
    "        ax2=ax1.twinx()\n",
    "        ax2.plot(time*scale,np.cos(wf*time),'g', alpha=0.4, label='modulation')\n",
    "        ax1.set_xlabel('time($\\mu s$)')\n",
    "        ax1.set_ylabel('|E|')\n",
    "        plt.xlim(min(time*scale), min(time*scale)+(periods*2*pi/wf)*scale)\n",
    "        ax2.set_ylim(-1.5, 1.5)\n",
    "        #ax2.set_ylim(-intensity[len(intensity)-1, intensity[len(intensity)-1 )\n",
    "        plt.text(-0.1,-0.33, \"\\n Parameters: $m= $ %s , $w_{mod}$= %.4f khz , $\\Delta \\phi_0=$ %s ,  $\\Omega=$ %.2f khz \\n $k$=%.2f khz, $\\mu'=$ %s , $\\delta= $ %.2e , $\\gamma_{||}=$ %s , $D_0=$ %s, $A=$ %.1f\" % (m,wf_real, Dphi0, w_res ,k,mu, d, g, D0, a), fontsize=11, transform=ax1.transAxes)   \n",
    "        plt.subplots_adjust(bottom=0.22)\n",
    "        fig5.set_size_inches(14, 5)\n",
    "        plt.legend()\n",
    "        if save==True: \n",
    "            fname='%d_%d_%d-%d.%d.%d-comparison.png' % localtime()[0:6]\n",
    "            fig5.savefig(fname, dpi = 100)# when saving, specify the DPI\n",
    "        fig3=plt.figure()\n",
    "        fig3.suptitle('|E| vs time', fontsize=12, fontweight='bold')\n",
    "        ax1 = fig3.add_subplot(111)\n",
    "        plt.plot(time*scale,intensity_ex,'g', alpha=0.7,  label='$|E_x|$')\n",
    "        plt.plot(time*scale,intensity_ey,'r', alpha=0.6,  label='$|E_y|$')\n",
    "        plt.plot(time*scale,intensity,'b', alpha=0.4, label='$|E|$')\n",
    "        ax1.set_xlim(min(time*scale), min(time*scale)+(periods*2*pi/wf)*scale)\n",
    "        ax1.set_xlabel('time($\\mu s$)')\n",
    "        ax1.set_ylabel('Electric field ')\n",
    "        plt.xlim(min(time*scale), max(time*scale))\n",
    "        plt.text(-0.1,-.33, \"\\n Parameters: $m= $ %s , $w_{mod}$= %.4f khz , $\\Delta \\phi_0=$ %s ,  $\\Omega=$ %.3f khz \\n $k$=%.2f khz, $\\mu'=$ %s , $\\delta= $ %.2e , $\\gamma_{||}=$ %s , $D_0=$ %s, $A=$ %.1f \\n |E|(blue), |$E_x$| (Green), |$E_y$| (Red)\" % (m,wf_real, Dphi0, w_res ,k,mu, d, g, D0, a), fontsize=11, transform=ax1.transAxes)   \n",
    "        plt.subplots_adjust(bottom=0.22)\n",
    "        plt.legend(fontsize = 'medium')\n",
    "        fig3.set_size_inches(14, 5)\n",
    "        if save==True: \n",
    "            fname='%d_%d_%d-%d.%d.%d-E_intensitys.png' % localtime()[0:6]\n",
    "            fig3.savefig(fname, dpi = 100)# when saving, specify the DPI\n",
    "        '''Phase spaces'''\n",
    "        fig8=plt.figure()\n",
    "        fig8.suptitle('|P| vs population', fontsize=12, fontweight='bold')\n",
    "        ax2 = fig8.add_subplot(111)\n",
    "        plt.plot(y[:,8], np.sqrt(y[:,4]**2+y[:,5]**2+y[:,6]**2+y[:,7]**2))\n",
    "        ax2.set_xlabel('Population')\n",
    "        ax2.set_ylabel('|P|')\n",
    "        plt.text(-0.1,-.32, \"\\n Parameters: $m= $ %s , $w_{mod}$= %.4f khz , $\\Delta \\phi_0=$ %s ,  $\\Omega=$ %.3f khz \\n $k$=%.2f khz, $\\mu'=$ %s , $\\delta= $ %.2e , $\\gamma_{||}=$ %s , $D_0=$ %s, $A=$ %.1f \" % (m,wf_real, Dphi0, w_res ,k,mu, d, g, D0, a), fontsize=11, transform=ax2.transAxes)   \n",
    "        plt.subplots_adjust(bottom=0.22)\n",
    "        fig8.set_size_inches(6, 6)\n",
    "        if save==True: \n",
    "            fname='%d_%d_%d-%d.%d.%d-p_vs_population.png' % localtime()[0:6]\n",
    "            fig8.savefig(fname) \n",
    "        fig9=plt.figure()\n",
    "        fig9.suptitle('|E| vs population', fontsize=12, fontweight='bold')\n",
    "        ax2 = fig9.add_subplot(111)\n",
    "        plt.plot(y[:,8], intensity)\n",
    "        ax2.set_xlabel('Population')\n",
    "        ax2.set_ylabel('|E|')\n",
    "        plt.text(-0.1,-.32, \"\\n Parameters: $m= $ %s , $w_{mod}$= %.4f khz , $\\Delta \\phi_0=$ %s ,  $\\Omega=$ %.3f khz \\n $k$=%.2f khz, $\\mu'=$ %s , $\\delta= $ %.2e , $\\gamma_{||}=$ %s , $D_0=$ %s, $A=$ %.1f \" % (m,wf_real, Dphi0, w_res ,k,mu, d, g, D0, a), fontsize=11, transform=ax2.transAxes)   \n",
    "        plt.subplots_adjust(bottom=0.22)\n",
    "        fig9.set_size_inches(6, 6)\n",
    "        if save==True: \n",
    "            fname='%d_%d_%d-%d.%d.%d-E_vs_population.png' % localtime()[0:6]\n",
    "            fig9.savefig(fname, dpi = 100)# when saving, specify the DPI"
   ]
  },
  {
   "cell_type": "code",
   "execution_count": null,
   "metadata": {
    "collapsed": true
   },
   "outputs": [],
   "source": []
  }
 ],
 "metadata": {
  "kernelspec": {
   "display_name": "Python 2",
   "language": "python",
   "name": "python2"
  },
  "language_info": {
   "codemirror_mode": {
    "name": "ipython",
    "version": 2
   },
   "file_extension": ".py",
   "mimetype": "text/x-python",
   "name": "python",
   "nbconvert_exporter": "python",
   "pygments_lexer": "ipython2",
   "version": "2.7.11"
  }
 },
 "nbformat": 4,
 "nbformat_minor": 0
}
