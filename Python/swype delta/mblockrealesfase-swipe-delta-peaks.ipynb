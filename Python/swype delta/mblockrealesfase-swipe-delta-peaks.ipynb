{
 "cells": [
  {
   "cell_type": "markdown",
   "metadata": {},
   "source": [
    "# Solver for the Maxwell-bloch equations w/ phase modulation.\n",
    "\n",
    "***"
   ]
  },
  {
   "cell_type": "markdown",
   "metadata": {},
   "source": [
    "## Equations:\n",
    "\n",
    "Maxwell-bloch equation, after aproximations, with external phase modulation for $E_y$\n",
    "\n",
    "$\n",
    "\\begin{cases}\n",
    "\\partial_{\\tau} E_x=-k E_x + \\mu P_x \\\\\n",
    "\\partial_{\\tau} E_y=-k E_y + \\mu P_y + i.(\\Delta \\phi_0 + m.cos(w_{mod}.\\tau)).E_x \\\\\n",
    "\\partial_{\\tau} P_{x,y}=-(1+i\\delta)P_{x,y}+E_{x,y}.D \\\\\n",
    "\\partial_{\\tau} D=-\\gamma_{||}(D-D_0+\\tfrac{1}{2}(E^*_{x,y}P_{x,y}+E_{x,y}P^*_{x,y})) \\\\\n",
    "\\end{cases}\n",
    "$\n",
    "\n",
    "\n",
    "with $ E_{x,y}$ and $P_{x,y}$  $\\in \\mathbb{C}$\n",
    "\n",
    "##### Normalizations made: \n",
    "$\\tau= \\gamma_{\\bot}.t$, $k=\\tfrac{\\bar{k}}{\\gamma_{\\bot}}$,  $\\gamma_{\\parallel}=\\tfrac{\\bar{\\gamma_{\\parallel}}}{\\gamma_{\\bot}}$, $\\eta=\\tfrac{z}{L}$, $\\delta'_{ac}=\\tfrac{w_a-w_0}{\\gamma_{\\bot}}$\n",
    "\n",
    "\n",
    "##### Aproximations: \n",
    "\n",
    "1-$k,\\gamma_{\\parallel}<<\\gamma_{\\bot}$   -- Homogenously broadened laser linewidth $ \\nabla^2 E-\\frac{1}{c^2}\\partial_{t^2}E=\\alpha \\partial_{t^2}E$\n",
    "\n",
    "2-Plane wave: $\\nabla^2_{\\bot}=0$\n",
    "\n",
    "3-Two level medium\n",
    "\n",
    "4-Slowly varying amplitud\n",
    "\n",
    "5-Unidirectional field\n",
    "\n",
    "6-Rotating wave approx $\\partial_{t^2}<<\\partial_t$\n",
    "\n",
    "7-Single longitudinal mode\n",
    "\n",
    "8-$g'->0$, $R_0->1$  -- Uniform field limit\n",
    "\n",
    "9-$m$,$w_{mod}<<1$, $w_{mod}<<\\gamma_{\\bot}$  ..chequear.."
   ]
  },
  {
   "cell_type": "markdown",
   "metadata": {},
   "source": [
    "Code comments:\n",
    "\n",
    "*Vario delta para ver como reacciona el sistema en cada lugar de la campana de Ganancia.\n",
    "\n",
    "*Espero que para delta=0, tenga un doblamiento de frequencia, y que el sistema sea mas sensible al caos lejos del 0 (donde rompo una simetria)\n",
    "    "
   ]
  },
  {
   "cell_type": "code",
   "execution_count": 16,
   "metadata": {
    "collapsed": false
   },
   "outputs": [],
   "source": [
    "# -*- coding: utf-8 -*-\n",
    "\"\"\"\n",
    "Created on Tue Nov 24 17:05:30 2015\n",
    "\n",
    "@author: Alexis\n",
    "\"\"\"\n",
    "import numpy as np\n",
    "#import scipy as sc\n",
    "#import matplotlib\n",
    "import matplotlib.pyplot as plt\n",
    "#from scipy.integrate import odeint\n",
    "#from numpy import linspace\n",
    "#import math\n",
    "#from matplotlib.collections import LineCollection\n",
    "from comparefase import comparembfase\n",
    "from intmbfase import intmbfase as integ\n",
    "from intmbfaserev import intmbfaserev as intrev\n",
    "\n",
    "#import datetime as dt\n",
    "from time import localtime\n",
    "#import time, sys\n",
    "#import mpld3\n",
    "from scipy.signal import argrelextrema\n",
    "from numba import autojit\n",
    "\n",
    "%matplotlib inline\n",
    "\n",
    "\n",
    "'''---- |2>\n",
    "    ||\n",
    "    || R21\n",
    "    ||\n",
    "   ---- |1>'''\n",
    "\n",
    "plt.ion()\n",
    "pi=np.pi #defino pi\n"
   ]
  },
  {
   "cell_type": "markdown",
   "metadata": {},
   "source": [
    "### Parameters"
   ]
  },
  {
   "cell_type": "code",
   "execution_count": 17,
   "metadata": {
    "collapsed": true
   },
   "outputs": [],
   "source": [
    "'''parameters for normalization'''\n",
    "a=2\n",
    "gperp=10**8. #gamma perpendicular, loss rate\n",
    "scale=1*(10.**6)/gperp #scale to micro seconds\n",
    "wscale=1000*gperp/(10.**6)#scale frequency to khz"
   ]
  },
  {
   "cell_type": "code",
   "execution_count": 18,
   "metadata": {
    "collapsed": false
   },
   "outputs": [],
   "source": [
    "'''parameters for the equation'''\n",
    "k=0.9*10.**7/gperp #normalized loss rate\n",
    "mu=.25*10**(-4) #g\n",
    "Dphi0=0.0 #phase shift [-pi,pi]\n",
    "d=1.0 #detuning\n",
    "g=2.5*10.**4/gperp #*((2*pi)**2) #sigma parallel, normalized loss rate\n",
    "D0=a*k/mu #Poblation\n",
    "m=.02 #modulation amplitud [0,1]\n",
    "wf=0.00380\n",
    "wf_real=wf*wscale\n",
    "'''parameters to compare with the results'''\n",
    "w_res=np.sqrt(k*g*((D0*mu/k)-1.))*wscale #resonance frequency\n",
    "a=D0*mu/k\n",
    "w=np.sqrt(k*g*(a-1.)-(g*g*a*a)/4)*wscale #Relaxation oscilations frequency\n"
   ]
  },
  {
   "cell_type": "markdown",
   "metadata": {},
   "source": [
    "swiping parameter: wf\n"
   ]
  },
  {
   "cell_type": "code",
   "execution_count": 19,
   "metadata": {
    "collapsed": false
   },
   "outputs": [
    {
     "name": "stdout",
     "output_type": "stream",
     "text": [
      "1e-05\n",
      "0.33333\n"
     ]
    }
   ],
   "source": [
    "dmin=0.00001\n",
    "dmax=1.\n",
    "#wfn=np.arange(wfmin, wfmax+(wfmax-wfmin)/200. , (wfmax-wfmin)/200.) #10 pasos entre la resonancia y 0.1*resonancia\n",
    "dn=list(np.arange(dmin, dmax+(dmax-dmin)/3. , (dmax-dmin)/3.)) #10 pasos entre la resonancia y 0.1*resonancia\n",
    " #10 pasos entre la resonancia y 0.1*resonancia\n",
    "print dn[0]\n",
    "dn.reverse()\n",
    "print dn[0]-dn[1]"
   ]
  },
  {
   "cell_type": "markdown",
   "metadata": {},
   "source": [
    "## Initial conditions, Integration and variables"
   ]
  },
  {
   "cell_type": "code",
   "execution_count": 20,
   "metadata": {
    "collapsed": true
   },
   "outputs": [],
   "source": [
    "%matplotlib inline\n",
    "\n",
    "#Function for initializing simulations after the transition\n",
    "def  initial(init, time, y):\n",
    "    intime=500.*15*10**(-6)*gperp #integration time FOR TRANDITORY\n",
    "    if init=='new':\n",
    "        '''User defined initial condition'''\n",
    "        timeinit = np.arange(0., intime, .9)\n",
    "        dfxinit=[1., 1.] \n",
    "        dfyinit=[1.,  -1.9]  \n",
    "        drxinit=[1.,   1.]\n",
    "        dryinit=[1.,  -1.9] \n",
    "        ddeltainit=[6.65973518e+03]\n",
    "        yinit=np.array(dfxinit+dfyinit+drxinit+dryinit+ddeltainit)\n",
    "    if init=='l':\n",
    "        '''initial condition from last simulation'''\n",
    "        timeinit = np.arange(time[-1] ,intime*5/15+time[-1] , .9)\n",
    "        yinit=y[-1]\n",
    "    return yinit, timeinit\n",
    "    \n",
    "\n",
    "   "
   ]
  },
  {
   "cell_type": "code",
   "execution_count": 21,
   "metadata": {
    "collapsed": true
   },
   "outputs": [],
   "source": [
    "@autojit\n",
    "def swipe(m,k,mu,Dphi0,dn,g,D0,wf):\n",
    "    steps=2#number of iterations\n",
    "    peaks=[[0], [0]]\n",
    "    count=0\n",
    "    time=np.array([0, 0])\n",
    "    y=np.array([[0,0,0,0,0,0,0,0,0],[0,0,0,0,0,0,0,0,0]])\n",
    "    yinit, time=initial('new', time, y)#first run\n",
    "    y, time=integ(yinit,time,k,mu,Dphi0,dn[0],g,D0,m,wf)\n",
    "    '''swipe''' \n",
    "    for d in dn:  #loop for frequencys\n",
    "        count=count+1\n",
    "        print count\n",
    "        for i in range(steps): #for each freq, integrete some time, and then integrate again using the last result as initial condition\n",
    "            '''initial conditions'''\n",
    "            if i==0:\n",
    "                yinit, time=initial('l', time, y)\n",
    "            if i==1:\n",
    "                yinit, time=initial('l', time, y)\n",
    "            '''integration'''\n",
    "            y, time=integ(yinit,time,k,mu,Dphi0,d,g,D0,m,wf)\n",
    "        '''intensitys'''\n",
    "        intensity_ex=np.sqrt(y[:,0]**2+y[:,1]**2)\n",
    "        intensity_ey=np.sqrt(y[:,2]**2+y[:,3]**2)\n",
    "        intensity=np.sqrt(y[:,0]**2+y[:,1]**2+y[:,2]**2+y[:,3]**2)\n",
    "        '''peaks'''\n",
    "        #peak_coor=argrelextrema(intensity, np.greater)#find peaks index\n",
    "        peak_max=list(set(intensity[argrelextrema(intensity, np.greater)[0]]))#intensity peaks\n",
    "        d_peaks=list(d*np.ones_like(peak_max))#vector or m, the same lenght as peak_max\n",
    "        peaks[0]=peaks[0]+d_peaks\n",
    "        peaks[1]=peaks[1]+peak_max\n",
    "        \n",
    "    return peaks\n",
    "        "
   ]
  },
  {
   "cell_type": "code",
   "execution_count": 22,
   "metadata": {
    "collapsed": false,
    "scrolled": true
   },
   "outputs": [
    {
     "name": "stdout",
     "output_type": "stream",
     "text": [
      "1\n",
      "\n",
      "2\n",
      "\n",
      "3\n",
      "\n",
      "4\n",
      "\n"
     ]
    }
   ],
   "source": [
    "peaks=swipe(m,k,mu,Dphi0,dn,g,D0,wf)"
   ]
  },
  {
   "cell_type": "code",
   "execution_count": 23,
   "metadata": {
    "collapsed": true
   },
   "outputs": [],
   "source": [
    "'''plots'''\n",
    "save=True #set True if i want to save files automatically\n",
    "        "
   ]
  },
  {
   "cell_type": "code",
   "execution_count": 24,
   "metadata": {
    "collapsed": false
   },
   "outputs": [],
   "source": [
    "if save==True:\n",
    "    with open('mblockrealesfase-swipe-delta.txt','a') as file:\n",
    "        print>>file, '%d_%d_%d-%d.%d.%d delta swipe \\n' % localtime()[0:6], 'from delta=%f to delta=%f , steps=%f .wf=%f m= %f' %(dn[0], dn[-1], len(dn) , wf_real, m)  \n",
    "        print>>file, 'dn=', dn\n",
    "        print>>file, 'peaks=', peaks\n",
    "            "
   ]
  },
  {
   "cell_type": "code",
   "execution_count": 25,
   "metadata": {
    "collapsed": false,
    "scrolled": true
   },
   "outputs": [
    {
     "data": {
      "image/png": "[encoded data removed]",
      "text/plain": [
       "<matplotlib.figure.Figure at 0x1d4626d8>"
      ]
     },
     "metadata": {},
     "output_type": "display_data"
    }
   ],
   "source": [
    "fig_bif=plt.figure()\n",
    "fig_bif.suptitle('max peaks vs delta', fontsize=12, fontweight='bold')\n",
    "ax2 = fig_bif.add_subplot(111)\n",
    "ax2.plot(peaks[0][1:],peaks[1][1:],'.b')\n",
    "ax2.set_xlabel('delta')\n",
    "ax2.set_ylabel('peaks')\n",
    "plt.text(-0.1,-.32, \"\\n Parameters: $m$= %.4f  , $\\Delta \\phi_0=$ %s ,  $\\Omega=$ %.3f khz \\n $k$=%.2f khz, $\\mu'=$ %s , $\\delta= $ %.2e , $\\gamma_{||}=$ %s , $D_0=$ %s, $A=$ %.1f \" % (m, Dphi0, w_res ,k,mu, d, g, D0, a), fontsize=11, transform=ax2.transAxes)   \n",
    "plt.subplots_adjust(bottom=0.22)\n",
    "fig_bif.set_size_inches(6, 6)\n",
    "if save==True: \n",
    "    fname='%d_%d_%d-%d.%d.%d-max_vs_delta.png' % localtime()[0:6]\n",
    "    fig_bif.savefig(fname, dpi = 200)# when saving, specify the DPI"
   ]
  },
  {
   "cell_type": "code",
   "execution_count": 26,
   "metadata": {
    "collapsed": true
   },
   "outputs": [],
   "source": [
    "@autojit\n",
    "def swiperev(m,k,mu,Dphi0,d,g,D0,wfn):\n",
    "    steps=2#number of iterations\n",
    "    peaks=[[0], [0]]\n",
    "    count=0\n",
    "    time=np.array([0, 0])\n",
    "    y=np.array([[0,0,0,0,0,0,0,0,0],[0,0,0,0,0,0,0,0,0]])\n",
    "    yinit, time=initial('new', time, y)#first run\n",
    "    y, time=integ(yinit,time,k,mu,Dphi0,d,g,D0,m,wfn[0])\n",
    "    '''swipe''' \n",
    "    for wf in wfn:  #loop for frequencys\n",
    "        wf_real=wf*wscale\n",
    "        count=count+1\n",
    "        print count\n",
    "        for i in range(steps): #for each freq, integrete some time, and then integrate again using the last result as initial condition\n",
    "            '''initial conditions'''\n",
    "            if i==0:\n",
    "                yinit, time=initial('l', time, y)\n",
    "            if i==1:\n",
    "                yinit, time=initial('l', time, y)\n",
    "            '''integration'''\n",
    "            y, time=integ(yinit,time,k,mu,Dphi0,d,g,D0,m,wf)\n",
    "        '''intensitys'''\n",
    "        intensity_ex=np.sqrt(y[:,0]**2+y[:,1]**2)\n",
    "        intensity_ey=np.sqrt(y[:,2]**2+y[:,3]**2)\n",
    "        intensity=np.sqrt(y[:,0]**2+y[:,1]**2+y[:,2]**2+y[:,3]**2)\n",
    "        '''peaks'''\n",
    "        peak_coor=argrelextrema(intensity, np.greater)#find peaks index\n",
    "        peak_max=list(set(intensity[argrelextrema(intensity, np.greater)[0]]))#intensity peaks\n",
    "        w_peaks=list(wf*wscale*np.ones_like(peak_max))#vector or m, the same lenght as peak_max\n",
    "        peaks[0]=peaks[0]+w_peaks\n",
    "        peaks[1]=peaks[1]+peak_max\n",
    "        \n",
    "    return peaks\n",
    "        "
   ]
  },
  {
   "cell_type": "code",
   "execution_count": 27,
   "metadata": {
    "collapsed": true
   },
   "outputs": [],
   "source": [
    "#peaksrev=swiperev(m,k,mu,Dphi0,d,g,D0,wfn)"
   ]
  },
  {
   "cell_type": "markdown",
   "metadata": {
    "collapsed": false
   },
   "source": [
    "fig_bif=plt.figure()\n",
    "fig_bif.suptitle('max peaks vs w. time reversed', fontsize=12, fontweight='bold')\n",
    "ax2 = fig_bif.add_subplot(111)\n",
    "ax2.plot(peaksrev[0][1:],peaksrev[1][1:],',r')\n",
    "ax2.set_xlabel('wf')\n",
    "ax2.set_ylabel('peaks')\n",
    "plt.text(-0.1,-.32, \"\\n Parameters: $m$= %.4f  , $\\Delta \\phi_0=$ %s ,  $\\Omega=$ %.3f khz \\n $k$=%.2f khz, $\\mu'=$ %s , $\\delta= $ %.2e , $\\gamma_{||}=$ %s , $D_0=$ %s, $A=$ %.1f \" % (m, Dphi0, w_res ,k,mu, d, g, D0, a), fontsize=11, transform=ax2.transAxes)   \n",
    "plt.subplots_adjust(bottom=0.22)\n",
    "fig_bif.set_size_inches(6, 6)\n",
    "if save==True: \n",
    "    fname='%d_%d_%d-%d.%d.%d-max_vs_w.png' % localtime()[0:6]\n",
    "    fig_bif.savefig(fname, dpi = 200)# when saving, specify the DPI"
   ]
  },
  {
   "cell_type": "code",
   "execution_count": 28,
   "metadata": {
    "collapsed": true
   },
   "outputs": [],
   "source": [
    "#fig5=plt.figure()\n",
    "#ax1 = fig5.add_subplot(111)\n",
    "#f1=plt.plot(time,y[:,0])\n",
    "#f1=plt.plot(time,y[:,2])\n",
    "#fig5.suptitle('E_x  & E_y vs tiempo', fontsize=12, fontweight='bold')\n",
    "#ax1.set_xlabel('time(ms) ')\n",
    "#ax1.set_ylabel('E ')\n",
    "#plt.xlim(min(time), max(time))\n",
    "#plt.text(-0.1,-1.04, \"\\n Parameters: $m= $ %s , $w_{mod}$= %.2f khz , $\\Delta \\phi_0=$ %s ,  $\\Omega=$ %f khz \\n $k$=%.2f khz, $\\mu'=$ %s , $\\delta= $ %.2e , $\\gamma_{||}=$ %s , $D_0=$ %s, $A=$ %.1f \" % (m,wf, Dphi0, w_res ,k,mu, d, g, D0, a), fontsize=11, transform=ax3.transAxes)   \n",
    "#plt.subplots_adjust(bottom=0.22)\n",
    "#fig1.savefig('moduloE_fasemodulada.png')\n"
   ]
  },
  {
   "cell_type": "code",
   "execution_count": 29,
   "metadata": {
    "collapsed": false,
    "scrolled": false
   },
   "outputs": [],
   "source": [
    "'''comparison between the solution with and without modulation'''\n",
    "def comp():\n",
    "    comparembfase(y,yinit,time,k,mu,Dphi0,d,g,D0,m,wf)\n",
    "\n",
    "#comp()"
   ]
  },
  {
   "cell_type": "raw",
   "metadata": {
    "collapsed": false
   },
   "source": [
    "import plotly\n",
    "import plotly.plotly as py\n",
    "import plotly.graph_objs as go\n",
    "from plotly import tools\n",
    "\n",
    "print plotly.__version__\n",
    "plotly.offline.init_notebook_mode()\n",
    "#import plotly.tools as tls\n",
    "#py.sign_in('your_username','your_api_key')"
   ]
  },
  {
   "cell_type": "markdown",
   "metadata": {
    "collapsed": true
   },
   "source": [
    "'''Saving  param values in a csv file'''\n",
    "import csv\n",
    "\n",
    "res = wfn\n",
    "csvfile = \"<path to output csv or txt>\"\n",
    "\n",
    "#Assuming res is a flat list\n",
    "with open(mblockrealesfase-swipe-w, \"w\") as output:\n",
    "    writer = csv.writer(output, lineterminator='\\n')\n",
    "    for val in res:\n",
    "        writer.writerow([:])    \n",
    "\n",
    "#Assuming res is a list of lists\n",
    "with open(mblockrealesfase-swipe-w, \"w\") as output:\n",
    "    writer = csv.writer(output, lineterminator='\\n')\n",
    "    writer.writerows(res)"
   ]
  },
  {
   "cell_type": "markdown",
   "metadata": {},
   "source": [
    "Notebook style:"
   ]
  },
  {
   "cell_type": "code",
   "execution_count": 30,
   "metadata": {
    "collapsed": false
   },
   "outputs": [
    {
     "data": {
      "text/html": [
       "<style>\n",
       "\n",
       "html {\n",
       "  font-size: 62.5% !important; }\n",
       "body {\n",
       "  font-size: 1.5em !important; /* currently ems cause chrome bug misinterpreting rems on body element */\n",
       "  line-height: 1.6 !important;\n",
       "  font-weight: 400 !important;\n",
       "  font-family: \"Raleway\", \"HelveticaNeue\", \"Helvetica Neue\", Helvetica, Arial, sans-serif !important;\n",
       "  color: #222 !important; }\n",
       "\n",
       "div{ border-radius: 0px !important;  }\n",
       "div.CodeMirror-sizer{ background: rgb(244, 244, 248) !important; }\n",
       "div.input_area{ background: rgb(244, 244, 248) !important; }\n",
       "\n",
       "div.out_prompt_overlay:hover{ background: rgb(244, 244, 248) !important; }\n",
       "div.input_prompt:hover{ background: rgb(244, 244, 248) !important; }\n",
       "\n",
       "h1, h2, h3, h4, h5, h6 {\n",
       "  color: #333 !important;\n",
       "  margin-top: 0 !important;\n",
       "  margin-bottom: 2rem !important;\n",
       "  font-weight: 300 !important; }\n",
       "h1 { font-size: 4.0rem !important; line-height: 1.2 !important;  letter-spacing: -.1rem !important;}\n",
       "h2 { font-size: 3.6rem !important; line-height: 1.25 !important; letter-spacing: -.1rem !important; }\n",
       "h3 { font-size: 3.0rem !important; line-height: 1.3 !important;  letter-spacing: -.1rem !important; }\n",
       "h4 { font-size: 2.4rem !important; line-height: 1.35 !important; letter-spacing: -.08rem !important; }\n",
       "h5 { font-size: 1.8rem !important; line-height: 1.5 !important;  letter-spacing: -.05rem !important; }\n",
       "h6 { font-size: 1.5rem !important; line-height: 1.6 !important;  letter-spacing: 0 !important; }\n",
       "\n",
       "@media (min-width: 550px) {\n",
       "  h1 { font-size: 5.0rem !important; }\n",
       "  h2 { font-size: 4.2rem !important; }\n",
       "  h3 { font-size: 3.6rem !important; }\n",
       "  h4 { font-size: 3.0rem !important; }\n",
       "  h5 { font-size: 2.4rem !important; }\n",
       "  h6 { font-size: 1.5rem !important; }\n",
       "}\n",
       "\n",
       "p {\n",
       "  margin-top: 0 !important; }\n",
       "  \n",
       "a {\n",
       "  color: #1EAEDB !important; }\n",
       "a:hover {\n",
       "  color: #0FA0CE !important; }\n",
       "  \n",
       "code {\n",
       "  padding: .2rem .5rem !important;\n",
       "  margin: 0 .2rem !important;\n",
       "  font-size: 90% !important;\n",
       "  white-space: nowrap !important;\n",
       "  background: #F1F1F1 !important;\n",
       "  border: 1px solid #E1E1E1 !important;\n",
       "  border-radius: 4px !important; }\n",
       "pre > code {\n",
       "  display: block !important;\n",
       "  padding: 1rem 1.5rem !important;\n",
       "  white-space: pre !important; }\n",
       "  \n",
       "button{ border-radius: 0px !important; }\n",
       ".navbar-inner{ background-image: none !important;  }\n",
       "select, textarea{ border-radius: 0px !important; }\n",
       "\n",
       "</style>"
      ],
      "text/plain": [
       "<IPython.core.display.HTML object>"
      ]
     },
     "execution_count": 30,
     "metadata": {},
     "output_type": "execute_result"
    }
   ],
   "source": [
    "from IPython.core.display import HTML\n",
    "import urllib2\n",
    "HTML(urllib2.urlopen('http://bit.ly/1Bf5Hft').read())"
   ]
  },
  {
   "cell_type": "code",
   "execution_count": null,
   "metadata": {
    "collapsed": false
   },
   "outputs": [],
   "source": []
  },
  {
   "cell_type": "code",
   "execution_count": null,
   "metadata": {
    "collapsed": true
   },
   "outputs": [],
   "source": []
  },
  {
   "cell_type": "raw",
   "metadata": {
    "collapsed": false
   },
   "source": [
    "periods=10\n",
    "#plotly.offline.iplot([dict(x=time*scale, y=np.cos(wf*time))] )\n",
    "#plotly.offline.iplot([dict(x=time*scale, y=intensity)] )\n",
    "#plotly.offline.iplot([dict(x=time*scale, y=intensity)] )\n",
    "\n",
    "fig = tools.make_subplots(rows=3, cols=1, subplot_titles=('', '',''))\n",
    "\n",
    "fig.append_trace(go.Scatter(x=time*scale, y=np.cos(wf*time)), 1, 1)\n",
    "fig.append_trace(go.Scatter(x=time*scale, y=intensity), 2, 1)\n",
    "fig.append_trace(go.Scatter(x=time*scale, y=intensity), 3, 1)\n",
    "\n",
    "# All of the axes properties \n",
    "fig['layout']['xaxis1'].update(title='time($\\mu x$)', range=[min(time*scale), min(time*scale)+(periods*2*pi/wf)*scale], showgrid=False)\n",
    "fig['layout']['xaxis2'].update(title='time($\\mu x$)', range=[min(time*scale), min(time*scale)+(periods*2*pi/wf)*scale], showgrid=False)\n",
    "fig['layout']['xaxis3'].update(title='time($\\mu x$)', range=[max(time*scale)-(periods*2*pi/wf)*scale, max(time*scale)], showgrid=False)\n",
    "fig['layout']['yaxis1'].update(title='Modulation', showgrid=False)\n",
    "fig['layout']['yaxis2'].update(title='|E|', showgrid=False)\n",
    "fig['layout']['yaxis3'].update(title='|E|', showgrid=False)\n",
    "\n",
    "fig['layout'].update(height=600, width=600, title='Comparison between |E| and the Modulation')\n",
    "plot= plotly.offline.iplot(fig)\n"
   ]
  },
  {
   "cell_type": "code",
   "execution_count": null,
   "metadata": {
    "collapsed": true
   },
   "outputs": [],
   "source": []
  },
  {
   "cell_type": "markdown",
   "metadata": {
    "collapsed": true
   },
   "source": [
    "a hacer:\n",
    "    \n",
    "    - barrido en frecuencia hacia la resonancia.\n",
    "    - barrido en m, en la frecuencia de resonancia.\n",
    "    - mapa de parametros usados"
   ]
  },
  {
   "cell_type": "code",
   "execution_count": null,
   "metadata": {
    "collapsed": true
   },
   "outputs": [],
   "source": []
  },
  {
   "cell_type": "code",
   "execution_count": null,
   "metadata": {
    "collapsed": true
   },
   "outputs": [],
   "source": []
  },
  {
   "cell_type": "markdown",
   "metadata": {},
   "source": [
    "        periods=15\n",
    "        #####\n",
    "        fig0=plt.figure()\n",
    "        fig0.suptitle('Temporal evolution of |E|, |P| and the Population', fontsize=12, fontweight='bold')\n",
    "        ax1 = fig0.add_subplot(3, 1, 1)\n",
    "        ax1.plot(time*scale,intensity)\n",
    "        ax1.set_ylabel('|E| ')\n",
    "        ax1.set_xlim(min(time*scale), max(time*scale))\n",
    "        ax2 = fig0.add_subplot(3, 1, 2)\n",
    "        ax2.set_xlim(min(time*scale), max(time*scale))\n",
    "        ax2.plot(time*scale,intensity)\n",
    "        ax2.set_ylabel('|P|')\n",
    "        ax3 = fig0.add_subplot(3, 1, 3)\n",
    "        ax3.plot(time*scale,y[:,8])\n",
    "        plt.ylim(min(y[:,8]), max(y[:,8]))\n",
    "        ax3.set_ylabel('Population')\n",
    "        ax3.set_xlim(min(time*scale), max(time*scale))\n",
    "        plt.xlabel('Time($\\mu s$)')\n",
    "        plt.text(-0.09,-1.05, \"\\n Parameters: $m= $ %s , $w_{mod}$= %.4f khz , $\\Delta \\phi_0=$ %s ,  $\\Omega=$ %.2f khz \\n $k$=%.2f khz, $\\mu'=$ %s , $\\delta= $ %.2e , $\\gamma_{||}=$ %s , $D_0=$ %s, $A=$ %.1f \" % (m,wf_real, Dphi0, w_res ,k,mu, d, g, D0, a), fontsize=11, transform=ax3.transAxes)   \n",
    "        plt.subplots_adjust(bottom=0.22)\n",
    "        fig0.set_size_inches(11, 7)\n",
    "        if save==True: \n",
    "            fname='%d_%d_%d-%d.%d.%d-Time_series.png' % localtime()[0:6]\n",
    "            fig0.savefig(fname) \n",
    "        fig4=plt.figure()\n",
    "        fig4.suptitle('Comparison between |E| and the Modulation', fontsize=12, fontweight='bold')\n",
    "        ax1 = fig4.add_subplot(3, 1, 1)\n",
    "        ax1.plot(time*scale,np.cos(wf*time), label='$w_{mod}$=%.2f khz' %wf_real)\n",
    "        ax1.set_xlim(min(time*scale), min(time*scale)+(periods*2*pi/wf)*scale)\n",
    "        ax1.set_ylabel('Modulation ')\n",
    "        ax1.legend(fontsize = 'small')\n",
    "        ax2 = fig4.add_subplot(3, 1, 2)\n",
    "        ax2.plot(time*scale,intensity,label='First %i periods' %periods)\n",
    "        ax2.set_ylabel('|E|')\n",
    "        ax2.set_xlim(min(time*scale), min(time*scale)+(periods*2*pi/wf)*scale)\n",
    "        ax2.legend(fontsize = 'small')\n",
    "        ax3 = fig4.add_subplot(3, 1, 3)\n",
    "        ax3.set_xlim(max(time*scale)-(periods*2*pi/wf)*scale, max(time*scale),emit='True')\n",
    "        ax3.plot(time*scale,intensity,label='Last %i periods' %periods)\n",
    "        ax3.set_ylim(intensity[len(intensity)-1]-8*(max(intensity[len(intensity)-9000:])-intensity[len(intensity)-1]),intensity[len(intensity)-1]+8*(max(intensity[len(intensity)-9000:])-intensity[len(intensity)-1]))\n",
    "        ax3.set_ylabel('|E|')\n",
    "        ax3.legend(fontsize = 'small')\n",
    "        plt.text(-0.09,-1.06, \"\\n Parameters: $m= $ %s , $w_{mod}$= %.4f khz , $\\Delta \\phi_0=$ %s ,  $\\Omega=$ %.2f khz \\n $k$=%.2f khz, $\\mu'=$ %s , $\\delta= $ %.2e , $\\gamma_{||}=$ %s , $D_0=$ %s, $A=$ %.1f \" % (m,wf_real, Dphi0, w_res ,k,mu, d, g, D0, a), fontsize=11, transform=ax3.transAxes)   \n",
    "        plt.subplots_adjust(bottom=0.22)\n",
    "        fig4.set_size_inches(8, 6)\n",
    "        plt.xlabel('Time ($\\mu s$)')\n",
    "        #ax3.relim(visible_only=True)\n",
    "        #ax3.autoscale_view(tight=True, scalex=True, scaley=True)\n",
    "        #ax3.yaxis.zoom(3)\n",
    "        #ax3.yaxis.set_smart_bounds('True')\n",
    "        if save==True: \n",
    "            fname='%d_%d_%d-%d.%d.%d-comparison periods.png' % localtime()[0:6]\n",
    "            fig4.savefig(fname, dpi = 100)# when saving, specify the DPI\n",
    "        fig5=plt.figure()\n",
    "        fig5.suptitle('Comparison between |E| and modulation', fontsize=12, fontweight='bold')\n",
    "        ax1 = fig5.add_subplot(111)\n",
    "        ax1.plot(time*scale,intensity,'b', label='|E|')\n",
    "        ax2=ax1.twinx()\n",
    "        ax2.plot(time*scale,np.cos(wf*time),'g', alpha=0.4, label='modulation')\n",
    "        ax1.set_xlabel('time($\\mu s$)')\n",
    "        ax1.set_ylabel('|E|')\n",
    "        plt.xlim(min(time*scale), min(time*scale)+(periods*2*pi/wf)*scale)\n",
    "        ax2.set_ylim(-1.5, 1.5)\n",
    "        #ax2.set_ylim(-intensity[len(intensity)-1, intensity[len(intensity)-1 )\n",
    "        plt.text(-0.1,-0.33, \"\\n Parameters: $m= $ %s , $w_{mod}$= %.4f khz , $\\Delta \\phi_0=$ %s ,  $\\Omega=$ %.2f khz \\n $k$=%.2f khz, $\\mu'=$ %s , $\\delta= $ %.2e , $\\gamma_{||}=$ %s , $D_0=$ %s, $A=$ %.1f\" % (m,wf_real, Dphi0, w_res ,k,mu, d, g, D0, a), fontsize=11, transform=ax1.transAxes)   \n",
    "        plt.subplots_adjust(bottom=0.22)\n",
    "        fig5.set_size_inches(14, 5)\n",
    "        plt.legend()\n",
    "        if save==True: \n",
    "            fname='%d_%d_%d-%d.%d.%d-comparison.png' % localtime()[0:6]\n",
    "            fig5.savefig(fname, dpi = 100)# when saving, specify the DPI\n",
    "        fig3=plt.figure()\n",
    "        fig3.suptitle('|E| vs time', fontsize=12, fontweight='bold')\n",
    "        ax1 = fig3.add_subplot(111)\n",
    "        plt.plot(time*scale,intensity_ex,'g', alpha=0.7,  label='$|E_x|$')\n",
    "        plt.plot(time*scale,intensity_ey,'r', alpha=0.6,  label='$|E_y|$')\n",
    "        plt.plot(time*scale,intensity,'b', alpha=0.4, label='$|E|$')\n",
    "        ax1.set_xlim(min(time*scale), min(time*scale)+(periods*2*pi/wf)*scale)\n",
    "        ax1.set_xlabel('time($\\mu s$)')\n",
    "        ax1.set_ylabel('Electric field ')\n",
    "        plt.xlim(min(time*scale), max(time*scale))\n",
    "        plt.text(-0.1,-.33, \"\\n Parameters: $m= $ %s , $w_{mod}$= %.4f khz , $\\Delta \\phi_0=$ %s ,  $\\Omega=$ %.3f khz \\n $k$=%.2f khz, $\\mu'=$ %s , $\\delta= $ %.2e , $\\gamma_{||}=$ %s , $D_0=$ %s, $A=$ %.1f \\n |E|(blue), |$E_x$| (Green), |$E_y$| (Red)\" % (m,wf_real, Dphi0, w_res ,k,mu, d, g, D0, a), fontsize=11, transform=ax1.transAxes)   \n",
    "        plt.subplots_adjust(bottom=0.22)\n",
    "        plt.legend(fontsize = 'medium')\n",
    "        fig3.set_size_inches(14, 5)\n",
    "        if save==True: \n",
    "            fname='%d_%d_%d-%d.%d.%d-E_intensitys.png' % localtime()[0:6]\n",
    "            fig3.savefig(fname, dpi = 100)# when saving, specify the DPI\n",
    "        '''Phase spaces'''\n",
    "        fig8=plt.figure()\n",
    "        fig8.suptitle('|P| vs population', fontsize=12, fontweight='bold')\n",
    "        ax2 = fig8.add_subplot(111)\n",
    "        plt.plot(y[:,8], np.sqrt(y[:,4]**2+y[:,5]**2+y[:,6]**2+y[:,7]**2))\n",
    "        ax2.set_xlabel('Population')\n",
    "        ax2.set_ylabel('|P|')\n",
    "        plt.text(-0.1,-.32, \"\\n Parameters: $m= $ %s , $w_{mod}$= %.4f khz , $\\Delta \\phi_0=$ %s ,  $\\Omega=$ %.3f khz \\n $k$=%.2f khz, $\\mu'=$ %s , $\\delta= $ %.2e , $\\gamma_{||}=$ %s , $D_0=$ %s, $A=$ %.1f \" % (m,wf_real, Dphi0, w_res ,k,mu, d, g, D0, a), fontsize=11, transform=ax2.transAxes)   \n",
    "        plt.subplots_adjust(bottom=0.22)\n",
    "        fig8.set_size_inches(6, 6)\n",
    "        if save==True: \n",
    "            fname='%d_%d_%d-%d.%d.%d-p_vs_population.png' % localtime()[0:6]\n",
    "            fig8.savefig(fname) \n",
    "        fig9=plt.figure()\n",
    "        fig9.suptitle('|E| vs population', fontsize=12, fontweight='bold')\n",
    "        ax2 = fig9.add_subplot(111)\n",
    "        plt.plot(y[:,8], intensity)\n",
    "        ax2.set_xlabel('Population')\n",
    "        ax2.set_ylabel('|E|')\n",
    "        plt.text(-0.1,-.32, \"\\n Parameters: $m= $ %s , $w_{mod}$= %.4f khz , $\\Delta \\phi_0=$ %s ,  $\\Omega=$ %.3f khz \\n $k$=%.2f khz, $\\mu'=$ %s , $\\delta= $ %.2e , $\\gamma_{||}=$ %s , $D_0=$ %s, $A=$ %.1f \" % (m,wf_real, Dphi0, w_res ,k,mu, d, g, D0, a), fontsize=11, transform=ax2.transAxes)   \n",
    "        plt.subplots_adjust(bottom=0.22)\n",
    "        fig9.set_size_inches(6, 6)\n",
    "        if save==True: \n",
    "            fname='%d_%d_%d-%d.%d.%d-E_vs_population.png' % localtime()[0:6]\n",
    "            fig9.savefig(fname, dpi = 100)# when saving, specify the DPI"
   ]
  },
  {
   "cell_type": "code",
   "execution_count": null,
   "metadata": {
    "collapsed": true
   },
   "outputs": [],
   "source": []
  }
 ],
 "metadata": {
  "kernelspec": {
   "display_name": "Python 2",
   "language": "python",
   "name": "python2"
  },
  "language_info": {
   "codemirror_mode": {
    "name": "ipython",
    "version": 2
   },
   "file_extension": ".py",
   "mimetype": "text/x-python",
   "name": "python",
   "nbconvert_exporter": "python",
   "pygments_lexer": "ipython2",
   "version": "2.7.11"
  }
 },
 "nbformat": 4,
 "nbformat_minor": 0
}
