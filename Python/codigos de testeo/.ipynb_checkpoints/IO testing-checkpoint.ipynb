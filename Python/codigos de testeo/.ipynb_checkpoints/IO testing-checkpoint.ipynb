{
 "cells": [
  {
   "cell_type": "code",
   "execution_count": 2,
   "metadata": {
    "collapsed": false
   },
   "outputs": [],
   "source": [
    "import numpy as np\n",
    "#import scipy as sc\n",
    "#import matplotlib\n",
    "import matplotlib.pyplot as plt\n",
    "#from scipy.integrate import odeint\n",
    "#from numpy import linspace\n",
    "#import math\n",
    "#from matplotlib.collections import LineCollection\n",
    "#from comparefase import comparembfase\n",
    "##from intmbfase import intmbfase as integ\n",
    "#from intfaserev import intfaserev as intrev\n",
    "#from intmbfase2 import intmbfase2 as integ2\n",
    "from scipy.signal import argrelextrema\n",
    "import os"
   ]
  },
  {
   "cell_type": "code",
   "execution_count": 3,
   "metadata": {
    "collapsed": false
   },
   "outputs": [
    {
     "ename": "NameError",
     "evalue": "name 'self' is not defined",
     "output_type": "error",
     "traceback": [
      "\u001b[1;31m---------------------------------------------------------------------------\u001b[0m",
      "\u001b[1;31mNameError\u001b[0m                                 Traceback (most recent call last)",
      "\u001b[1;32m<ipython-input-3-a0260b67a8ab>\u001b[0m in \u001b[0;36m<module>\u001b[1;34m()\u001b[0m\n\u001b[1;32m----> 1\u001b[1;33m \u001b[0mdir_path\u001b[0m \u001b[1;33m=\u001b[0m \u001b[0mos\u001b[0m\u001b[1;33m.\u001b[0m\u001b[0mpath\u001b[0m\u001b[1;33m.\u001b[0m\u001b[0mjoin\u001b[0m\u001b[1;33m(\u001b[0m\u001b[0mself\u001b[0m\u001b[1;33m.\u001b[0m\u001b[0mfeed\u001b[0m\u001b[1;33m,\u001b[0m \u001b[0mself\u001b[0m\u001b[1;33m.\u001b[0m\u001b[0maddress\u001b[0m\u001b[1;33m)\u001b[0m  \u001b[1;31m# will return 'feed/address'\u001b[0m\u001b[1;33m\u001b[0m\u001b[0m\n\u001b[0m\u001b[0;32m      2\u001b[0m \u001b[0mos\u001b[0m\u001b[1;33m.\u001b[0m\u001b[0mmakedirs\u001b[0m\u001b[1;33m(\u001b[0m\u001b[0mdir_path\u001b[0m\u001b[1;33m)\u001b[0m                             \u001b[1;31m# create directory [current_path]/feed/address\u001b[0m\u001b[1;33m\u001b[0m\u001b[0m\n\u001b[0;32m      3\u001b[0m \u001b[0moutput\u001b[0m \u001b[1;33m=\u001b[0m \u001b[0mopen\u001b[0m\u001b[1;33m(\u001b[0m\u001b[0mos\u001b[0m\u001b[1;33m.\u001b[0m\u001b[0mpath\u001b[0m\u001b[1;33m.\u001b[0m\u001b[0mjoin\u001b[0m\u001b[1;33m(\u001b[0m\u001b[0mdir_path\u001b[0m\u001b[1;33m,\u001b[0m \u001b[0mfile_name\u001b[0m\u001b[1;33m)\u001b[0m\u001b[1;33m,\u001b[0m \u001b[1;34m'wb'\u001b[0m\u001b[1;33m)\u001b[0m\u001b[1;33m\u001b[0m\u001b[0m\n",
      "\u001b[1;31mNameError\u001b[0m: name 'self' is not defined"
     ]
    }
   ],
   "source": [
    "dir_path = os.path.join(self.feed, self.address)  # will return 'feed/address'\n",
    "os.makedirs(dir_path)                             # create directory [current_path]/feed/address\n",
    "output = open(os.path.join(dir_path, file_name), 'wb')"
   ]
  },
  {
   "cell_type": "code",
   "execution_count": 35,
   "metadata": {
    "collapsed": false
   },
   "outputs": [],
   "source": [
    "text_file = open(\"Status.txt\", \"wt\")\n",
    "stat=1\n",
    "wf=0.0047\n",
    "text_file.write('Status: %s /n a' %stat)\n",
    "text_file.write(\" wf: %f \"  %wf)\n",
    "text_file.close()"
   ]
  },
  {
   "cell_type": "code",
   "execution_count": 103,
   "metadata": {
    "collapsed": false
   },
   "outputs": [],
   "source": [
    "#Read parameters from 'Params.txt', set.\n",
    "txtfile=open(\"Params.txt\")\n",
    "tempvar=txtfile.readlines()\n",
    "#set parameters\n",
    "a= float(tempvar[1].split()[1])\n",
    "gperp= float(tempvar[2].split()[1])\n",
    "kr= float(tempvar[3].split()[1])\n",
    "k=kr/gperp\n",
    "mu= float(tempvar[4].split()[1])\n",
    "Dphi0= float(tempvar[5].split()[1])\n",
    "gr= float(tempvar[6].split()[1])\n",
    "g=gr/gperp\n",
    "m= float(tempvar[7].split()[1])\n",
    "wf= float(tempvar[8].split()[1])\n",
    " \n",
    "txtfile.close()"
   ]
  },
  {
   "cell_type": "code",
   "execution_count": 117,
   "metadata": {
    "collapsed": false
   },
   "outputs": [
    {
     "name": "stdout",
     "output_type": "stream",
     "text": [
      "a: 2.\n",
      "\n",
      "blabal\n"
     ]
    }
   ],
   "source": [
    "wfmax=0.00420\n",
    "wfmin=0.00380\n",
    "h=0.00001\n",
    "wf=wfmax\n",
    "while wf>wfmin :\n",
    "    if wf<wf-h: print 'man, wf esta aumentando, se hace infinito el loop.' \n",
    "    wf=wf-h\n",
    "    \n",
    "    \n",
    "with open('writetest.txt','w') as f:\n",
    "    f.write('1 \\n2 \\n3 \\n4 \\n5 \\n6')\n",
    "\n",
    "import linecache\n",
    "line1 = linecache.getline('Params.txt', 2)\n",
    "line2 = linecache.getline('writetest.txt', 33)+'blabal'\n",
    "\n",
    "print line1\n",
    "print line2\n",
    "\n",
    "\n",
    "f.close()"
   ]
  },
  {
   "cell_type": "code",
   "execution_count": 118,
   "metadata": {
    "collapsed": true
   },
   "outputs": [],
   "source": [
    "def editline(file,n_line,text):\n",
    "    with open(file) as infile:\n",
    "        lines = infile.readlines()\n",
    "    lines[n_line] = text+' \\n'\n",
    "    with open(file, 'w') as outfile:\n",
    "        outfile.writelines(lines)"
   ]
  },
  {
   "cell_type": "code",
   "execution_count": 119,
   "metadata": {
    "collapsed": false
   },
   "outputs": [],
   "source": [
    "editline('writetest.txt',3,'4ta linea... wf: %f' %wf + 'blblblblblb')"
   ]
  },
  {
   "cell_type": "code",
   "execution_count": 181,
   "metadata": {
    "collapsed": false
   },
   "outputs": [
    {
     "name": "stdout",
     "output_type": "stream",
     "text": [
      "[ 1.  2.]\n",
      "[ 1.  2.]\n",
      "2\n",
      "[ 1.  2.  3.  2.]\n",
      "[[ 0.1  0.2]\n",
      " [ 1.   3. ]]\n"
     ]
    }
   ],
   "source": [
    "print np.array([1.0,2.0])\n",
    "\n",
    "bintest=open('binfile.in','ab')\n",
    "np.ndarray.tofile(np.array([1.0,2.0]),'binfile.in')\n",
    "np.ndarray.tofile(np.array([1.0,2.0]),'binfile.in')\n",
    "#np.ndarray.tofile(np.array([[5.0,6.0],[7.0,8.0]]),'binfile.in')\n",
    "bintest.close()\n",
    "bintest=open('binfile.in','ab')\n",
    "np.ndarray.tofile(np.array([1.0,2.0]),'binfile.in')\n",
    "np.ndarray.tofile(np.array([1.0,2.0]),'binfile.in')\n",
    "#np.ndarray.tofile(np.array([[5.0,6.0],[7.0,8.0]]),'binfile.in')\n",
    "bintest.close()\n",
    "\n",
    "bintest=open('binfile2.in','ab')\n",
    "a=np.array([[1.0,2.0],[3.0,2.0]])\n",
    "a.tofile(bintest)\n",
    "bintest.close()\n",
    "\n",
    "\n",
    "artest=np.fromfile('binfile.in',dtype=np.float64)\n",
    "print artest\n",
    "\n",
    "artest2=np.fromfile('binfile2.in',dtype=np.float64)\n",
    "num=np.shape(artest2)[0]\n",
    "print num/2\n",
    "np.array(artest2).reshape(2,num/2)\n",
    "print artest2\n",
    "\n",
    "print np.array([.1,.2,1.,3.]).reshape(2,2)\n",
    "\n"
   ]
  },
  {
   "cell_type": "code",
   "execution_count": 146,
   "metadata": {
    "collapsed": false,
    "scrolled": true
   },
   "outputs": [
    {
     "name": "stdout",
     "output_type": "stream",
     "text": [
      "[  5000.           5000.01000002   5000.02000004 ...,   9999.97999996\n",
      "   9999.98999998  10000.        ]\n"
     ]
    },
    {
     "ename": "NameError",
     "evalue": "name 'tik' is not defined",
     "output_type": "error",
     "traceback": [
      "\u001b[1;31m---------------------------------------------------------------------------\u001b[0m",
      "\u001b[1;31mNameError\u001b[0m                                 Traceback (most recent call last)",
      "\u001b[1;32m<ipython-input-146-392712666ed3>\u001b[0m in \u001b[0;36m<module>\u001b[1;34m()\u001b[0m\n\u001b[0;32m     11\u001b[0m \u001b[1;31m#ax2.set_xlabel('#Periods')\u001b[0m\u001b[1;33m\u001b[0m\u001b[1;33m\u001b[0m\u001b[0m\n\u001b[0;32m     12\u001b[0m \u001b[0mya\u001b[0m \u001b[1;33m=\u001b[0m \u001b[0max2\u001b[0m\u001b[1;33m.\u001b[0m\u001b[0mget_yaxis\u001b[0m\u001b[1;33m(\u001b[0m\u001b[1;33m)\u001b[0m\u001b[1;33m\u001b[0m\u001b[0m\n\u001b[1;32m---> 13\u001b[1;33m \u001b[0mya\u001b[0m\u001b[1;33m.\u001b[0m\u001b[0mset_major_locator\u001b[0m\u001b[1;33m(\u001b[0m\u001b[0mtik\u001b[0m\u001b[1;33m.\u001b[0m\u001b[0mMaxNLocator\u001b[0m\u001b[1;33m(\u001b[0m\u001b[0minteger\u001b[0m\u001b[1;33m=\u001b[0m\u001b[0mTrue\u001b[0m\u001b[1;33m)\u001b[0m\u001b[1;33m)\u001b[0m\u001b[1;33m\u001b[0m\u001b[0m\n\u001b[0m\u001b[0;32m     14\u001b[0m \u001b[0max1\u001b[0m\u001b[1;33m.\u001b[0m\u001b[0mset_xlabel\u001b[0m\u001b[1;33m(\u001b[0m\u001b[1;34m'time($\\mu s$)'\u001b[0m\u001b[1;33m)\u001b[0m\u001b[1;33m\u001b[0m\u001b[0m\n\u001b[0;32m     15\u001b[0m \u001b[0max1\u001b[0m\u001b[1;33m.\u001b[0m\u001b[0mset_ylabel\u001b[0m\u001b[1;33m(\u001b[0m\u001b[1;34m'Electric field  (a.u.)'\u001b[0m\u001b[1;33m)\u001b[0m\u001b[1;33m\u001b[0m\u001b[0m\n",
      "\u001b[1;31mNameError\u001b[0m: name 'tik' is not defined"
     ]
    },
    {
     "data": {
      "image/png": "[encoded data removed]",
      "text/plain": [
       "<matplotlib.figure.Figure at 0x84614a8>"
      ]
     },
     "metadata": {},
     "output_type": "display_data"
    }
   ],
   "source": [
    "%matplotlib inline\n",
    "pi=np.pi\n",
    "time=np.linspace(5000,5000*2,500000)\n",
    "print(time)\n",
    "fig3=plt.figure()\n",
    "fig3.suptitle('|E| vs time', fontsize=12, fontweight='bold')\n",
    "ax1 = fig3.add_subplot(111)\n",
    "ax1.plot(time,np.cos(wf*time),'g', alpha=0.4, label='modulation')\n",
    "ax2 = ax1.twiny()\n",
    "ax2.set_xlim(0,(max(time)-min(time))/(2*pi/wf))\n",
    "#ax2.set_xlabel('#Periods')\n",
    "ya = ax2.get_yaxis()\n",
    "ya.set_major_locator(tik.MaxNLocator(integer=True))\n",
    "ax1.set_xlabel('time($\\mu s$)')\n",
    "ax1.set_ylabel('Electric field  (a.u.)')\n",
    "ax1.set_xlim(min(time), max(time))\n",
    "plt.legend(fontsize = 'medium')\n",
    "fig3.set_size_inches(14, 5)\n",
    "plt.show\n"
   ]
  },
  {
   "cell_type": "code",
   "execution_count": 116,
   "metadata": {
    "collapsed": false
   },
   "outputs": [],
   "source": [
    "writeline('writetest.txt',3,'4ta linea... wf:')"
   ]
  },
  {
   "cell_type": "code",
   "execution_count": null,
   "metadata": {
    "collapsed": true
   },
   "outputs": [],
   "source": []
  },
  {
   "cell_type": "code",
   "execution_count": 115,
   "metadata": {
    "collapsed": false
   },
   "outputs": [],
   "source": [
    "def writeline(file, n_line, text):\n",
    "    f=open(file,'r+')\n",
    "    count=0\n",
    "    write_line=n_line\n",
    "    for line in f:\n",
    "        count=count+1\n",
    "        if count==5:\n",
    "            a=str(line)\n",
    "            #f.write('\\r'+text)\n",
    "            f.write(line.replace(a,text))\n",
    "    f.close()\n",
    "            "
   ]
  },
  {
   "cell_type": "code",
   "execution_count": 94,
   "metadata": {
    "collapsed": false
   },
   "outputs": [
    {
     "name": "stdout",
     "output_type": "stream",
     "text": [
      "Status: 1 \n",
      "a: 2.\n",
      "gperp: 10**8. \n",
      "kr: 9000000\n",
      "mu: 0.000025 \n",
      "Dphi0: 0.0 \n",
      "d: 1.0 \n",
      "gr: 0.00025  \n",
      "m: 0.049 \n",
      "wf: 0.004743420\n",
      "\n",
      "Total_steps: 15\n",
      "Current_run: 5\n",
      "\n",
      "d: 1.0 \n",
      "\n",
      "[ 0.          0.33333333  0.66666667  1.        ]\n"
     ]
    }
   ],
   "source": [
    "text_file2 = open(\"Status2.txt\", \"r\")\n",
    "status=text_file2.read()\n",
    "text_file2.close()\n",
    "print status\n",
    "\n",
    "with open(\"status2.txt\") as f:\n",
    "    i=0\n",
    "    num=4\n",
    "    statuss=np.linspace(0,1,num)\n",
    "    line = f.readlines()[6]\n",
    "    print line\n",
    "    for line in f:  #Line is a string\n",
    "        #split the string on whitespace, return a list of numbers \n",
    "        # (as strings)\n",
    "        temp = line.split()\n",
    "        print temp\n",
    "        statuss[i]=temp[1]\n",
    "        i=i+1\n",
    "\n",
    "stat=int(statuss[0])\n",
    "wf=float(statuss[1])\n",
    "\n",
    "print statuss\n"
   ]
  }
 ],
 "metadata": {
  "kernelspec": {
   "display_name": "Python 2",
   "language": "python",
   "name": "python2"
  },
  "language_info": {
   "codemirror_mode": {
    "name": "ipython",
    "version": 2
   },
   "file_extension": ".py",
   "mimetype": "text/x-python",
   "name": "python",
   "nbconvert_exporter": "python",
   "pygments_lexer": "ipython2",
   "version": "2.7.11"
  }
 },
 "nbformat": 4,
 "nbformat_minor": 0
}
