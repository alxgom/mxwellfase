{
 "cells": [
  {
   "cell_type": "markdown",
   "metadata": {},
   "source": [
    "# Parameter sparce used for the Maxwell-bloch equations w/ phase modulation.\n",
    "\n",
    "***"
   ]
  },
  {
   "cell_type": "markdown",
   "metadata": {},
   "source": [
    "## Equations:\n",
    "\n",
    "Maxwell-bloch equation, after aproximations, with external phase modulation for $E_y$\n",
    "\n",
    "$\n",
    "\\begin{cases}\n",
    "\\partial_{\\tau} E_x=-k E_x + \\mu P_x \\\\\n",
    "\\partial_{\\tau} E_y=-k E_y + \\mu P_y + i.(\\Delta \\phi_0 + m.cos(w_{mod}.\\tau)).E_x \\\\\n",
    "\\partial_{\\tau} P_{x,y}=-(1+i\\delta)P_{x,y}+E_{x,y}.D \\\\\n",
    "\\partial_{\\tau} D=-\\gamma_{||}(D-D_0+\\tfrac{1}{2}(E^*_{x,y}P_{x,y}+E_{x,y}P^*_{x,y})) \\\\\n",
    "\\end{cases}\n",
    "$\n",
    "\n",
    "\n",
    "with $ E_{x,y}$ and $P_{x,y}$  $\\in \\mathbb{C}$\n",
    "\n",
    "##### Normalizations made: \n",
    "$\\tau= \\gamma_{\\bot}.t$, $k=\\tfrac{\\bar{k}}{\\gamma_{\\bot}}$,  $\\gamma_{\\parallel}=\\tfrac{\\bar{\\gamma_{\\parallel}}}{\\gamma_{\\bot}}$, $\\eta=\\tfrac{z}{L}$, $\\delta'_{ac}=\\tfrac{w_a-w_0}{\\gamma_{\\bot}}$\n",
    "\n",
    "\n",
    "##### Aproximations: \n",
    "\n",
    "1-$k,\\gamma_{\\parallel}<<\\gamma_{\\bot}$   -- Homogenously broadened laser linewidth $ \\nabla^2 E-\\frac{1}{c^2}\\partial_{t^2}E=\\alpha \\partial_{t^2}E$\n",
    "\n",
    "2-Plane wave: $\\nabla^2_{\\bot}=0$\n",
    "\n",
    "3-Two level medium\n",
    "\n",
    "4-Slowly varying amplitud\n",
    "\n",
    "5-Unidirectional field\n",
    "\n",
    "6-Rotating wave approx $\\partial_{t^2}<<\\partial_t$\n",
    "\n",
    "7-Single longitudinal mode\n",
    "\n",
    "8-$g'->0$, $R_0->1$  -- Uniform field limit\n",
    "\n",
    "9-$m$,$w_{mod}<<1$, $w_{mod}<<\\gamma_{\\bot}$  ..chequear.."
   ]
  },
  {
   "cell_type": "code",
   "execution_count": 2,
   "metadata": {
    "collapsed": false
   },
   "outputs": [],
   "source": [
    "# -*- coding: utf-8 -*-\n",
    "\"\"\"\n",
    "Created on Tue Nov 24 17:05:30 2015\n",
    "\n",
    "@author: Alexis\n",
    "\"\"\"\n",
    "import numpy as np\n",
    "#import scipy as sc\n",
    "#import matplotlib\n",
    "import matplotlib.pyplot as plt\n",
    "#from scipy.integrate import odeint\n",
    "#from numpy import linspace\n",
    "#import math\n",
    "#from matplotlib.collections import LineCollection\n",
    "from comparefase import comparembfase\n",
    "from intmbfase import intmbfase as int\n",
    "#import datetime as dt\n",
    "from time import localtime\n",
    "#import time, sys\n",
    "#import mpld3\n",
    "\n",
    "'''---- |2>\n",
    "    ||\n",
    "    || R21\n",
    "    ||\n",
    "   ---- |1>'''\n",
    "\n",
    "plt.ion()\n",
    "pi=np.pi #defino pi\n"
   ]
  },
  {
   "cell_type": "markdown",
   "metadata": {},
   "source": [
    "### Parameters"
   ]
  },
  {
   "cell_type": "code",
   "execution_count": 3,
   "metadata": {
    "collapsed": true
   },
   "outputs": [],
   "source": [
    "'''parameters for normalization'''\n",
    "a=2\n",
    "gperp=10**8. #gamma perpendicular, loss rate\n",
    "scale=1*(10.**6)/gperp #scale to micro seconds\n",
    "wscale=1000*gperp/(10.**6)#scale frequency to khz"
   ]
  },
  {
   "cell_type": "code",
   "execution_count": 4,
   "metadata": {
    "collapsed": false
   },
   "outputs": [],
   "source": [
    "'''parameters for the equation'''\n",
    "k=0.9*10.**7/gperp #normalized loss rate\n",
    "mu=.25*10**(-4) #g\n",
    "Dphi0=0.0 #phase shift [-pi,pi]\n",
    "d=1.0 #detuning\n",
    "g=2.5*10.**4/gperp #*((2*pi)**2) #sigma parallel, normalized loss rate\n",
    "D0=a*k/mu #Poblation\n",
    "m=.02 #modulation amplitud [0,1]\n",
    "\n",
    "'''parameters to compare with the results'''\n",
    "w_res=np.sqrt(k*g*((D0*mu/k)-1.))*wscale #resonance frequency\n",
    "a=D0*mu/k\n",
    "w=np.sqrt(k*g*(a-1.)-(g*g*a*a)/4)*wscale #Relaxation oscilations frequency\n"
   ]
  },
  {
   "cell_type": "markdown",
   "metadata": {},
   "source": [
    "swiping parameter: wf\n"
   ]
  },
  {
   "cell_type": "code",
   "execution_count": 8,
   "metadata": {
    "collapsed": false
   },
   "outputs": [
    {
     "data": {
      "image/png": "[encoded data removed]",
      "text/plain": [
       "<matplotlib.figure.Figure at 0xb24f898>"
      ]
     },
     "metadata": {},
     "output_type": "display_data"
    }
   ],
   "source": [
    "'''w Swipe 30/12/15 parameters'''\n",
    "wfn1=np.arange(0.00047434, 0.0047434+0.00047434, (0.0047434-0.00047434)/10)*wscale #10 pasos entre la resonancia y 0.1*resonancia\n",
    "mn1=.02*np.ones(len(wfn1))\n",
    "param1=[mn1 , wfn1]\n",
    "\n",
    "'''Lower w Swipe 31/12/15 parameters'''\n",
    "wfmin=0.001328152\n",
    "wfmax=0.002181964\n",
    "wfn2=np.arange(wfmin, wfmax+(wfmax-wfmin)/10. , (wfmax-wfmin)/10.)*wscale #10 pasos entre la resonancia y 0.1*resonancia\n",
    "mn2=.02*np.ones(len(wfn2))\n",
    "param2=[mn2 , wfn2]\n",
    "\n",
    "'''Upper w Swipe 31/12/15 parameters'''\n",
    "wfmin=0.0034627\n",
    "wfmax=0.0043165\n",
    "wfn3=np.arange(wfmin, wfmax+(wfmax-wfmin)/10. , (wfmax-wfmin)/10.)*wscale #10 pasos entre la resonancia y 0.1*resonancia\n",
    "mn3=.02*np.ones(len(wfn3))\n",
    "param3=[mn3 , wfn3]\n",
    "\n",
    "'''m Swipe 31/12/15 parameters'''\n",
    "mmin=0.0\n",
    "mmax=0.1\n",
    "mn4=np.arange(mmin, mmax+(mmax-mmin)/10. , (mmax-mmin)/10.) #10 pasos entre la resonancia y 0.1*resonancia\n",
    "wfn4=wf=0.00474342*wscale*np.ones(len(mn4))\n",
    "param4=[mn4 , wfn4]\n",
    "\n",
    "'''m Swipe 1/1/16 parameters'''\n",
    "mmin=0.04\n",
    "mmax=0.05\n",
    "mn5=np.arange(mmin, mmax+(mmax-mmin)/10. , (mmax-mmin)/10.) #10 pasos entre la resonancia y 0.1*resonancia\n",
    "wfn5=wf=0.00474342*wscale*np.ones(len(mn5))\n",
    "param5=[mn5 , wfn5]\n",
    "\n",
    "mmin=0.0436\n",
    "mmax=0.0437\n",
    "mn6=np.arange(mmin, mmax+(mmax-mmin)/10. , (mmax-mmin)/10.) #10 pasos entre la resonancia y 0.1*resonancia\n",
    "wfn6=wf=0.00474342*wscale*np.ones(len(mn6))\n",
    "param6=[mn6 , wfn6]\n",
    "\n",
    "mmin=0.04\n",
    "mmax=0.05\n",
    "mn=np.arange(0., 1+(1)/60. , 1/60.) #n evenly paced steps between 0 and 1.\n",
    "steep=1.\n",
    "plt.plot(mn,np.arctan(steep*mn),'.b')\n",
    "mn=np.arctan(steep*mn) #non linear distribution of parameter\n",
    "mn=((mmax-mmin)/(pi/2)*mn+mmin) #normalize to the min  and max values i want to use\n",
    "\n",
    "\n",
    "'''m swipe 5/1/16'''\n",
    "mmin=0.031\n",
    "mmax=0.044\n",
    "mn7=np.arange(mmin, mmax+(mmax-mmin)/20. , (mmax-mmin)/20.)\n",
    "wfn7=wf=0.00474342*wscale*np.ones(len(mn7))\n",
    "param7=[mn7 , wfn7]\n",
    "\n",
    "'''m swipe bif 5/1/16'''\n",
    "mmin=0.01\n",
    "mmax=0.046\n",
    "mn=np.arange(0., 1+(1)/30. , 1/30.) #n evenly paced steps between 0 and 1.\n",
    "steep=10.\n",
    "plt.plot(mn,np.arctan(steep*mn),'.b')\n",
    "mn=np.arctan(steep*mn) #non linear distribution of parameter\n",
    "mn8=((mmax-mmin)/(pi/2)*mn+mmin) #normalize to the min  and max values i want to use\n",
    "wfn8=wf=0.00474342*wscale*np.ones(len(mn8))\n",
    "param8=[mn8 , wfn8]\n",
    "\n",
    "'''plots'''\n",
    "save=False #set True if i want to save files automatically\n",
    "%matplotlib inline\n",
    "\n",
    "fig=plt.figure()\n",
    "fig.suptitle('Parameter space', fontsize=12, fontweight='bold')\n",
    "ax2 = fig.add_subplot(111)\n",
    "plt.plot(param1[0],param1[1], '.b' , label='Swipe 30/12')\n",
    "plt.plot(param2[0],param2[1], '.b' , label='Swipe 31/12')\n",
    "plt.plot(param3[0],param3[1], '.b' , label='Swipe 31/12')\n",
    "plt.plot(param6[0][0:8],param6[1][0:8], '.b', label='Swipe 1/1')\n",
    "plt.plot(param6[0][-1],param6[1][-1], '.b' , label='Swipe 1/1')\n",
    "plt.plot(param4[0][1:5],param4[1][1:5], '.b' , label='Swipe 31/12')\n",
    "plt.plot(param4[0][0],param4[1][0], 'oc' , label='Swipe 31/12 no oscilation')\n",
    "plt.plot(param1[0][4:8],param1[1][4:8], '.r' , label='Swipe 30/12 Chaos')\n",
    "plt.plot(param2[0][8:],param2[1][8:], '.r' , label='Swipe 31/12 Chaos')\n",
    "plt.plot(param3[0][:5],param3[1][:5], '.r' , label='Swipe 31/12 Chaos')\n",
    "plt.plot(param4[0][5:9],param4[1][5:9], '.r' , label='Swipe 31/12 Chaos')\n",
    "plt.plot(param6[0][8:10],param6[1][8:10], '.r' , label='Swipe 1/1 Chaos')\n",
    "plt.plot(param1[0][8],param1[1][8], 'r' , label='Swipe 30/12 dudoso')\n",
    "plt.plot(param3[0][6],param3[1][6], 'r' , label='Swipe 31/12 dudoso')\n",
    "plt.plot(param4[0][9:],param4[1][9:], 'og' , label='Swipe 31/12 dudoso')\n",
    "plt.plot(param7[0],param7[1], ',k' , label='Swipe 31/12')\n",
    "plt.plot(param7[0],param7[1], ',k' , label='Swipe 31/12')\n",
    "plt.plot(0.02,3.734, '.b' )\n",
    "plt.plot(0.02,2.734, '.b' )\n",
    "plt.plot(0.02,1.734, '.b' )\n",
    "ax2.set_xlabel('m')\n",
    "ax2.set_ylabel('$W_{mod}$')\n",
    "plt.text(-0.1,-.32, \"\\n Parameters: $\\Delta \\phi_0=$ %s ,  $\\Omega=$ %.2f khz \\n $k$=%.2f khz, $\\mu'=$ %s , $\\delta= $ %.2e , $\\gamma_{||}=$ %s , $D_0=$ %s, $A=$ %.1f \" % (Dphi0, w_res ,k,mu, d, g, D0, a), fontsize=11, transform=ax2.transAxes)   \n",
    "plt.subplots_adjust(bottom=0.22)\n",
    "#plt.legend()\n",
    "fig.set_size_inches(7, 7)\n",
    "if save==True: \n",
    "    fname='%d_%d_%d-%d.%d.%d-parameter_space.png' % localtime()[0:6]\n",
    "    fig.savefig(fname, dpi = 100)# when saving, specify the DPI\n"
   ]
  },
  {
   "cell_type": "code",
   "execution_count": 9,
   "metadata": {
    "collapsed": false
   },
   "outputs": [
    {
     "name": "stdout",
     "output_type": "stream",
     "text": [
      "[ 0.          0.32175055  0.5880026   0.78539816  0.92729522  1.03037683\n",
      "  1.10714872  1.16590454  1.21202566  1.24904577  1.27933953  1.30454428\n",
      "  1.32581766  1.34399748  1.35970299  1.37340077  1.38544838  1.39612413\n",
      "  1.40564765  1.41419445  1.42190638  1.42889927  1.43526861  1.44109379\n",
      "  1.44644133  1.4513674   1.45591972  1.46013911  1.46406065  1.46771472\n",
      "  1.47112767  1.47432255]\n"
     ]
    }
   ],
   "source": [
    "print mn"
   ]
  },
  {
   "cell_type": "markdown",
   "metadata": {},
   "source": [
    "## Initial conditions, Integration and variables"
   ]
  },
  {
   "cell_type": "code",
   "execution_count": 10,
   "metadata": {
    "collapsed": false,
    "scrolled": false
   },
   "outputs": [
    {
     "ename": "NameError",
     "evalue": "name 'intime' is not defined",
     "output_type": "error",
     "traceback": [
      "\u001b[1;31m---------------------------------------------------------------------------\u001b[0m",
      "\u001b[1;31mNameError\u001b[0m                                 Traceback (most recent call last)",
      "\u001b[1;32m<ipython-input-10-cdd8426bd4fe>\u001b[0m in \u001b[0;36m<module>\u001b[1;34m()\u001b[0m\n\u001b[0;32m      1\u001b[0m \u001b[1;34m'''30/12'''\u001b[0m\u001b[1;33m\u001b[0m\u001b[0m\n\u001b[1;32m----> 2\u001b[1;33m \u001b[0mtimeinit\u001b[0m \u001b[1;33m=\u001b[0m \u001b[0mnp\u001b[0m\u001b[1;33m.\u001b[0m\u001b[0marange\u001b[0m\u001b[1;33m(\u001b[0m\u001b[1;36m0.\u001b[0m\u001b[1;33m,\u001b[0m \u001b[0mintime\u001b[0m\u001b[1;33m,\u001b[0m \u001b[1;36m0.5\u001b[0m\u001b[1;33m)\u001b[0m\u001b[1;33m\u001b[0m\u001b[0m\n\u001b[0m\u001b[0;32m      3\u001b[0m \u001b[0mdfxinit\u001b[0m\u001b[1;33m=\u001b[0m\u001b[1;33m[\u001b[0m\u001b[1;36m0.\u001b[0m\u001b[1;33m,\u001b[0m \u001b[1;36m1.\u001b[0m\u001b[1;33m]\u001b[0m\u001b[1;33m\u001b[0m\u001b[0m\n\u001b[0;32m      4\u001b[0m \u001b[0mdfyinit\u001b[0m\u001b[1;33m=\u001b[0m\u001b[1;33m[\u001b[0m\u001b[1;33m-\u001b[0m\u001b[1;36m2.\u001b[0m\u001b[1;33m,\u001b[0m  \u001b[1;33m-\u001b[0m\u001b[1;36m1.9\u001b[0m\u001b[1;33m]\u001b[0m\u001b[1;33m\u001b[0m\u001b[0m\n\u001b[0;32m      5\u001b[0m \u001b[0mdrxinit\u001b[0m\u001b[1;33m=\u001b[0m\u001b[1;33m[\u001b[0m\u001b[1;33m-\u001b[0m\u001b[1;36m3.\u001b[0m\u001b[1;33m,\u001b[0m   \u001b[1;36m1.\u001b[0m\u001b[1;33m]\u001b[0m\u001b[1;33m\u001b[0m\u001b[0m\n",
      "\u001b[1;31mNameError\u001b[0m: name 'intime' is not defined"
     ]
    }
   ],
   "source": [
    "'''30/12'''\n",
    "timeinit = np.arange(0., intime, 0.5)\n",
    "dfxinit=[0., 1.] \n",
    "dfyinit=[-2.,  -1.9]  \n",
    "drxinit=[-3.,   1.]\n",
    "dryinit=[-9.34720367e+02 ,  7.31585718e+02]\n",
    "ddeltainit=[6.65973518e+03]\n",
    "yinit=np.array(dfxinit+dfyinit+drxinit+dryinit+ddeltainit)\n",
    " \n",
    "\n",
    "'''31/12'''\n",
    "timeinit = np.arange(0., intime, 0.5)\n",
    "dfxinit=[1., 1.] \n",
    "dfyinit=[1.,  -1.9]  \n",
    "drxinit=[1.,   1.]\n",
    "dryinit=[1.,  -1.9] \n",
    "ddeltainit=[6.65973518e+03]\n",
    "yinit=np.array(dfxinit+dfyinit+drxinit+dryinit+ddeltainit)\n",
    "\n"
   ]
  },
  {
   "cell_type": "markdown",
   "metadata": {},
   "source": [
    "Notebook style:"
   ]
  },
  {
   "cell_type": "code",
   "execution_count": null,
   "metadata": {
    "collapsed": false
   },
   "outputs": [],
   "source": [
    "from IPython.core.display import HTML\n",
    "import urllib2\n",
    "HTML(urllib2.urlopen('http://bit.ly/1Bf5Hft').read())"
   ]
  },
  {
   "cell_type": "markdown",
   "metadata": {
    "collapsed": true
   },
   "source": [
    "a hacer:\n",
    "    \n",
    "    - barrido en frecuencia hacia la resonancia.\n",
    "    - barrido en m, en la frecuencia de resonancia.\n",
    "    - mapa de parametros usados"
   ]
  }
 ],
 "metadata": {
  "kernelspec": {
   "display_name": "Python 2",
   "language": "python",
   "name": "python2"
  },
  "language_info": {
   "codemirror_mode": {
    "name": "ipython",
    "version": 2
   },
   "file_extension": ".py",
   "mimetype": "text/x-python",
   "name": "python",
   "nbconvert_exporter": "python",
   "pygments_lexer": "ipython2",
   "version": "2.7.11"
  }
 },
 "nbformat": 4,
 "nbformat_minor": 0
}
