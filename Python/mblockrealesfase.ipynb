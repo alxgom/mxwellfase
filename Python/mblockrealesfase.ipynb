{
 "cells": [
  {
   "cell_type": "markdown",
   "metadata": {},
   "source": [
    "# Solver for the Maxwell-bloch equations w/ phase modulation.\n",
    "\n",
    "***"
   ]
  },
  {
   "cell_type": "markdown",
   "metadata": {},
   "source": [
    "## Equations:\n",
    "\n",
    "Maxwell-bloch equation, after aproximations, with external phase modulation for $E_y$\n",
    "\n",
    "$\n",
    "\\begin{cases}\n",
    "\\partial_{\\tau} E_x=-k E_x + \\mu P_x \\\\\n",
    "\\partial_{\\tau} E_y=-k E_y + \\mu P_y + i.(\\Delta \\phi_0 + m.cos(w_{mod}.\\tau)).E_y \\\\\n",
    "\\partial_{\\tau} P_{x,y}=-(1+i\\delta)P_{x,y}+E_{x,y}.D \\\\\n",
    "\\partial_{\\tau} D=-\\gamma_{||}(D-D_0+\\tfrac{1}{2}(E^*_{x,y}P_{x,y}+E_{x,y}P^*_{x,y})) \\\\\n",
    "\\end{cases}\n",
    "$\n",
    "\n",
    "\n",
    "with $ E_{x,y}$ and $P_{x,y}$  $\\in \\mathbb{C}$\n",
    "\n",
    "##### Normalizations made: \n",
    "$\\tau= \\gamma_{\\bot}.t$, $k=\\tfrac{\\bar{k}}{\\gamma_{\\bot}}$,  $\\gamma_{\\parallel}=\\tfrac{\\bar{\\gamma_{\\parallel}}}{\\gamma_{\\bot}}$, $\\eta=\\tfrac{z}{L}$, $\\delta'_{ac}=\\tfrac{w_a-w_0}{\\gamma_{\\bot}}$\n",
    "\n",
    "\n",
    "##### Aproximations: \n",
    "\n",
    "1-$k,\\gamma_{\\parallel}<<\\gamma_{\\bot}$   -- Homogenously broadened laser linewidth $ \\nabla^2 E-\\frac{1}{c^2}\\partial^2_{t}E=\\alpha \\partial^2_{t}E$\n",
    "\n",
    "2-Plane wave: $\\nabla^2_{\\bot}=0$\n",
    "\n",
    "3-Two level medium\n",
    "\n",
    "4-Slowly varying amplitud\n",
    "\n",
    "5-Unidirectional field\n",
    "\n",
    "6-Rotating wave approx $\\partial_{t^2}<<\\partial_t$\n",
    "\n",
    "7-Single longitudinal mode\n",
    "\n",
    "8-$g'->0$, $R_0->1$  -- Uniform field limit\n",
    "\n",
    "9-$m$,$w_{mod}<<1$, $w_{mod}<<\\gamma_{\\bot}$  ..chequear.."
   ]
  },
  {
   "cell_type": "code",
   "execution_count": 55,
   "metadata": {
    "collapsed": false,
    "scrolled": true
   },
   "outputs": [],
   "source": [
    "# -*- coding: utf-8 -*-\n",
    "\"\"\"\n",
    "Created on Tue Nov 24 17:05:30 2015\n",
    "\n",
    "@author: Alexis\n",
    "\"\"\"\n",
    "import numpy as np\n",
    "#import scipy as sc\n",
    "#import matplotlib\n",
    "import matplotlib.pyplot as plt\n",
    "#from scipy.integrate import odeint\n",
    "#from numpy import linspace\n",
    "#import math\n",
    "#from matplotlib.collections import LineCollection\n",
    "from comparefase import comparembfase\n",
    "from intmbfase import intmbfase as integ\n",
    "from intmbfaserev import intmbfaserev as intrev\n",
    "\n",
    "#import datetime as dt\n",
    "from time import localtime\n",
    "#import time, sys\n",
    "#import mpld3\n",
    "\n",
    "'''---- |2>\n",
    "    ||\n",
    "    || R21\n",
    "    ||\n",
    "   ---- |1>'''\n",
    "\n",
    "plt.ion()\n",
    "pi=np.pi #defino pi\n"
   ]
  },
  {
   "cell_type": "markdown",
   "metadata": {},
   "source": [
    "### Parameters"
   ]
  },
  {
   "cell_type": "code",
   "execution_count": 56,
   "metadata": {
    "collapsed": false,
    "scrolled": true
   },
   "outputs": [],
   "source": [
    "'''parameters for normalization'''\n",
    "a=2\n",
    "gperp=10**8. #gamma perpendicular, loss rate\n",
    "scale=1*(10.**6)/gperp #scale to micro seconds\n",
    "wscale=1000*gperp/(10.**6)#scale frequency to khz\n",
    "\n",
    "'''parameters for the equation'''\n",
    "k=0.9*10.**7/gperp #normalized loss rate\n",
    "mu=.25*10**(-4) #g\n",
    "Dphi0=0.0 #phase shift [-pi,pi]\n",
    "d=1.0 #detuning\n",
    "g=2.5*10.**4/gperp #*((2*pi)**2) #sigma parallel, normalized loss rate\n",
    "D0=a*k/mu #Poblation\n",
    "m=.02 #modulation amplitud [0,1]\n",
    "wf=wf=0.00370\n",
    "        #0.0026089#0.000474340.001*2*pi #modulation frequency\n",
    "\n",
    "'''parameters to compare with the results'''\n",
    "w_res=np.sqrt(k*g*((D0*mu/k)-1.))*wscale #resonance frequency\n",
    "a=D0*mu/k\n",
    "w=np.sqrt(k*g*(a-1.)-(g*g*a*a)/4)*wscale #Relaxation oscilations frequency\n",
    "wf_real=wf*wscale\n"
   ]
  },
  {
   "cell_type": "code",
   "execution_count": 57,
   "metadata": {
    "collapsed": false,
    "scrolled": true
   },
   "outputs": [],
   "source": [
    "#%%latex\n",
    "#print \"Parameters: \\n $\\gamma_{\\bot}=$  %s, $k=${{k}}, $\\mu=${{mu}}, $\\delta$={{d}} (detuning), $\\gamma_{||}=${{g}}, $D_0=${{D0}}, \\n Modulation parameters: $\\Delta \\phi_0$={{Dphi0}} (phase shift $[-\\pi,\\pi]$), $m=${{m}} (modulation amplitud $[0,1]$), $w_{mod}=${{wf}} (modulation frequency)\" % gperp\n"
   ]
  },
  {
   "cell_type": "code",
   "execution_count": null,
   "metadata": {
    "collapsed": false,
    "scrolled": true
   },
   "outputs": [],
   "source": [
    "%matplotlib inline"
   ]
  },
  {
   "cell_type": "markdown",
   "metadata": {},
   "source": [
    "## Initial conditions, Integration and variables"
   ]
  },
  {
   "cell_type": "code",
   "execution_count": null,
   "metadata": {
    "collapsed": false,
    "scrolled": true
   },
   "outputs": [],
   "source": [
    "'''initial conditions'''\n",
    "intime=500.*5*10**(-6)*gperp #integration time\n",
    "\n",
    "def  initial():\n",
    "    initial=raw_input('Initial contitions: \\n  Write \"new\" to use new defined initial conditions.  \\n write \"l\" to use last result as initial condition. \\n yinit: ')\n",
    "    if initial=='new':\n",
    "        '''User defined initial condition'''\n",
    "        timeinit = np.arange(0., intime, 0.05)\n",
    "        dfxinit=[1., 1.] \n",
    "        dfyinit=[-2.,  -1.9]  \n",
    "        drxinit=[-3.,   1.]\n",
    "        dryinit=[-9.34720367e+02 ,  7.31585718e+02]\n",
    "        ddeltainit=[6.65973518e+03]\n",
    "        yinit=np.array(dfxinit+dfyinit+drxinit+dryinit+ddeltainit)\n",
    "    if initial=='l':\n",
    "        '''initial condition from last simulation'''\n",
    "        timeinit = np.arange(time[-1] ,intime+time[-1] , 0.5)\n",
    "        yinit=y[-1]\n",
    "    if initial=='':\n",
    "        '''reuse last initial condition '''\n",
    "    return yinit, timeinit\n",
    "\n",
    "yinit, time=initial()\n",
    "yinit1=np.copy(yinit)\n",
    "yinit1[0]=yinit1[0]+yinit1[0]*10*np.finfo(float).eps\n",
    "print '%.28f' %yinit[0], '%.28f' %yinit1[0]"
   ]
  },
  {
   "cell_type": "code",
   "execution_count": null,
   "metadata": {
    "collapsed": false
   },
   "outputs": [],
   "source": [
    "'''integration'''\n",
    "y, time=integ(yinit,time,k,mu,Dphi0,d,g,D0,m,wf)\n",
    "print 'Last result to use as new initial condition: \\n', 'dfxinit=[%e, %e] \\n dfyinit=[%e,  %e] \\n drxinit=[%e, %e] \\n dryinit=[%e,  %e] \\n  ddeltainit=[%e] ' %(y[-1][0], y[-1][1], y[-1][2], y[-1][3], y[-1][4], y[-1][5], y[-1][6], y[-1][7], y[-1][8])\n"
   ]
  },
  {
   "cell_type": "code",
   "execution_count": null,
   "metadata": {
    "collapsed": false,
    "scrolled": true
   },
   "outputs": [],
   "source": [
    "'''intensitys'''\n",
    "intensity_ex=np.sqrt(y[:,0]**2+y[:,1]**2)\n",
    "intensity_ey=np.sqrt(y[:,2]**2+y[:,3]**2)\n",
    "intensity=np.sqrt(y[:,0]**2+y[:,1]**2+y[:,2]**2+y[:,3]**2)\n"
   ]
  },
  {
   "cell_type": "raw",
   "metadata": {
    "collapsed": false
   },
   "source": [
    "%%timeit\n",
    "int(yinit,time,k,mu,Dphi0,d,g,D0,m,wf);"
   ]
  },
  {
   "cell_type": "markdown",
   "metadata": {},
   "source": [
    "## Plots"
   ]
  },
  {
   "cell_type": "code",
   "execution_count": null,
   "metadata": {
    "collapsed": false,
    "scrolled": true
   },
   "outputs": [],
   "source": [
    "'''plots'''\n",
    "save=True #set True if i want to save files automatically\n"
   ]
  },
  {
   "cell_type": "code",
   "execution_count": null,
   "metadata": {
    "collapsed": false,
    "scrolled": true
   },
   "outputs": [],
   "source": [
    "\n",
    "fig0=plt.figure()\n",
    "fig0.suptitle('Temporal evolution of |E|, |P| and the Population', fontsize=12, fontweight='bold')\n",
    "ax1 = fig0.add_subplot(3, 1, 1)\n",
    "ax1.plot(time*scale,intensity)\n",
    "ax1.set_ylabel('|E| ')\n",
    "ax1.set_xlim(min(time*scale), max(time*scale))\n",
    "ax2 = fig0.add_subplot(3, 1, 2)\n",
    "ax2.set_xlim(min(time*scale), max(time*scale))\n",
    "ax2.plot(time*scale,intensity)\n",
    "ax2.set_ylabel('|P|')\n",
    "ax3 = fig0.add_subplot(3, 1, 3)\n",
    "ax3.plot(time*scale,y[:,8])\n",
    "plt.ylim(min(y[:,8]), max(y[:,8]))\n",
    "ax3.set_ylabel('Population')\n",
    "ax3.set_xlim(min(time*scale), max(time*scale))\n",
    "plt.xlabel('Time($\\mu s$)')\n",
    "plt.text(-0.09,-1.05, \"\\n Parameters: $m= $ %s , $w_{mod}$= %.2f khz , $\\Delta \\phi_0=$ %s ,  $\\Omega=$ %.2f khz \\n $k$=%.2f khz, $\\mu'=$ %s , $\\delta= $ %.2e , $\\gamma_{||}=$ %s , $D_0=$ %s, $A=$ %.1f \" % (m,wf_real, Dphi0, w_res ,k,mu, d, g, D0, a), fontsize=11, transform=ax3.transAxes)   \n",
    "plt.subplots_adjust(bottom=0.22)\n",
    "fig0.set_size_inches(11, 7)\n",
    "\n",
    "if save==True: \n",
    "    fname='%d_%d_%d-%d.%d.%d-Time_series.png' % localtime()[0:6]\n",
    "    fig0.savefig(fname) \n",
    "\n",
    "#mpld3.display(fig0)\n",
    "\n"
   ]
  },
  {
   "cell_type": "code",
   "execution_count": null,
   "metadata": {
    "collapsed": false,
    "scrolled": true
   },
   "outputs": [],
   "source": [
    "fig4=plt.figure()\n",
    "periods=10\n",
    "fig4.suptitle('Comparison between |E| and the Modulation', fontsize=12, fontweight='bold')\n",
    "ax1 = fig4.add_subplot(3, 1, 1)\n",
    "ax1.plot(time*scale,np.cos(wf*time), label='$w_{mod}$=%.2f khz' %wf_real)\n",
    "ax1.set_xlim(min(time*scale), min(time*scale)+(periods*2*pi/wf)*scale)\n",
    "ax1.set_ylabel('Modulation ')\n",
    "ax1.legend(fontsize = 'small')\n",
    "ax2 = fig4.add_subplot(3, 1, 2)\n",
    "ax2.plot(time*scale,intensity,label='First %i periods' %periods)\n",
    "ax2.set_ylabel('|E|')\n",
    "ax2.set_xlim(min(time*scale), min(time*scale)+(periods*2*pi/wf)*scale)\n",
    "ax2.legend(fontsize = 'small')\n",
    "ax3 = fig4.add_subplot(3, 1, 3)\n",
    "ax3.set_xlim(max(time*scale)-(periods*2*pi/wf)*scale, max(time*scale),emit='True')\n",
    "ax3.plot(time*scale,intensity,label='Last %i periods' %periods)\n",
    "ax3.set_ylim(intensity[len(intensity)-1]-8*(max(intensity[len(intensity)-9000:])-intensity[len(intensity)-1]),intensity[len(intensity)-1]+8*(max(intensity[len(intensity)-9000:])-intensity[len(intensity)-1]))\n",
    "ax3.set_ylabel('|E|')\n",
    "ax3.legend(fontsize = 'small')\n",
    "plt.text(-0.09,-1.06, \"\\n Parameters: $m= $ %s , $w_{mod}$= %.2f khz , $\\Delta \\phi_0=$ %s ,  $\\Omega=$ %.2f khz \\n $k$=%.2f khz, $\\mu'=$ %s , $\\delta= $ %.2e , $\\gamma_{||}=$ %s , $D_0=$ %s, $A=$ %.1f \" % (m,wf_real, Dphi0, w_res ,k,mu, d, g, D0, a), fontsize=11, transform=ax3.transAxes)   \n",
    "plt.subplots_adjust(bottom=0.22)\n",
    "fig4.set_size_inches(8, 6)\n",
    "plt.xlabel('Time ($\\mu s$)')\n",
    "#ax3.relim(visible_only=True)\n",
    "#ax3.autoscale_view(tight=True, scalex=True, scaley=True)\n",
    "#ax3.yaxis.zoom(3)\n",
    "#ax3.yaxis.set_smart_bounds('True')\n",
    "if save==True: \n",
    "    fname='%d_%d_%d-%d.%d.%d-comparison periods.png' % localtime()[0:6]\n",
    "    fig4.savefig(fname, dpi = 100)# when saving, specify the DPI"
   ]
  },
  {
   "cell_type": "markdown",
   "metadata": {
    "collapsed": false
   },
   "source": [
    "j=0 #LONGITUD EN INDICES DE 10 PERIODOS\n",
    "print len(time)\n",
    "for i in range(len(time)):\n",
    "    while time[i]*scale < min(time*scale)+(periods*2*pi/wf)*scale:\n",
    "        j=i\n",
    "print j"
   ]
  },
  {
   "cell_type": "code",
   "execution_count": null,
   "metadata": {
    "collapsed": false,
    "scrolled": true
   },
   "outputs": [],
   "source": [
    "\n",
    "fig5=plt.figure()\n",
    "fig5.suptitle('Comparison between |E| and modulation', fontsize=12, fontweight='bold')\n",
    "ax1 = fig5.add_subplot(111)\n",
    "ax1.plot(time*scale,intensity,'b', label='|E|')\n",
    "ax2=ax1.twinx()\n",
    "ax2.plot(time*scale,np.cos(wf*time),'g', alpha=0.4, label='modulation')\n",
    "ax1.set_xlabel('time($\\mu s$)')\n",
    "ax1.set_ylabel('|E|')\n",
    "plt.xlim(min(time*scale), max(time*scale))\n",
    "ax2.set_ylim(-1.5, 1.5)\n",
    "#ax2.set_ylim(-intensity[len(intensity)-1, intensity[len(intensity)-1 )\n",
    "plt.text(-0.1,-0.33, \"\\n Parameters: $m= $ %s , $w_{mod}$= %.2f khz , $\\Delta \\phi_0=$ %s ,  $\\Omega=$ %.2f khz \\n $k$=%.2f khz, $\\mu'=$ %s , $\\delta= $ %.2e , $\\gamma_{||}=$ %s , $D_0=$ %s, $A=$ %.1f\" % (m,wf_real, Dphi0, w_res ,k,mu, d, g, D0, a), fontsize=11, transform=ax1.transAxes)   \n",
    "plt.subplots_adjust(bottom=0.22)\n",
    "fig5.set_size_inches(14, 5)\n",
    "plt.legend()\n",
    "if save==True: \n",
    "    fname='%d_%d_%d-%d.%d.%d-comparison.png' % localtime()[0:6]\n",
    "    fig5.savefig(fname, dpi = 100)# when saving, specify the DPI"
   ]
  },
  {
   "cell_type": "code",
   "execution_count": null,
   "metadata": {
    "collapsed": false,
    "scrolled": true
   },
   "outputs": [],
   "source": [
    "fig3=plt.figure()\n",
    "fig3.suptitle('|E| vs time', fontsize=12, fontweight='bold')\n",
    "ax1 = fig3.add_subplot(111)\n",
    "plt.plot(time*scale,intensity_ex,'g', alpha=0.7,  label='$|E_x|$')\n",
    "plt.plot(time*scale,intensity_ey,'r', alpha=0.6,  label='$|E_y|$')\n",
    "plt.plot(time*scale,intensity,'b', alpha=0.4, label='$|E|$')\n",
    "ax1.set_xlabel('time($\\mu s$)')\n",
    "ax1.set_ylabel('Electric field ')\n",
    "plt.xlim(min(time*scale), max(time*scale))\n",
    "plt.text(-0.1,-.33, \"\\n Parameters: $m= $ %s , $w_{mod}$= %.2f khz , $\\Delta \\phi_0=$ %s ,  $\\Omega=$ %.2f khz \\n $k$=%.2f khz, $\\mu'=$ %s , $\\delta= $ %.2e , $\\gamma_{||}=$ %s , $D_0=$ %s, $A=$ %.1f \\n |E|(blue), |$E_x$| (Green), |$E_y$| (Red)\" % (m,wf_real, Dphi0, w_res ,k,mu, d, g, D0, a), fontsize=11, transform=ax1.transAxes)   \n",
    "plt.subplots_adjust(bottom=0.22)\n",
    "plt.legend(fontsize = 'medium')\n",
    "fig3.set_size_inches(14, 5)\n",
    "\n",
    "if save==True: \n",
    "    fname='%d_%d_%d-%d.%d.%d-E_intensitys.png' % localtime()[0:6]\n",
    "    fig3.savefig(fname, dpi = 100)# when saving, specify the DPI\n"
   ]
  },
  {
   "cell_type": "code",
   "execution_count": null,
   "metadata": {
    "collapsed": false,
    "scrolled": true
   },
   "outputs": [],
   "source": [
    "'''Phase spaces'''\n",
    "fig8=plt.figure()\n",
    "fig8.suptitle('|P| vs population', fontsize=12, fontweight='bold')\n",
    "ax2 = fig8.add_subplot(111)\n",
    "plt.plot(y[:,8], np.sqrt(y[:,4]**2+y[:,5]**2+y[:,6]**2+y[:,7]**2))\n",
    "ax2.set_xlabel('Population')\n",
    "ax2.set_ylabel('|P|')\n",
    "plt.text(-0.1,-.32, \"\\n Parameters: $m= $ %s , $w_{mod}$= %.2f khz , $\\Delta \\phi_0=$ %s ,  $\\Omega=$ %.2f khz \\n $k$=%.2f khz, $\\mu'=$ %s , $\\delta= $ %.2e , $\\gamma_{||}=$ %s , $D_0=$ %s, $A=$ %.1f \" % (m,wf_real, Dphi0, w_res ,k,mu, d, g, D0, a), fontsize=11, transform=ax2.transAxes)   \n",
    "plt.subplots_adjust(bottom=0.22)\n",
    "fig8.set_size_inches(6, 6)\n",
    "if save==True: \n",
    "    fname='%d_%d_%d-%d.%d.%d-p_vs_population.png' % localtime()[0:6]\n",
    "    fig8.savefig(fname) \n",
    "\n",
    "fig9=plt.figure()\n",
    "fig9.suptitle('|E| vs population', fontsize=12, fontweight='bold')\n",
    "ax2 = fig9.add_subplot(111)\n",
    "plt.plot(y[:,8], intensity)\n",
    "ax2.set_xlabel('Population')\n",
    "ax2.set_ylabel('|E|')\n",
    "plt.text(-0.1,-.32, \"\\n Parameters: $m= $ %s , $w_{mod}$= %.2f khz , $\\Delta \\phi_0=$ %s ,  $\\Omega=$ %.2f khz \\n $k$=%.2f khz, $\\mu'=$ %s , $\\delta= $ %.2e , $\\gamma_{||}=$ %s , $D_0=$ %s, $A=$ %.1f \" % (m,wf_real, Dphi0, w_res ,k,mu, d, g, D0, a), fontsize=11, transform=ax2.transAxes)   \n",
    "plt.subplots_adjust(bottom=0.22)\n",
    "fig9.set_size_inches(6, 6)\n",
    "if save==True: \n",
    "    fname='%d_%d_%d-%d.%d.%d-E_vs_population.png' % localtime()[0:6]\n",
    "    fig9.savefig(fname, dpi = 100)# when saving, specify the DPI\n",
    " "
   ]
  },
  {
   "cell_type": "code",
   "execution_count": null,
   "metadata": {
    "collapsed": false,
    "scrolled": true
   },
   "outputs": [],
   "source": [
    "fig1=plt.figure()\n",
    "fig1.suptitle('|E| vs time', fontsize=12, fontweight='bold')\n",
    "ax1 = fig1.add_subplot(111)\n",
    "ax1.plot(time*scale,y[:,0],'g', label='$Re(E_x)$')\n",
    "ax1.plot(time*scale,y[:,2],'r', label='$Re(E_y)$')\n",
    "ax1.plot(time*scale,intensity,'b', alpha=0.6,label='$|E|$')\n",
    "ax1.set_xlabel('time($\\mu s$)')\n",
    "ax1.set_ylabel('Electric field')\n",
    "plt.xlim(min(time*scale), max(time*scale))\n",
    "plt.text(-0.1,-.33, \"\\n Parameters: $m= $ %s , $w_{mod}$= %.2f khz , $\\Delta \\phi_0=$ %s ,  $\\Omega=$ %.2f khz \\n $k$=%.2f khz, $\\mu'=$ %s , $\\delta= $ %.2e , $\\gamma_{||}=$ %s , $D_0=$ %s, $A=$ %.1f \\n |E|(blue), Re($E_x$) (Green), Re($E_y$) (Red)\" % (m,wf_real, Dphi0, w_res ,k,mu, d, g, D0, a), fontsize=11, transform=ax1.transAxes)   \n",
    "plt.subplots_adjust(bottom=0.22)\n",
    "plt.legend(fontsize = 'medium')\n",
    "fig1.set_size_inches(10, 5)\n",
    "\n",
    "if save==True: \n",
    "    fname='%d_%d_%d-%d.%d.%d-Re(E).png' % localtime()[0:6]\n",
    "    fig1.savefig(fname) \n",
    "\n",
    "    "
   ]
  },
  {
   "cell_type": "code",
   "execution_count": null,
   "metadata": {
    "collapsed": false,
    "scrolled": true
   },
   "outputs": [],
   "source": [
    "fig2=plt.figure()\n",
    "fig2.suptitle('|E| vs time', fontsize=12, fontweight='bold')\n",
    "ax1 = fig2.add_subplot(111)\n",
    "ax1.plot(time*scale,y[:,1],'g', label='$Im(E_x)$')\n",
    "ax1.plot(time*scale,y[:,3],'r', label='$Im(E_y)$')\n",
    "ax1.plot(time*scale,intensity,'b', alpha=0.6, label='$|E|$')\n",
    "ax1.set_xlabel('time($\\mu s$)')\n",
    "ax1.set_ylabel('Electric field')\n",
    "plt.xlim(min(time*scale), max(time*scale))\n",
    "plt.text(-0.1,-.33, \"\\n Parameters: $m= $ %s , $w_{mod}$= %.2f khz , $\\Delta \\phi_0=$ %s ,  $\\Omega=$ %.2f khz \\n $k$=%.2f khz, $\\mu'=$ %s , $\\delta= $ %.2e , $\\gamma_{||}=$ %s , $D_0=$ %s, $A=$ %.1f \\n |E|(blue), Im($E_x$) (Green), Im($E_y$) (Red)\" % (m,wf_real, Dphi0, w_res ,k,mu, d, g, D0, a), fontsize=11, transform=ax1.transAxes)   \n",
    "plt.subplots_adjust(bottom=0.22)\n",
    "plt.legend(fontsize = 'medium')\n",
    "fig2.set_size_inches(10, 5)\n",
    "\n",
    "if save==True: \n",
    "    fname='%d_%d_%d-%d.%d.%d-Im(E).png' % localtime()[0:6]\n",
    "    fig2.savefig(fname) "
   ]
  },
  {
   "cell_type": "markdown",
   "metadata": {
    "collapsed": false,
    "scrolled": true
   },
   "source": [
    "'''codigo para comparar dos trayectorias cercanas'''\n",
    "\n",
    "y1, time=int(yinit1,time,k,mu,Dphi0,d,g,D0,m,wf)\n",
    "\n",
    "'''intensitys'''\n",
    "intensity1_ex=np.sqrt(y1[:,0]**2+y1[:,1]**2)\n",
    "intensity1_ey=np.sqrt(y1[:,2]**2+y1[:,3]**2)\n",
    "intensity1=np.sqrt(y1[:,0]**2+y1[:,1]**2+y1[:,2]**2+y1[:,3]**2)\n",
    "\n",
    "'''plot para comparar dos trayectorias cercanas'''\n",
    "fig9=plt.figure()\n",
    "fig9.suptitle('|E| vs time', fontsize=12, fontweight='bold')\n",
    "ax1 = fig9.add_subplot(111)\n",
    "#plt.plot(time*scale,intensity_ex,'g', alpha=0.7,  label='$|E_x|$')\n",
    "#plt.plot(time*scale,intensity1_ex,'r', alpha=0.6,  label='$|E_x|$')\n",
    "plt.plot(time*scale,intensity,'b', label='$|E|$')\n",
    "plt.plot(time*scale,intensity1,'r',  label='$|E|$')\n",
    "ax1.set_xlabel('time($\\mu s$)')\n",
    "ax1.set_ylabel('|E| ')\n",
    "plt.xlim(min(time*scale), max(time*scale))\n",
    "plt.text(-0.1,-.33, \"\\n Parameters: $m= $ %s , $w_{mod}$= %.2f khz , $\\Delta \\phi_0=$ %s ,  $\\Omega=$ %.2f khz \\n $k$=%.2f khz, $\\mu'=$ %s , $\\delta= $ %.2e , $\\gamma_{||}=$ %s , $D_0=$ %s, $A=$ %.1f \\n |E|(blue), |$E_x$| (Green), |$E_y$| (Red)\" % (m,wf_real, Dphi0, w_res ,k,mu, d, g, D0, a), fontsize=11, transform=ax1.transAxes)   \n",
    "plt.subplots_adjust(bottom=0.22)\n",
    "plt.legend(fontsize = 'medium')\n",
    "fig9.set_size_inches(14, 5)\n",
    "if save==True: \n",
    "    fname='%d_%d_%d-%d.%d.%d-Near_trayectorys.png' % localtime()[0:6]\n",
    "    fig9.savefig(fname, dpi = 100)# when saving, specify the DPI\n",
    "    \n",
    "fig9=plt.figure()\n",
    "fig9.suptitle('Trayectory difference', fontsize=12, fontweight='bold')\n",
    "ax1 = fig9.add_subplot(111)\n",
    "#plt.plot(time*scale,intensity_ex,'g', alpha=0.7,  label='$|E_x|$')\n",
    "#plt.plot(time*scale,intensity1_ex,'r', alpha=0.6,  label='$|E_x|$')\n",
    "plt.plot(time*scale,intensity-intensity1,'r', alpha=0.4, label='$|E|-|\\hat{E}|$')\n",
    "ax1.set_xlabel('time($\\mu s$)')\n",
    "ax1.set_ylabel('Trayectory difference $|E|-|\\hat{E}|$' )\n",
    "plt.xlim(min(time*scale), max(time*scale))\n",
    "plt.text(-0.1,-.33, \"\\n Parameters: $m= $ %s , $w_{mod}$= %.2f khz , $\\Delta \\phi_0=$ %s ,  $\\Omega=$ %.2f khz \\n $k$=%.2f khz, $\\mu'=$ %s , $\\delta= $ %.2e , $\\gamma_{||}=$ %s , $D_0=$ %s, $A=$ %.1f \\n |E|(blue), |$E_x$| (Green), |$E_y$| (Red)\" % (m,wf_real, Dphi0, w_res ,k,mu, d, g, D0, a), fontsize=11, transform=ax1.transAxes)   \n",
    "plt.subplots_adjust(bottom=0.22)\n",
    "plt.legend(fontsize = 'medium')\n",
    "fig9.set_size_inches(14, 5)\n",
    "if save==True: \n",
    "    fname='%d_%d_%d-%d.%d.%d-Trayectory_dif.png' % localtime()[0:6]\n",
    "    fig9.savefig(fname, dpi = 100)# when saving, specify the DPI"
   ]
  },
  {
   "cell_type": "code",
   "execution_count": null,
   "metadata": {
    "collapsed": true,
    "scrolled": true
   },
   "outputs": [],
   "source": [
    "#fig5=plt.figure()\n",
    "#ax1 = fig5.add_subplot(111)\n",
    "#f1=plt.plot(time,y[:,0])\n",
    "#f1=plt.plot(time,y[:,2])\n",
    "#fig5.suptitle('E_x  & E_y vs tiempo', fontsize=12, fontweight='bold')\n",
    "#ax1.set_xlabel('time(ms) ')\n",
    "#ax1.set_ylabel('E ')\n",
    "#plt.xlim(min(time), max(time))\n",
    "#plt.text(-0.1,-1.04, \"\\n Parameters: $m= $ %s , $w_{mod}$= %.2f khz , $\\Delta \\phi_0=$ %s ,  $\\Omega=$ %f khz \\n $k$=%.2f khz, $\\mu'=$ %s , $\\delta= $ %.2e , $\\gamma_{||}=$ %s , $D_0=$ %s, $A=$ %.1f \" % (m,wf, Dphi0, w_res ,k,mu, d, g, D0, a), fontsize=11, transform=ax3.transAxes)   \n",
    "#plt.subplots_adjust(bottom=0.22)\n",
    "#fig1.savefig('moduloE_fasemodulada.png')\n"
   ]
  },
  {
   "cell_type": "code",
   "execution_count": null,
   "metadata": {
    "collapsed": false,
    "scrolled": true
   },
   "outputs": [],
   "source": [
    "'''comparison between the solution with and without modulation'''\n",
    "def comp():\n",
    "    comparembfase(y,yinit,time,k,mu,Dphi0,d,g,D0,m,wf)\n",
    "\n",
    "#comp()"
   ]
  },
  {
   "cell_type": "markdown",
   "metadata": {},
   "source": [
    "Notebook style:"
   ]
  },
  {
   "cell_type": "code",
   "execution_count": null,
   "metadata": {
    "collapsed": false,
    "scrolled": true
   },
   "outputs": [],
   "source": [
    "from IPython.core.display import HTML\n",
    "import urllib2\n",
    "HTML(urllib2.urlopen('http://bit.ly/1Bf5Hft').read())"
   ]
  },
  {
   "cell_type": "raw",
   "metadata": {
    "collapsed": false
   },
   "source": [
    "import plotly\n",
    "import plotly.plotly as py\n",
    "import plotly.graph_objs as go\n",
    "from plotly import tools\n",
    "\n",
    "print plotly.__version__\n",
    "plotly.offline.init_notebook_mode()\n",
    "#import plotly.tools as tls\n",
    "#py.sign_in('your_username','your_api_key')"
   ]
  },
  {
   "cell_type": "code",
   "execution_count": null,
   "metadata": {
    "collapsed": false,
    "scrolled": false
   },
   "outputs": [],
   "source": []
  },
  {
   "cell_type": "code",
   "execution_count": null,
   "metadata": {
    "collapsed": false,
    "scrolled": true
   },
   "outputs": [],
   "source": []
  },
  {
   "cell_type": "raw",
   "metadata": {
    "collapsed": false
   },
   "source": [
    "periods=10\n",
    "#plotly.offline.iplot([dict(x=time*scale, y=np.cos(wf*time))] )\n",
    "#plotly.offline.iplot([dict(x=time*scale, y=intensity)] )\n",
    "#plotly.offline.iplot([dict(x=time*scale, y=intensity)] )\n",
    "\n",
    "fig = tools.make_subplots(rows=3, cols=1, subplot_titles=('', '',''))\n",
    "\n",
    "fig.append_trace(go.Scatter(x=time*scale, y=np.cos(wf*time)), 1, 1)\n",
    "fig.append_trace(go.Scatter(x=time*scale, y=intensity), 2, 1)\n",
    "fig.append_trace(go.Scatter(x=time*scale, y=intensity), 3, 1)\n",
    "\n",
    "# All of the axes properties \n",
    "fig['layout']['xaxis1'].update(title='time($\\mu x$)', range=[min(time*scale), min(time*scale)+(periods*2*pi/wf)*scale], showgrid=False)\n",
    "fig['layout']['xaxis2'].update(title='time($\\mu x$)', range=[min(time*scale), min(time*scale)+(periods*2*pi/wf)*scale], showgrid=False)\n",
    "fig['layout']['xaxis3'].update(title='time($\\mu x$)', range=[max(time*scale)-(periods*2*pi/wf)*scale, max(time*scale)], showgrid=False)\n",
    "fig['layout']['yaxis1'].update(title='Modulation', showgrid=False)\n",
    "fig['layout']['yaxis2'].update(title='|E|', showgrid=False)\n",
    "fig['layout']['yaxis3'].update(title='|E|', showgrid=False)\n",
    "\n",
    "fig['layout'].update(height=600, width=600, title='Comparison between |E| and the Modulation')\n",
    "plot= plotly.offline.iplot(fig)\n"
   ]
  },
  {
   "cell_type": "code",
   "execution_count": null,
   "metadata": {
    "collapsed": true,
    "scrolled": true
   },
   "outputs": [],
   "source": []
  },
  {
   "cell_type": "markdown",
   "metadata": {
    "collapsed": true
   },
   "source": [
    "a hacer:\n",
    "    \n",
    "    - barrido en frecuencia hacia la resonancia.\n",
    "    - barrido en m, en la frecuencia de resonancia.\n",
    "    - mapa de prametros usados"
   ]
  },
  {
   "cell_type": "code",
   "execution_count": null,
   "metadata": {
    "collapsed": true,
    "scrolled": true
   },
   "outputs": [],
   "source": []
  },
  {
   "cell_type": "code",
   "execution_count": null,
   "metadata": {
    "collapsed": true,
    "scrolled": true
   },
   "outputs": [],
   "source": []
  },
  {
   "cell_type": "code",
   "execution_count": null,
   "metadata": {
    "collapsed": true,
    "scrolled": true
   },
   "outputs": [],
   "source": []
  }
 ],
 "metadata": {
  "kernelspec": {
   "display_name": "Python 2",
   "language": "python",
   "name": "python2"
  },
  "language_info": {
   "codemirror_mode": {
    "name": "ipython",
    "version": 2
   },
   "file_extension": ".py",
   "mimetype": "text/x-python",
   "name": "python",
   "nbconvert_exporter": "python",
   "pygments_lexer": "ipython2",
   "version": "2.7.11"
  }
 },
 "nbformat": 4,
 "nbformat_minor": 0
}
